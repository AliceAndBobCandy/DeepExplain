{
 "cells": [
  {
   "cell_type": "markdown",
   "metadata": {
    "collapsed": true
   },
   "source": [
    "## Example: MNIST using a MLP on Tensorflow"
   ]
  },
  {
   "cell_type": "code",
   "execution_count": 1,
   "metadata": {
    "collapsed": false
   },
   "outputs": [
    {
     "name": "stdout",
     "output_type": "stream",
     "text": [
      "Extracting /tmp/train-images-idx3-ubyte.gz\n",
      "Extracting /tmp/train-labels-idx1-ubyte.gz\n",
      "Extracting /tmp/t10k-images-idx3-ubyte.gz\n",
      "Extracting /tmp/t10k-labels-idx1-ubyte.gz\n"
     ]
    }
   ],
   "source": [
    "from __future__ import absolute_import\n",
    "from __future__ import division\n",
    "from __future__ import print_function\n",
    "\n",
    "import tempfile, sys, os\n",
    "sys.path.insert(0, os.path.abspath('..'))\n",
    "\n",
    "from tensorflow.examples.tutorials.mnist import input_data\n",
    "import tensorflow as tf\n",
    "\n",
    "# Download and import MNIST data\n",
    "tmp_dir = tempfile.gettempdir()\n",
    "mnist = input_data.read_data_sets(tmp_dir, one_hot=True)"
   ]
  },
  {
   "cell_type": "code",
   "execution_count": 2,
   "metadata": {
    "collapsed": true
   },
   "outputs": [],
   "source": [
    "# Parameters\n",
    "learning_rate = 0.005\n",
    "num_steps = 2000\n",
    "batch_size = 128\n",
    "\n",
    "# Network Parameters\n",
    "n_hidden_1 = 256 # 1st layer number of neurons\n",
    "n_hidden_2 = 256 # 2nd layer number of neurons\n",
    "num_input = 784 # MNIST data input (img shape: 28*28)\n",
    "num_classes = 10 # MNIST total classes (0-9 digits)\n",
    "\n",
    "# tf Graph input\n",
    "X = tf.placeholder(\"float\", [None, num_input])\n",
    "Y = tf.placeholder(\"float\", [None, num_classes])\n",
    "\n",
    "# Store layers weight & bias\n",
    "weights = {\n",
    "    'h1': tf.Variable(tf.random_normal([num_input, n_hidden_1], mean=0.0, stddev=0.05)),\n",
    "    'h2': tf.Variable(tf.random_normal([n_hidden_1, n_hidden_2], mean=0.0, stddev=0.05)),\n",
    "    'out': tf.Variable(tf.random_normal([n_hidden_2, num_classes], mean=0.0, stddev=0.05))\n",
    "}\n",
    "biases = {\n",
    "    'b1': tf.Variable(tf.zeros([n_hidden_1])),\n",
    "    'b2': tf.Variable(tf.zeros([n_hidden_2])),\n",
    "    'out': tf.Variable(tf.zeros([num_classes]))\n",
    "}"
   ]
  },
  {
   "cell_type": "code",
   "execution_count": 3,
   "metadata": {
    "collapsed": false
   },
   "outputs": [
    {
     "name": "stdout",
     "output_type": "stream",
     "text": [
      "Step 1, Minibatch Loss= 3.0997, Training Accuracy= 0.180\n",
      "Step 100, Minibatch Loss= 0.3512, Training Accuracy= 0.930\n",
      "Step 200, Minibatch Loss= 0.2480, Training Accuracy= 0.922\n",
      "Step 300, Minibatch Loss= 0.2972, Training Accuracy= 0.906\n",
      "Step 400, Minibatch Loss= 0.2299, Training Accuracy= 0.938\n",
      "Step 500, Minibatch Loss= 0.1475, Training Accuracy= 0.953\n",
      "Step 600, Minibatch Loss= 0.1140, Training Accuracy= 0.961\n",
      "Step 700, Minibatch Loss= 0.1326, Training Accuracy= 0.945\n",
      "Step 800, Minibatch Loss= 0.1689, Training Accuracy= 0.938\n",
      "Step 900, Minibatch Loss= 0.1300, Training Accuracy= 0.953\n",
      "Step 1000, Minibatch Loss= 0.2197, Training Accuracy= 0.930\n",
      "Step 1100, Minibatch Loss= 0.0796, Training Accuracy= 0.961\n",
      "Step 1200, Minibatch Loss= 0.0668, Training Accuracy= 0.977\n",
      "Step 1300, Minibatch Loss= 0.1000, Training Accuracy= 0.969\n",
      "Step 1400, Minibatch Loss= 0.0673, Training Accuracy= 0.992\n",
      "Step 1500, Minibatch Loss= 0.1093, Training Accuracy= 0.961\n",
      "Step 1600, Minibatch Loss= 0.1038, Training Accuracy= 0.969\n",
      "Step 1700, Minibatch Loss= 0.0930, Training Accuracy= 0.969\n",
      "Step 1800, Minibatch Loss= 0.0150, Training Accuracy= 1.000\n",
      "Step 1900, Minibatch Loss= 0.0803, Training Accuracy= 0.969\n",
      "Step 2000, Minibatch Loss= 0.0671, Training Accuracy= 0.977\n",
      "Done\n",
      "Test accuracy: 0.9562\n"
     ]
    }
   ],
   "source": [
    "# Create and train model\n",
    "def model(x, act=tf.nn.relu):  # < different activation functions lead to different explanations\n",
    "    layer_1 = act(tf.add(tf.matmul(x, weights['h1']), biases['b1']))\n",
    "    layer_2 = act(tf.add(tf.matmul(layer_1, weights['h2']), biases['b2']))\n",
    "    out_layer = tf.matmul(layer_2, weights['out']) + biases['out']\n",
    "    return out_layer\n",
    "\n",
    "# Construct model\n",
    "logits = model(X)\n",
    "\n",
    "# Define loss and optimizer\n",
    "loss_op = tf.reduce_mean(tf.nn.softmax_cross_entropy_with_logits(\n",
    "    logits=logits, labels=Y))\n",
    "optimizer = tf.train.AdamOptimizer(learning_rate=learning_rate)\n",
    "train_op = optimizer.minimize(loss_op)\n",
    "\n",
    "# Evaluate model (with test logits, for dropout to be disabled)\n",
    "correct_pred = tf.equal(tf.argmax(logits, 1), tf.argmax(Y, 1))\n",
    "accuracy = tf.reduce_mean(tf.cast(correct_pred, tf.float32))\n",
    "\n",
    "# Initialize the variables (i.e. assign their default value)\n",
    "init = tf.global_variables_initializer()\n",
    "\n",
    "# Train\n",
    "def input_transform (x): \n",
    "    return (x - 0.5) *  2\n",
    "\n",
    "sess = tf.Session()\n",
    "\n",
    "# Run the initializer\n",
    "sess.run(init)\n",
    "\n",
    "for step in range(1, num_steps+1):\n",
    "    batch_x, batch_y = mnist.train.next_batch(batch_size)\n",
    "    batch_x = input_transform(batch_x)\n",
    "    # Run optimization op (backprop)\n",
    "    sess.run(train_op, feed_dict={X: batch_x, Y: batch_y})\n",
    "    if step % 100 == 0 or step == 1:\n",
    "        # Calculate batch loss and accuracy\n",
    "        loss, acc = sess.run([loss_op, accuracy], feed_dict={X: batch_x,\n",
    "                                                             Y: batch_y})\n",
    "        print(\"Step \" + str(step) + \", Minibatch Loss= \" + \\\n",
    "              \"{:.4f}\".format(loss) + \", Training Accuracy= \" + \\\n",
    "              \"{:.3f}\".format(acc))\n",
    "\n",
    "print(\"Done\")\n",
    "\n",
    "# Calculate accuracy for MNIST test images\n",
    "test_x = input_transform(mnist.test.images)\n",
    "test_y = mnist.test.labels\n",
    "\n",
    "print(\"Test accuracy:\", \\\n",
    "    sess.run(accuracy, feed_dict={X: test_x, Y: test_y}))"
   ]
  },
  {
   "cell_type": "markdown",
   "metadata": {},
   "source": [
    "### Use DeepExplain to find attributions for each input pixel"
   ]
  },
  {
   "cell_type": "code",
   "execution_count": 4,
   "metadata": {
    "collapsed": false
   },
   "outputs": [],
   "source": [
    "# Define some plot util\n",
    "%matplotlib inline\n",
    "from skimage import feature, transform\n",
    "import matplotlib\n",
    "import numpy as np\n",
    "import matplotlib.pyplot as plt\n",
    "\n",
    "def plot(data, xi=None, cmap='RdBu_r', axis=plt, percentile=99.5):\n",
    "    dx, dy = 0.05, 0.05\n",
    "    xx = np.arange(0.0, data.shape[1], dx)\n",
    "    yy = np.arange(0.0, data.shape[0], dy)\n",
    "    xmin, xmax, ymin, ymax = np.amin(xx), np.amax(xx), np.amin(yy), np.amax(yy)\n",
    "    extent = xmin, xmax, ymin, ymax\n",
    "    cmap_xi = plt.get_cmap('Greys_r')\n",
    "    cmap_xi.set_bad(alpha=0)\n",
    "    overlay = None\n",
    "    if xi is not None:\n",
    "        # Compute edges (to overlay to heatmaps later)\n",
    "        xi_greyscale = xi if len(xi.shape) == 2 else np.mean(xi, axis=-1)\n",
    "        in_image_upscaled = transform.rescale(xi_greyscale, 3, mode='constant')\n",
    "        edges = feature.canny(in_image_upscaled).astype(float)\n",
    "        edges[edges < 0.5] = np.nan\n",
    "        edges[:5, :] = np.nan\n",
    "        edges[-5:, :] = np.nan\n",
    "        edges[:, :5] = np.nan\n",
    "        edges[:, -5:] = np.nan\n",
    "        overlay = edges\n",
    "        \n",
    "    abs_max = np.percentile(np.abs(data), percentile)\n",
    "    abs_min = abs_max\n",
    "\n",
    "    if len(data.shape) == 3:\n",
    "        data = np.mean(data, 2)\n",
    "    plt_im = axis.imshow(data, extent=extent, interpolation='none', cmap=cmap, vmin=-abs_min, vmax=abs_max)\n",
    "    if overlay is not None:\n",
    "        axis.imshow(overlay, extent=extent, interpolation='none', cmap=cmap_xi, alpha=0.8)\n",
    "    axis.axis('off') \n",
    "    return axis"
   ]
  },
  {
   "cell_type": "code",
   "execution_count": 8,
   "metadata": {
    "collapsed": false
   },
   "outputs": [
    {
     "name": "stdout",
     "output_type": "stream",
     "text": [
      "DeepExplain: running \"saliency\" explanation method (1)\n",
      "DeepExplain: running \"grad*input\" explanation method (2)\n",
      "DeepExplain: running \"intgrad\" explanation method (3)\n",
      "DeepExplain: running \"elrp\" explanation method (4)\n",
      "DeepExplain: running \"deeplift\" explanation method (5)\n",
      "DeepExplain: running \"occlusion\" explanation method (6)\n",
      "Input shape: (784,); window_shape (1,); step 1\n",
      "DeepExplain: running \"occlusion\" explanation method (6)\n",
      "Input shape: (784,); window_shape (3,); step 1\n",
      "Done\n"
     ]
    },
    {
     "data": {
      "image/png": "[encoded data removed]",
      "text/plain": [
       "<matplotlib.figure.Figure at 0x7f3dfef5a6d8>"
      ]
     },
     "metadata": {},
     "output_type": "display_data"
    }
   ],
   "source": [
    "# Import DeepExplain\n",
    "from deepexplain.tensorflow import DeepExplain\n",
    "\n",
    "# Define the input to be tested\n",
    "test_idx = 13\n",
    "xi = test_x[[test_idx]]\n",
    "yi = test_y[test_idx] \n",
    "\n",
    "# Create a DeepExplain context. \n",
    "# IMPORTANT: the network must be created within this context.\n",
    "# In this example we have trained the network before, so we call `model(X)` to \n",
    "# recreate the network graph using the same weights that have been already trained.\n",
    "with DeepExplain(session=sess) as de:\n",
    "    logits = model(X)\n",
    "    # We run `explain()` several time to compare different attribution methods\n",
    "    attributions = {\n",
    "        # Gradient-based\n",
    "        'Saliency maps':        de.explain('saliency', logits * yi, X, xi),\n",
    "        'Gradient * Input':     de.explain('grad*input', logits * yi, X, xi),\n",
    "        'Integrated Gradients': de.explain('intgrad', logits * yi, X, xi),\n",
    "        'Epsilon-LRP':          de.explain('elrp', logits * yi, X, xi),\n",
    "        'DeepLIFT (Rescale)':   de.explain('deeplift', logits * yi, X, xi),\n",
    "        #Perturbation-based\n",
    "        '_Occlusion [1x1]':      de.explain('occlusion', logits * yi, X, xi),\n",
    "        '_Occlusion [3x3]':      de.explain('occlusion', logits * yi, X, xi, window_shape=(3,))\n",
    "    }\n",
    "    print ('Done')\n",
    "\n",
    "# Plot attributions\n",
    "n_cols = len(attributions) + 1\n",
    "fig, axes = plt.subplots(nrows=1, ncols=n_cols, figsize=(3*n_cols, 3))\n",
    "plot(xi.reshape(28, 28), cmap='Greys', axis=axes[0]).set_title('Original')\n",
    "for i, method_name in enumerate(sorted(attributions.keys())):\n",
    "    plot(attributions[method_name].reshape(28,28), xi = xi.reshape(28, 28), axis=axes[1+i]).set_title(method_name)"
   ]
  }
 ],
 "metadata": {
  "kernelspec": {
   "display_name": "Python 3",
   "language": "python",
   "name": "python3"
  },
  "language_info": {
   "codemirror_mode": {
    "name": "ipython",
    "version": 3
   },
   "file_extension": ".py",
   "mimetype": "text/x-python",
   "name": "python",
   "nbconvert_exporter": "python",
   "pygments_lexer": "ipython3",
   "version": "3.5.2"
  }
 },
 "nbformat": 4,
 "nbformat_minor": 0
}
