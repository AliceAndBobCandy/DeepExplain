{
 "cells": [
  {
   "cell_type": "code",
   "execution_count": 44,
   "metadata": {
    "collapsed": false
   },
   "outputs": [
    {
     "name": "stdout",
     "output_type": "stream",
     "text": [
      "__________________________________________________________________________________________________\n",
      "Layer (type)                    Output Shape         Param #     Connected to                     \n",
      "==================================================================================================\n",
      "input_32 (InputLayer)           (None, 2)            0                                            \n",
      "__________________________________________________________________________________________________\n",
      "dense_82 (Dense)                (None, 20)           60          input_32[0][0]                   \n",
      "__________________________________________________________________________________________________\n",
      "dense_81 (Dense)                (None, 10)           210         dense_82[0][0]                   \n",
      "                                                                 dense_82[0][0]                   \n",
      "__________________________________________________________________________________________________\n",
      "add_34 (Add)                    (None, 10)           0           dense_81[0][0]                   \n",
      "                                                                 dense_81[1][0]                   \n",
      "                                                                 add_34[0][0]                     \n",
      "                                                                 dense_81[0][0]                   \n",
      "==================================================================================================\n",
      "Total params: 270\n",
      "Trainable params: 270\n",
      "Non-trainable params: 0\n",
      "__________________________________________________________________________________________________\n"
     ]
    },
    {
     "data": {
      "text/plain": [
       "True"
      ]
     },
     "execution_count": 44,
     "metadata": {},
     "output_type": "execute_result"
    }
   ],
   "source": [
    "import os\n",
    "os.environ[\"CUDA_DEVICE_ORDER\"] = \"PCI_BUS_ID\"   # see issue #152\n",
    "os.environ[\"CUDA_VISIBLE_DEVICES\"] = \"\"\n",
    "import keras\n",
    "import numpy as np\n",
    "from keras.models import Sequential, Model\n",
    "from keras.layers import Dense, Add, Input\n",
    "\n",
    "d = Dense(10)\n",
    "add = Add()\n",
    "x = Input(shape=(2,))\n",
    "y = Dense(20)(x)\n",
    "y1 = d(y)\n",
    "y2 = d(y)\n",
    "y = add([y1, y2])\n",
    "y = add([y, y1])\n",
    "m = Model(inputs=x, outputs=y)\n",
    "\n",
    "m.compile(optimizer='rmsprop', loss='mse')\n",
    "#m.predict(np.array([[1, 2]]))\n",
    "m.summary()\n",
    "type(m.layers[3].get_input_at(0)) == list"
   ]
  }
 ],
 "metadata": {
  "kernelspec": {
   "display_name": "Python 3",
   "language": "python",
   "name": "python3"
  },
  "language_info": {
   "codemirror_mode": {
    "name": "ipython",
    "version": 3
   },
   "file_extension": ".py",
   "mimetype": "text/x-python",
   "name": "python",
   "nbconvert_exporter": "python",
   "pygments_lexer": "ipython3",
   "version": "3.6.7"
  }
 },
 "nbformat": 4,
 "nbformat_minor": 2
}
