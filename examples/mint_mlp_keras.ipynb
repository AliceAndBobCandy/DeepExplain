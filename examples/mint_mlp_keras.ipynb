{
 "cells": [
  {
   "cell_type": "code",
   "execution_count": 1,
   "metadata": {},
   "outputs": [],
   "source": [
    "## DeepExplain - Keras (TF backend) example\n",
    "### MNIST with CNN"
   ]
  },
  {
   "cell_type": "code",
   "execution_count": 2,
   "metadata": {},
   "outputs": [
    {
     "name": "stderr",
     "output_type": "stream",
     "text": [
      "/Library/Frameworks/Python.framework/Versions/3.6/lib/python3.6/site-packages/h5py/__init__.py:36: FutureWarning: Conversion of the second argument of issubdtype from `float` to `np.floating` is deprecated. In future, it will be treated as `np.float64 == np.dtype(float).type`.\n",
      "  from ._conv import register_converters as _register_converters\n",
      "Using TensorFlow backend.\n"
     ]
    }
   ],
   "source": [
    "from __future__ import absolute_import\n",
    "from __future__ import division\n",
    "from __future__ import print_function\n",
    "\n",
    "import tempfile, sys, os\n",
    "sys.path.insert(0, os.path.abspath('..'))\n",
    "\n",
    "import keras\n",
    "from keras.datasets import mnist\n",
    "from keras.models import Sequential, Model\n",
    "from keras.layers import Dense, Dropout, Flatten, Activation\n",
    "from keras.layers import Conv2D, MaxPooling2D\n",
    "from keras import backend as K\n",
    "\n",
    "# Import DeepExplain\n",
    "from deepexplain.tensorflow import DeepExplain"
   ]
  },
  {
   "cell_type": "code",
   "execution_count": 3,
   "metadata": {},
   "outputs": [
    {
     "name": "stdout",
     "output_type": "stream",
     "text": [
      "x_train shape: (60000, 784)\n",
      "60000 train samples\n",
      "10000 test samples\n",
      "Train on 60000 samples, validate on 10000 samples\n",
      "Epoch 1/3\n",
      "60000/60000 [==============================] - 1s 24us/step - loss: 0.4560 - acc: 0.8608 - val_loss: 0.2486 - val_acc: 0.9272\n",
      "Epoch 2/3\n",
      "60000/60000 [==============================] - 1s 22us/step - loss: 0.2255 - acc: 0.9326 - val_loss: 0.1908 - val_acc: 0.9423\n",
      "Epoch 3/3\n",
      "60000/60000 [==============================] - 1s 22us/step - loss: 0.1730 - acc: 0.9484 - val_loss: 0.1517 - val_acc: 0.9536\n"
     ]
    },
    {
     "data": {
      "text/plain": [
       "<keras.callbacks.History at 0x110c44cf8>"
      ]
     },
     "execution_count": 3,
     "metadata": {},
     "output_type": "execute_result"
    }
   ],
   "source": [
    "# Build and train a network.\n",
    "\n",
    "batch_size = 128\n",
    "num_classes = 10\n",
    "epochs = 3\n",
    "\n",
    "# input image dimensions\n",
    "img_rows, img_cols = 28, 28\n",
    "\n",
    "# the data, shuffled and split between train and test sets\n",
    "(x_train, y_train), (x_test, y_test) = mnist.load_data()\n",
    "\n",
    "x_train = x_train.reshape(-1, 28*28)\n",
    "x_test = x_test.reshape(-1, 28*28)\n",
    "x_train = x_train.astype('float32')\n",
    "x_test = x_test.astype('float32')\n",
    "x_train /= 255\n",
    "x_test /= 255\n",
    "x_train = (x_train - 0.5) * 2\n",
    "x_test = (x_test - 0.5) * 2\n",
    "print('x_train shape:', x_train.shape)\n",
    "print(x_train.shape[0], 'train samples')\n",
    "print(x_test.shape[0], 'test samples')\n",
    "\n",
    "# convert class vectors to binary class matrices\n",
    "y_train = keras.utils.to_categorical(y_train, num_classes)\n",
    "y_test = keras.utils.to_categorical(y_test, num_classes)\n",
    "\n",
    "\n",
    "model = Sequential()\n",
    "model.add(Dense(64, input_shape=(28*28,), activation='relu'))\n",
    "model.add(Dense(num_classes))\n",
    "model.add(Activation('softmax'))\n",
    "# ^ IMPORTANT: notice that the final softmax must be in its own layer \n",
    "# if we want to target pre-softmax units\n",
    "\n",
    "model.compile(loss=keras.losses.categorical_crossentropy,\n",
    "              optimizer=keras.optimizers.Adadelta(),\n",
    "              metrics=['accuracy'])\n",
    "\n",
    "model.fit(x_train, y_train,\n",
    "          batch_size=batch_size,\n",
    "          epochs=epochs,\n",
    "          verbose=1,\n",
    "          validation_data=(x_test, y_test))\n",
    "#score = model.evaluate(x_test, y_test, verbose=0)\n",
    "#print('Test loss:', score[0])\n",
    "#print('Test accuracy:', score[1])"
   ]
  },
  {
   "cell_type": "code",
   "execution_count": 6,
   "metadata": {},
   "outputs": [
    {
     "name": "stdout",
     "output_type": "stream",
     "text": [
      "{'Relu': 'DeepExplainGrad', 'Elu': 'DeepExplainGrad', 'Sigmoid': 'DeepExplainGrad', 'Tanh': 'DeepExplainGrad', 'Softplus': 'DeepExplainGrad', 'MatMul': 'MatMulDeepExplainGrad'}\n",
      "DeepExplain: running \"deeplift\" explanation method (5)\n",
      "Model with multiple inputs:  False\n",
      "DeepLIFT: computing references...\n",
      "[<tf.Operation 'dense_1/Relu' type=Relu>, <tf.Operation 'model_1/dense_1/Relu' type=Relu>, <tf.Operation 'model_2/dense_1/Relu' type=Relu>]\n",
      "[[0. 0. 0. 0. 0. 0. 0. 0. 0. 0. 0. 0. 0. 0. 0. 0. 0. 0. 0. 0. 0. 0. 0. 0.\n",
      "  0. 0. 0. 0. 0. 0. 0. 0. 0. 0. 0. 0. 0. 0. 0. 0. 0. 0. 0. 0. 0. 0. 0. 0.\n",
      "  0. 0. 0. 0. 0. 0. 0. 0. 0. 0. 0. 0. 0. 0. 0. 0. 0. 0. 0. 0. 0. 0. 0. 0.\n",
      "  0. 0. 0. 0. 0. 0. 0. 0. 0. 0. 0. 0. 0. 0. 0. 0. 0. 0. 0. 0. 0. 0. 0. 0.\n",
      "  0. 0. 0. 0. 0. 0. 0. 0. 0. 0. 0. 0. 0. 0. 0. 0. 0. 0. 0. 0. 0. 0. 0. 0.\n",
      "  0. 0. 0. 0. 0. 0. 0. 0. 0. 0. 0. 0. 0. 0. 0. 0. 0. 0. 0. 0. 0. 0. 0. 0.\n",
      "  0. 0. 0. 0. 0. 0. 0. 0. 0. 0. 0. 0. 0. 0. 0. 0. 0. 0. 0. 0. 0. 0. 0. 0.\n",
      "  0. 0. 0. 0. 0. 0. 0. 0. 0. 0. 0. 0. 0. 0. 0. 0. 0. 0. 0. 0. 0. 0. 0. 0.\n",
      "  0. 0. 0. 0. 0. 0. 0. 0. 0. 0. 0. 0. 0. 0. 0. 0. 0. 0. 0. 0. 0. 0. 0. 0.\n",
      "  0. 0. 0. 0. 0. 0. 0. 0. 0. 0. 0. 0. 0. 0. 0. 0. 0. 0. 0. 0. 0. 0. 0. 0.\n",
      "  0. 0. 0. 0. 0. 0. 0. 0. 0. 0. 0. 0. 0. 0. 0. 0. 0. 0. 0. 0. 0. 0. 0. 0.\n",
      "  0. 0. 0. 0. 0. 0. 0. 0. 0. 0. 0. 0. 0. 0. 0. 0. 0. 0. 0. 0. 0. 0. 0. 0.\n",
      "  0. 0. 0. 0. 0. 0. 0. 0. 0. 0. 0. 0. 0. 0. 0. 0. 0. 0. 0. 0. 0. 0. 0. 0.\n",
      "  0. 0. 0. 0. 0. 0. 0. 0. 0. 0. 0. 0. 0. 0. 0. 0. 0. 0. 0. 0. 0. 0. 0. 0.\n",
      "  0. 0. 0. 0. 0. 0. 0. 0. 0. 0. 0. 0. 0. 0. 0. 0. 0. 0. 0. 0. 0. 0. 0. 0.\n",
      "  0. 0. 0. 0. 0. 0. 0. 0. 0. 0. 0. 0. 0. 0. 0. 0. 0. 0. 0. 0. 0. 0. 0. 0.\n",
      "  0. 0. 0. 0. 0. 0. 0. 0. 0. 0. 0. 0. 0. 0. 0. 0. 0. 0. 0. 0. 0. 0. 0. 0.\n",
      "  0. 0. 0. 0. 0. 0. 0. 0. 0. 0. 0. 0. 0. 0. 0. 0. 0. 0. 0. 0. 0. 0. 0. 0.\n",
      "  0. 0. 0. 0. 0. 0. 0. 0. 0. 0. 0. 0. 0. 0. 0. 0. 0. 0. 0. 0. 0. 0. 0. 0.\n",
      "  0. 0. 0. 0. 0. 0. 0. 0. 0. 0. 0. 0. 0. 0. 0. 0. 0. 0. 0. 0. 0. 0. 0. 0.\n",
      "  0. 0. 0. 0. 0. 0. 0. 0. 0. 0. 0. 0. 0. 0. 0. 0. 0. 0. 0. 0. 0. 0. 0. 0.\n",
      "  0. 0. 0. 0. 0. 0. 0. 0. 0. 0. 0. 0. 0. 0. 0. 0. 0. 0. 0. 0. 0. 0. 0. 0.\n",
      "  0. 0. 0. 0. 0. 0. 0. 0. 0. 0. 0. 0. 0. 0. 0. 0. 0. 0. 0. 0. 0. 0. 0. 0.\n",
      "  0. 0. 0. 0. 0. 0. 0. 0. 0. 0. 0. 0. 0. 0. 0. 0. 0. 0. 0. 0. 0. 0. 0. 0.\n",
      "  0. 0. 0. 0. 0. 0. 0. 0. 0. 0. 0. 0. 0. 0. 0. 0. 0. 0. 0. 0. 0. 0. 0. 0.\n",
      "  0. 0. 0. 0. 0. 0. 0. 0. 0. 0. 0. 0. 0. 0. 0. 0. 0. 0. 0. 0. 0. 0. 0. 0.\n",
      "  0. 0. 0. 0. 0. 0. 0. 0. 0. 0. 0. 0. 0. 0. 0. 0. 0. 0. 0. 0. 0. 0. 0. 0.\n",
      "  0. 0. 0. 0. 0. 0. 0. 0. 0. 0. 0. 0. 0. 0. 0. 0. 0. 0. 0. 0. 0. 0. 0. 0.\n",
      "  0. 0. 0. 0. 0. 0. 0. 0. 0. 0. 0. 0. 0. 0. 0. 0. 0. 0. 0. 0. 0. 0. 0. 0.\n",
      "  0. 0. 0. 0. 0. 0. 0. 0. 0. 0. 0. 0. 0. 0. 0. 0. 0. 0. 0. 0. 0. 0. 0. 0.\n",
      "  0. 0. 0. 0. 0. 0. 0. 0. 0. 0. 0. 0. 0. 0. 0. 0. 0. 0. 0. 0. 0. 0. 0. 0.\n",
      "  0. 0. 0. 0. 0. 0. 0. 0. 0. 0. 0. 0. 0. 0. 0. 0. 0. 0. 0. 0. 0. 0. 0. 0.\n",
      "  0. 0. 0. 0. 0. 0. 0. 0. 0. 0. 0. 0. 0. 0. 0. 0.]]\n",
      "{'dense_1/Relu': array([[-3.5257873e-03, -9.9687530e-03, -3.4327679e-03,  5.4856981e-03,\n",
      "        -2.3860009e-03, -3.9335107e-03, -1.8729912e-03, -6.1389152e-03,\n",
      "         3.2475386e-03, -9.8556140e-04,  1.1430808e-02, -5.2354033e-03,\n",
      "         2.1997928e-03,  7.9281889e-03, -4.3562711e-03,  1.6069803e-03,\n",
      "        -1.8807998e-03,  6.9454312e-03, -1.0342950e-02,  4.5372890e-03,\n",
      "        -1.4418813e-03,  6.0224403e-03, -2.7589258e-03,  9.9924777e-04,\n",
      "        -5.8583501e-03,  4.7100568e-03, -7.7593871e-03,  6.4571300e-03,\n",
      "         4.4763554e-05, -4.8732311e-03,  6.8394621e-03, -6.0569784e-03,\n",
      "        -3.6011965e-03, -7.2865626e-03, -4.0916405e-03, -1.2413019e-02,\n",
      "        -3.4011763e-03,  9.6995523e-03,  6.1131772e-03,  5.0129220e-03,\n",
      "         2.6248035e-03,  1.9254646e-04,  4.6200710e-03, -2.6553227e-03,\n",
      "        -1.2789055e-03, -5.6055682e-03, -4.9145818e-03, -4.9828966e-03,\n",
      "         5.1917145e-03,  4.1357866e-03,  4.8116531e-04, -1.7026262e-03,\n",
      "        -7.0337281e-03, -5.2136434e-03,  2.9445139e-03, -5.4636328e-03,\n",
      "        -1.2157764e-02,  1.1219041e-03, -5.8598951e-03, -1.0604701e-02,\n",
      "         1.6174095e-02, -4.8147589e-03, -1.0120081e-03, -3.6831209e-03]],\n",
      "      dtype=float32), 'model_1/dense_1/Relu': array([[-3.5257873e-03, -9.9687530e-03, -3.4327679e-03,  5.4856981e-03,\n",
      "        -2.3860009e-03, -3.9335107e-03, -1.8729912e-03, -6.1389152e-03,\n",
      "         3.2475386e-03, -9.8556140e-04,  1.1430808e-02, -5.2354033e-03,\n",
      "         2.1997928e-03,  7.9281889e-03, -4.3562711e-03,  1.6069803e-03,\n",
      "        -1.8807998e-03,  6.9454312e-03, -1.0342950e-02,  4.5372890e-03,\n",
      "        -1.4418813e-03,  6.0224403e-03, -2.7589258e-03,  9.9924777e-04,\n",
      "        -5.8583501e-03,  4.7100568e-03, -7.7593871e-03,  6.4571300e-03,\n",
      "         4.4763554e-05, -4.8732311e-03,  6.8394621e-03, -6.0569784e-03,\n",
      "        -3.6011965e-03, -7.2865626e-03, -4.0916405e-03, -1.2413019e-02,\n",
      "        -3.4011763e-03,  9.6995523e-03,  6.1131772e-03,  5.0129220e-03,\n",
      "         2.6248035e-03,  1.9254646e-04,  4.6200710e-03, -2.6553227e-03,\n",
      "        -1.2789055e-03, -5.6055682e-03, -4.9145818e-03, -4.9828966e-03,\n",
      "         5.1917145e-03,  4.1357866e-03,  4.8116531e-04, -1.7026262e-03,\n",
      "        -7.0337281e-03, -5.2136434e-03,  2.9445139e-03, -5.4636328e-03,\n",
      "        -1.2157764e-02,  1.1219041e-03, -5.8598951e-03, -1.0604701e-02,\n",
      "         1.6174095e-02, -4.8147589e-03, -1.0120081e-03, -3.6831209e-03]],\n",
      "      dtype=float32), 'model_2/dense_1/Relu': array([[-3.5257873e-03, -9.9687530e-03, -3.4327679e-03,  5.4856981e-03,\n",
      "        -2.3860009e-03, -3.9335107e-03, -1.8729912e-03, -6.1389152e-03,\n",
      "         3.2475386e-03, -9.8556140e-04,  1.1430808e-02, -5.2354033e-03,\n",
      "         2.1997928e-03,  7.9281889e-03, -4.3562711e-03,  1.6069803e-03,\n",
      "        -1.8807998e-03,  6.9454312e-03, -1.0342950e-02,  4.5372890e-03,\n",
      "        -1.4418813e-03,  6.0224403e-03, -2.7589258e-03,  9.9924777e-04,\n",
      "        -5.8583501e-03,  4.7100568e-03, -7.7593871e-03,  6.4571300e-03,\n",
      "         4.4763554e-05, -4.8732311e-03,  6.8394621e-03, -6.0569784e-03,\n",
      "        -3.6011965e-03, -7.2865626e-03, -4.0916405e-03, -1.2413019e-02,\n",
      "        -3.4011763e-03,  9.6995523e-03,  6.1131772e-03,  5.0129220e-03,\n",
      "         2.6248035e-03,  1.9254646e-04,  4.6200710e-03, -2.6553227e-03,\n",
      "        -1.2789055e-03, -5.6055682e-03, -4.9145818e-03, -4.9828966e-03,\n",
      "         5.1917145e-03,  4.1357866e-03,  4.8116531e-04, -1.7026262e-03,\n",
      "        -7.0337281e-03, -5.2136434e-03,  2.9445139e-03, -5.4636328e-03,\n",
      "        -1.2157764e-02,  1.1219041e-03, -5.8598951e-03, -1.0604701e-02,\n",
      "         1.6174095e-02, -4.8147589e-03, -1.0120081e-03, -3.6831209e-03]],\n",
      "      dtype=float32)}\n",
      "DeepLIFT: references ready\n"
     ]
    }
   ],
   "source": [
    "with DeepExplain(session=K.get_session()) as de:  # <-- init DeepExplain context\n",
    "    # Need to reconstruct the graph in DeepExplain context, using the same weights.\n",
    "    # With Keras this is very easy:\n",
    "    # 1. Get the input tensor to the original model\n",
    "    input_tensor = model.layers[0].input\n",
    "    \n",
    "    # 2. We now target the output of the last dense layer (pre-softmax)\n",
    "    # To do so, create a new model sharing the same layers untill the last dense (index -2)\n",
    "    fModel = Model(inputs=input_tensor, outputs = model.layers[-2].output)\n",
    "    target_tensor = fModel(input_tensor)\n",
    "    \n",
    "    xs = x_test[0:1]\n",
    "    ys = y_test[0:1]\n",
    "    \n",
    "    #attributions = de.explain('grad*input', target_tensor * ys, input_tensor, xs)\n",
    "    #attributions = de.explain('saliency', target_tensor * ys, input_tensor, xs)\n",
    "    #attributions = de.explain('intgrad', target_tensor * ys, input_tensor, xs)\n",
    "    attributions = de.explain('deeplift', target_tensor * ys, input_tensor, xs)\n",
    "    #attributions = de.explain('shapley', target_tensor * ys, input_tensor, xs)\n",
    "    #attributions = de.explain('elrp', target_tensor * ys, input_tensor, xs)\n",
    "    #attributions = de.explain('occlusion', target_tensor * ys, input_tensor, xs)"
   ]
  },
  {
   "cell_type": "code",
   "execution_count": 7,
   "metadata": {},
   "outputs": [
    {
     "name": "stderr",
     "output_type": "stream",
     "text": [
      "/Library/Frameworks/Python.framework/Versions/3.6/lib/python3.6/site-packages/skimage/transform/_warps.py:24: UserWarning: The default multichannel argument (None) is deprecated.  Please specify either True or False explicitly.  multichannel will default to False starting with release 0.16.\n",
      "  warn('The default multichannel argument (None) is deprecated.  Please '\n",
      "/Library/Frameworks/Python.framework/Versions/3.6/lib/python3.6/site-packages/skimage/transform/_warps.py:110: UserWarning: Anti-aliasing will be enabled by default in skimage 0.15 to avoid aliasing artifacts when down-sampling images.\n",
      "  warn(\"Anti-aliasing will be enabled by default in skimage 0.15 to \"\n"
     ]
    },
    {
     "data": {
      "text/plain": [
       "<module 'matplotlib.pyplot' from '/Library/Frameworks/Python.framework/Versions/3.6/lib/python3.6/site-packages/matplotlib/pyplot.py'>"
      ]
     },
     "execution_count": 7,
     "metadata": {},
     "output_type": "execute_result"
    },
    {
     "data": {
      "image/png": "[encoded data removed]",
      "text/plain": [
       "<Figure size 432x288 with 1 Axes>"
      ]
     },
     "metadata": {},
     "output_type": "display_data"
    }
   ],
   "source": [
    "# Plot attributions\n",
    "from utils import plot, plt\n",
    "%matplotlib inline\n",
    "plot(attributions.reshape(28,28), xs.reshape(28, 28))"
   ]
  }
 ],
 "metadata": {
  "kernelspec": {
   "display_name": "Python 3",
   "language": "python",
   "name": "python3"
  },
  "language_info": {
   "codemirror_mode": {
    "name": "ipython",
    "version": 3
   },
   "file_extension": ".py",
   "mimetype": "text/x-python",
   "name": "python",
   "nbconvert_exporter": "python",
   "pygments_lexer": "ipython3",
   "version": "3.6.3"
  }
 },
 "nbformat": 4,
 "nbformat_minor": 1
}
