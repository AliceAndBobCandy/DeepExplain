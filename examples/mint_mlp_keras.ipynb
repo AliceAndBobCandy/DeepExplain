{
 "cells": [
  {
   "cell_type": "code",
   "execution_count": 1,
   "metadata": {
    "collapsed": false
   },
   "outputs": [],
   "source": [
    "## DeepExplain - Keras (TF backend) example\n",
    "### MNIST with CNN\n",
    "%load_ext autoreload\n",
    "%autoreload 2"
   ]
  },
  {
   "cell_type": "code",
   "execution_count": null,
   "metadata": {
    "collapsed": false
   },
   "outputs": [],
   "source": [
    "\n",
    "from __future__ import absolute_import\n",
    "from __future__ import division\n",
    "from __future__ import print_function\n",
    "\n",
    "import tempfile, sys, os\n",
    "sys.path.insert(0, os.path.abspath('..'))\n",
    "\n",
    "import keras\n",
    "from keras.datasets import mnist\n",
    "from keras.models import Sequential, Model, load_model\n",
    "from keras.layers import Dense, Dropout, Flatten, Activation, Input\n",
    "from keras import regularizers\n",
    "from keras.layers import Conv2D, MaxPooling2D\n",
    "from keras import backend as K\n",
    "import numpy as np\n",
    "import tensorflow as tf\n",
    "import scipy\n",
    "\n",
    "# Import DeepExplain\n",
    "from deepexplain.tensorflow import DeepExplain, ProbDense, ProbDense, ProbActivationRelu\n",
    "\n",
    "#Import DeepLift\n",
    "import deeplift\n",
    "from deeplift.layers import NonlinearMxtsMode\n",
    "from deeplift.conversion import kerasapi_conversion as kc\n",
    "from deeplift.util import compile_func\n",
    "\n",
    "from math import pi\n",
    "from scipy.special import erf, erfc\n",
    "exp = np.exp\n",
    "def rect_mean(mus, vs):\n",
    "    assert mus.shape == vs.shape\n",
    "    m = mus\n",
    "    v = vs\n",
    "    s = v**0.5\n",
    "    r1 = s*exp(-(m**2)/(2*v))/(2*pi)**0.5\n",
    "    r2 = 0.5*m*(1+erf(m/((2*v)**0.5)))\n",
    "    return r1 + r2\n",
    "\n",
    "\n",
    "def rect_var(mus, vs):\n",
    "    assert mus.shape == vs.shape\n",
    "    m = mus\n",
    "    v = vs\n",
    "    s = v**0.5\n",
    "    r1 = -v*exp(-(m**2)/v)/(2*pi)\n",
    "    r2 = (-m*s*erf(m/(2*v)**0.5)*exp(-(m**2)/(2*v)))/(2*pi)**0.5\n",
    "    r3 = -0.25*(-2+erfc(m/(2*v)**0.5))*(2*v + m**2 *erfc(m/(2*v)**0.5))\n",
    "    return r1+r2+r3\n",
    "print (keras.__version__)"
   ]
  },
  {
   "cell_type": "code",
   "execution_count": 3,
   "metadata": {
    "collapsed": false
   },
   "outputs": [
    {
     "name": "stderr",
     "output_type": "stream",
     "text": [
      "/usr/local/lib/python3.6/dist-packages/ipykernel_launcher.py:17: DeprecationWarning: `imresize` is deprecated!\n",
      "`imresize` is deprecated in SciPy 1.0.0, and will be removed in 1.2.0.\n",
      "Use ``skimage.transform.resize`` instead.\n",
      "/usr/local/lib/python3.6/dist-packages/ipykernel_launcher.py:18: DeprecationWarning: `imresize` is deprecated!\n",
      "`imresize` is deprecated in SciPy 1.0.0, and will be removed in 1.2.0.\n",
      "Use ``skimage.transform.resize`` instead.\n"
     ]
    },
    {
     "name": "stdout",
     "output_type": "stream",
     "text": [
      "x_train shape: (60000, 16)\n",
      "60000 train samples\n",
      "10000 test samples\n",
      "Train on 60000 samples, validate on 10000 samples\n",
      "Epoch 1/10\n",
      "60000/60000 [==============================] - 1s 22us/step - loss: 1.2566 - acc: 0.5822 - val_loss: 0.8640 - val_acc: 0.7239\n",
      "Epoch 2/10\n",
      "60000/60000 [==============================] - 1s 15us/step - loss: 0.7293 - acc: 0.7629 - val_loss: 0.6381 - val_acc: 0.7980\n",
      "Epoch 3/10\n",
      "60000/60000 [==============================] - 1s 14us/step - loss: 0.6091 - acc: 0.7999 - val_loss: 0.5732 - val_acc: 0.8080\n",
      "Epoch 4/10\n",
      "60000/60000 [==============================] - 1s 14us/step - loss: 0.5474 - acc: 0.8202 - val_loss: 0.5341 - val_acc: 0.8231\n",
      "Epoch 5/10\n",
      "60000/60000 [==============================] - 1s 15us/step - loss: 0.5073 - acc: 0.8325 - val_loss: 0.4787 - val_acc: 0.8445\n",
      "Epoch 6/10\n",
      "60000/60000 [==============================] - 1s 15us/step - loss: 0.4771 - acc: 0.8436 - val_loss: 0.4463 - val_acc: 0.8537\n",
      "Epoch 7/10\n",
      "60000/60000 [==============================] - 1s 15us/step - loss: 0.4554 - acc: 0.8506 - val_loss: 0.4314 - val_acc: 0.8564\n",
      "Epoch 8/10\n",
      "60000/60000 [==============================] - 1s 15us/step - loss: 0.4365 - acc: 0.8564 - val_loss: 0.5519 - val_acc: 0.8023\n",
      "Epoch 9/10\n",
      "60000/60000 [==============================] - 1s 15us/step - loss: 0.4218 - acc: 0.8599 - val_loss: 0.4203 - val_acc: 0.8581\n",
      "Epoch 10/10\n",
      "60000/60000 [==============================] - 1s 14us/step - loss: 0.4072 - acc: 0.8654 - val_loss: 0.4119 - val_acc: 0.8622\n",
      "-5.3124037e-05\n",
      "0.008176558\n",
      "Test loss: 0.41185442802906036\n",
      "Test accuracy: 0.8622\n"
     ]
    }
   ],
   "source": [
    "# Build and train a network.\n",
    "\n",
    "SKIP_TRAIN = False\n",
    "saved_model_file = 'model.h5'\n",
    "saved_model_weights_file = 'model_w.h5'\n",
    "\n",
    "batch_size = 128\n",
    "num_classes = 10\n",
    "epochs = 10\n",
    "\n",
    "# input image dimensions\n",
    "img_rows, img_cols = 4, 4\n",
    "\n",
    "# the data, shuffled and split between train and test sets\n",
    "(x_train, y_train), (x_test, y_test) = mnist.load_data()\n",
    "\n",
    "x_train = np.array([scipy.misc.imresize(x, (img_rows,img_cols,)) for x in x_train])\n",
    "x_test = np.array([scipy.misc.imresize(x, (img_rows,img_cols,)) for x in x_test])\n",
    "\n",
    "\n",
    "\n",
    "#x_train = x_train.reshape(-1, 28,28,1)\n",
    "#x_test = x_test.reshape(-1, 28,28,1)\n",
    "x_train = x_train.reshape(-1, img_rows*img_cols)\n",
    "x_test = x_test.reshape(-1, img_rows*img_cols)\n",
    "x_train = x_train.astype('float32')\n",
    "x_test = x_test.astype('float32')\n",
    "x_train /= 255\n",
    "x_test /= 255\n",
    "x_train = (x_train - 0.5) * 2\n",
    "x_test = (x_test - 0.5) * 2\n",
    "print('x_train shape:', x_train.shape)\n",
    "print(x_train.shape[0], 'train samples')\n",
    "print(x_test.shape[0], 'test samples')\n",
    "\n",
    "# convert class vectors to binary class matrices\n",
    "y_train = keras.utils.to_categorical(y_train, num_classes)\n",
    "y_test = keras.utils.to_categorical(y_test, num_classes)\n",
    "\n",
    "#with DeepExplain(session=K.get_session()) as de:  # <-- init DeepExplain context\n",
    "reg = keras.regularizers.l2(0)\n",
    "def f(x):\n",
    "    return x*tf.sigmoid(x)\n",
    "\n",
    "if SKIP_TRAIN:\n",
    "    model = load_model(saved_model_file)\n",
    "else:\n",
    "    #de.enable_override('shapley')\n",
    "    model = Sequential()\n",
    "    model.add(Dense(256, input_shape=(img_rows*img_cols,), activation='relu', kernel_regularizer=reg, name='dens_1'))\n",
    "    model.add(Dense(128, activation='relu', kernel_regularizer=reg, name='dens_2'))\n",
    "    model.add(Dense(num_classes, kernel_regularizer=reg, name='dens_3'))\n",
    "    model.add(Activation('softmax'))\n",
    "    # ^ IMPORTANT: notice that the final softmax must be in its own layer \n",
    "    # if we want to target pre-softmax units\n",
    "\n",
    "    model.compile(loss=keras.losses.categorical_crossentropy,\n",
    "                  optimizer=keras.optimizers.Adadelta(),\n",
    "                  metrics=['accuracy'])\n",
    "\n",
    "    model.fit(x_train, y_train,\n",
    "              batch_size=batch_size,\n",
    "              epochs=epochs,\n",
    "              verbose=1,\n",
    "              validation_data=(x_test, y_test))\n",
    "    model.save(saved_model_file)\n",
    "    model.save_weights(saved_model_weights_file)\n",
    "\n",
    "    print (model.layers[0].get_weights()[1].mean())\n",
    "    print (model.layers[0].get_weights()[1].var())\n",
    "    \n",
    "score = model.evaluate(x_test, y_test, verbose=0)\n",
    "print('Test loss:', score[0])\n",
    "print('Test accuracy:', score[1])"
   ]
  },
  {
   "cell_type": "code",
   "execution_count": 4,
   "metadata": {
    "collapsed": false
   },
   "outputs": [],
   "source": [
    "xs = x_test[0:3]\n",
    "ys = y_test[0:3]"
   ]
  },
  {
   "cell_type": "code",
   "execution_count": 24,
   "metadata": {
    "collapsed": false
   },
   "outputs": [
    {
     "name": "stdout",
     "output_type": "stream",
     "text": [
      "(3, 16, 10)\n",
      "(3,)\n",
      "(3, 16)\n",
      "Done\n",
      "CPU times: user 792 ms, sys: 32 ms, total: 824 ms\n",
      "Wall time: 630 ms\n"
     ]
    }
   ],
   "source": [
    "%%time\n",
    "features = img_rows*img_cols\n",
    "n_classes = 10\n",
    "\n",
    "# Get weights of first dense\n",
    "weights = model.layers[0].get_weights()\n",
    "kernel = weights[0]\n",
    "bias = weights[1]\n",
    "n_output_feat = kernel.shape[1]\n",
    "\n",
    "# Create an equivalent probabilistic model. Notice that\n",
    "# 1. The (probabilistic) input has one more dimension to include both mean and variance\n",
    "# 2. We only keep the non-linearity of the original first dense layer (because the probabilistic input will be computed aside)\n",
    "probInput = Input(shape=(n_output_feat, 2))\n",
    "y = ProbActivationRelu()(probInput)\n",
    "y = ProbDense(128, activation='relu', name='dens_2')(y)\n",
    "y = ProbDense(num_classes, name='dens_3')(y)\n",
    "probModel = Model(inputs=probInput, outputs=y)\n",
    "# ... and load weights in it\n",
    "probModel.load_weights(saved_model_weights_file, by_name=True)\n",
    "\n",
    "# Implement loop to estimate shapley values\n",
    "# Params\n",
    "xn = 50\n",
    "\n",
    "# Flatten MNIST input\n",
    "x = np.copy(xs.reshape(xs.shape[0], -1))\n",
    "# Prepare array for output\n",
    "result = np.zeros(x.shape + (n_classes,))\n",
    "# Count how many input features are there\n",
    "n_input_feat = x.shape[1]\n",
    "# Define sub-coalition sizes\n",
    "Ks = range (0, n_input_feat, max(1, n_input_feat//xn))\n",
    "\n",
    "for j in range(n_input_feat):\n",
    "    for ki in range(len(Ks)):\n",
    "        k = Ks[ki] # coalition size\n",
    "    \n",
    "        x_i = x.copy()\n",
    "        x_i[:, j] = 0\n",
    "        # Dense is essentially a dot product.\n",
    "        # Here, instead of 1, we do 3 dot products\n",
    "        dot = np.dot(x, kernel)\n",
    "        dot_i = np.dot(x_i, kernel)\n",
    "        dot_v = np.dot(x_i ** 2, kernel ** 2)\n",
    "        # Compute mean without feature i\n",
    "        mu = dot_i / (n_input_feat - 1)\n",
    "        # Compensate for number of players in current coalition\n",
    "        mu1 = mu * k\n",
    "        # Compute mean of the distribution that also includes player i (acting as bias to expectation)\n",
    "        mu2 = mu1 + (dot - dot_i)\n",
    "        # Compute variance without player i\n",
    "        v1 = dot_v / (n_input_feat - 1) - mu**2\n",
    "        # Compensate for number or players in the coalition\n",
    "        v1 = v1 * k\n",
    "        # Set something different than 0 if necessary\n",
    "        v1 = np.maximum(0.00001, v1)\n",
    "        # Since player i is only a bias, at this point the variance of the distribution than\n",
    "        # includes it is the same\n",
    "        v2 = v1\n",
    "        \n",
    "        mu1 += bias\n",
    "        mu2 += bias\n",
    "        \n",
    "        x1 = np.stack([mu1, v1], -1)\n",
    "        x2 = np.stack([mu2, v2], -1)\n",
    "        out1 = probModel.predict(x1)\n",
    "        out2 = probModel.predict(x2)\n",
    "        eshap = ((out2[..., 0] - out1[..., 0]) / len(Ks))\n",
    "        result[:, j, :] += eshap\n",
    "\n",
    "print (result.shape)\n",
    "print (np.argmax(ys, 1).shape)\n",
    "a_shap = np.array([result[i, :, c] for i, c in enumerate(np.argmax(ys, 1))])\n",
    "print (a_shap.shape)\n",
    "print ('Done')\n"
   ]
  },
  {
   "cell_type": "code",
   "execution_count": 6,
   "metadata": {
    "collapsed": false,
    "scrolled": false
   },
   "outputs": [
    {
     "name": "stdout",
     "output_type": "stream",
     "text": [
      "CPU times: user 0 ns, sys: 0 ns, total: 0 ns\n",
      "Wall time: 5.25 µs\n",
      "DeepExplain: running \"grad*input\" explanation method (2)\n",
      "Model with multiple inputs:  False\n",
      "DeepExplain: running \"intgrad\" explanation method (3)\n",
      "Model with multiple inputs:  False\n",
      "DeepExplain: running \"deeplift\" explanation method (5)\n",
      "Model with multiple inputs:  False\n",
      "DeepLIFT: computing references...\n",
      "DeepLIFT: references ready\n",
      "DeepExplain: running \"deeplift_rc\" explanation method (6)\n",
      "Model with multiple inputs:  False\n",
      "Shapley: computing references...\n",
      "Applying DeepShap on the following ops:  dict_keys(['model_2/dens_1/MatMul', 'model_2/dens_2/MatMul'])\n",
      "revcancel\n",
      "model_2/dens_3/MatMul uses original gradient\n",
      "revcancel\n",
      "Eta shap [revcancel] games[(3, 256, 128)], bias[(128,)], baseline[(3, 256, 128)]\n",
      "Reshape: games[(3, 256, 128)], bias[(128,)], baseline[(3, 256, 128)]\n",
      "revcancel\n",
      "Eta shap [revcancel] games[(3, 16, 256)], bias[(256,)], baseline[(3, 16, 256)]\n",
      "Reshape: games[(3, 16, 256)], bias[(256,)], baseline[(3, 16, 256)]\n",
      "DeepExplain: running \"shapley\" explanation method (7)\n",
      "Model with multiple inputs:  False\n",
      "Shapley: computing references...\n",
      "Applying DeepShap on the following ops:  dict_keys(['model_2/dens_1/MatMul', 'model_2/dens_2/MatMul'])\n",
      "None\n",
      "model_2/dens_3/MatMul uses original gradient\n",
      "None\n",
      "Eta shap [approx] games[(3, 256, 128)], bias[(128,)], baseline[(3, 256, 128)]\n",
      "Reshape: games[(3, 256, 128)], bias[(128,)], baseline[(3, 256, 128)]\n"
     ]
    },
    {
     "name": "stderr",
     "output_type": "stream",
     "text": [
      "/home/anconam/projects/DeepExplain/deepexplain/tensorflow/deep_shapley.py:413: RuntimeWarning: divide by zero encountered in true_divide\n",
      "  t = (i / (2 * vars[:, :, np.newaxis] * Xs[np.newaxis, np.newaxis, :]) ** 0.5)\n",
      "/home/anconam/projects/DeepExplain/deepexplain/tensorflow/deep_shapley.py:414: RuntimeWarning: divide by zero encountered in true_divide\n",
      "  tb = (ib / (2 * vars[:, :, np.newaxis] * Xs[np.newaxis, np.newaxis, :]) ** 0.5)\n",
      "/home/anconam/projects/DeepExplain/deepexplain/tensorflow/deep_shapley.py:420: RuntimeWarning: overflow encountered in square\n",
      "  exp1 = e ** -(t ** 2)\n",
      "/home/anconam/projects/DeepExplain/deepexplain/tensorflow/deep_shapley.py:421: RuntimeWarning: overflow encountered in square\n",
      "  exp2 = e ** -(tb ** 2)\n",
      "/home/anconam/projects/DeepExplain/deepexplain/tensorflow/deep_shapley.py:453: RuntimeWarning: invalid value encountered in true_divide\n",
      "  eta =  np.where(np.abs(deltas) > 1e-6, shap / deltas, np.zeros_like(shap))\n"
     ]
    },
    {
     "name": "stdout",
     "output_type": "stream",
     "text": [
      "None\n",
      "Eta shap [approx] games[(3, 16, 256)], bias[(256,)], baseline[(3, 16, 256)]\n",
      "Reshape: games[(3, 16, 256)], bias[(256,)], baseline[(3, 16, 256)]\n",
      "Done\n"
     ]
    },
    {
     "name": "stderr",
     "output_type": "stream",
     "text": [
      "/home/anconam/projects/DeepExplain/deepexplain/tensorflow/deep_shapley.py:414: RuntimeWarning: invalid value encountered in true_divide\n",
      "  tb = (ib / (2 * vars[:, :, np.newaxis] * Xs[np.newaxis, np.newaxis, :]) ** 0.5)\n"
     ]
    }
   ],
   "source": [
    "%time\n",
    "with DeepExplain(session=K.get_session()) as de:  # <-- init DeepExplain context\n",
    "    # Need to reconstruct the graph in DeepExplain context, using the same weights.\n",
    "    # With Keras this is very easy:\n",
    "    # 1. Get the input tensor to the original model\n",
    "    input_tensor = model.layers[0].input\n",
    "    \n",
    "    # 2. We now target the output of the last dense layer (pre-softmax)\n",
    "    # To do so, create a new model sharing the same layers untill the last dense (index -2)\n",
    "    fModel = Model(inputs=input_tensor, outputs = model.layers[-2].output)\n",
    "    target_tensor = fModel(input_tensor)\n",
    "    \n",
    "\n",
    "    \n",
    "    a_gradin = de.explain('grad*input', target_tensor * ys, input_tensor, xs)\n",
    "    #attributions = de.explain('saliency', target_tensor * ys, input_tensor, xs)\n",
    "    a_intgrad = de.explain('intgrad', target_tensor * ys, input_tensor, xs)\n",
    "    a_res = de.explain('deeplift', target_tensor * ys, input_tensor, xs)\n",
    "    a_rc = de.explain('deeplift_rc', target_tensor * ys, input_tensor, xs)\n",
    "    #a_linear = de.explain('linear', target_tensor * ys, input_tensor, xs)\n",
    "    a_layershap = de.explain('shapley', target_tensor * ys, input_tensor, xs)\n",
    "    #a_shap = np.zeros_like(a_linear)\n",
    "    \n",
    "    #attributions2 = de.explain('elrp', target_tensor * ys, input_tensor, xs)\n",
    "    #attributions = de.explain('occlusion', target_tensor * ys, input_tensor, xs)\n",
    "    print (\"Done\")"
   ]
  },
  {
   "cell_type": "code",
   "execution_count": 7,
   "metadata": {
    "collapsed": false
   },
   "outputs": [],
   "source": [
    "# Compute exacly shapley values!\n",
    "saved_file = 'exact.npy'\n",
    "a_exact = np.zeros_like(a_gradin)\n",
    "if True or not SKIP_TRAIN:\n",
    "    from deepexplain.tensorflow.exact_shapley import compute_shapley\n",
    "    a_exact = np.array([compute_shapley(xx, lambda x: (fModel.predict(np.array(x))*yy).sum(-1)) for xx, yy in zip(xs, ys)])\n",
    "    np.save(saved_file, a_exact)\n",
    "else:\n",
    "    a_exact = np.load(saved_file)\n"
   ]
  },
  {
   "cell_type": "code",
   "execution_count": 15,
   "metadata": {
    "collapsed": false
   },
   "outputs": [
    {
     "name": "stderr",
     "output_type": "stream",
     "text": [
      "/usr/local/lib/python3.6/dist-packages/skimage/transform/_warps.py:24: UserWarning:\n",
      "\n",
      "The default multichannel argument (None) is deprecated.  Please specify either True or False explicitly.  multichannel will default to False starting with release 0.16.\n",
      "\n",
      "/usr/local/lib/python3.6/dist-packages/skimage/transform/_warps.py:110: UserWarning:\n",
      "\n",
      "Anti-aliasing will be enabled by default in skimage 0.15 to avoid aliasing artifacts when down-sampling images.\n",
      "\n"
     ]
    },
    {
     "data": {
      "text/plain": [
       "Text(0.5, 1.0, 'Exact Shap')"
      ]
     },
     "execution_count": 15,
     "metadata": {},
     "output_type": "execute_result"
    },
    {
     "name": "stderr",
     "output_type": "stream",
     "text": [
      "/usr/local/lib/python3.6/dist-packages/matplotlib/image.py:395: UserWarning:\n",
      "\n",
      "Warning: converting a masked element to nan.\n",
      "\n",
      "/usr/local/lib/python3.6/dist-packages/matplotlib/image.py:396: UserWarning:\n",
      "\n",
      "Warning: converting a masked element to nan.\n",
      "\n",
      "/usr/local/lib/python3.6/dist-packages/matplotlib/image.py:403: UserWarning:\n",
      "\n",
      "Warning: converting a masked element to nan.\n",
      "\n",
      "/usr/local/lib/python3.6/dist-packages/matplotlib/image.py:408: UserWarning:\n",
      "\n",
      "Warning: converting a masked element to nan.\n",
      "\n",
      "/usr/local/lib/python3.6/dist-packages/matplotlib/colors.py:902: UserWarning:\n",
      "\n",
      "Warning: converting a masked element to nan.\n",
      "\n",
      "/usr/local/lib/python3.6/dist-packages/numpy/ma/core.py:716: UserWarning:\n",
      "\n",
      "Warning: converting a masked element to nan.\n",
      "\n"
     ]
    },
    {
     "data": {
      "image/png": "[encoded data removed]",
      "text/plain": [
       "<Figure size 432x288 with 1 Axes>"
      ]
     },
     "metadata": {
      "needs_background": "light"
     },
     "output_type": "display_data"
    },
    {
     "data": {
      "image/png": "[encoded data removed]",
      "text/plain": [
       "<Figure size 432x288 with 1 Axes>"
      ]
     },
     "metadata": {
      "needs_background": "light"
     },
     "output_type": "display_data"
    },
    {
     "data": {
      "image/png": "[encoded data removed]",
      "text/plain": [
       "<Figure size 432x288 with 1 Axes>"
      ]
     },
     "metadata": {
      "needs_background": "light"
     },
     "output_type": "display_data"
    },
    {
     "data": {
      "image/png": "[encoded data removed]",
      "text/plain": [
       "<Figure size 432x288 with 1 Axes>"
      ]
     },
     "metadata": {
      "needs_background": "light"
     },
     "output_type": "display_data"
    },
    {
     "data": {
      "image/png": "[encoded data removed]",
      "text/plain": [
       "<Figure size 432x288 with 1 Axes>"
      ]
     },
     "metadata": {
      "needs_background": "light"
     },
     "output_type": "display_data"
    }
   ],
   "source": [
    "# Plot attributions\n",
    "from utils import plot, plt\n",
    "%matplotlib inline\n",
    "idx = 1\n",
    "# plot(a_gradin[idx].reshape(img_rows, img_cols), xs[idx].reshape(img_rows, img_cols)).title('GradInput')\n",
    "# plt.figure()\n",
    "plot(a_intgrad[idx].reshape(img_rows, img_cols), xs[idx].reshape(img_rows, img_cols)).title('IntGrad')\n",
    "plt.figure()\n",
    "plot(a_res[idx].reshape(img_rows, img_cols), xs[idx].reshape(img_rows, img_cols)).title('DeepLift (Rescale)')\n",
    "#plt.figure()\n",
    "#plot((a_linear)[idx].reshape(img_rows, img_cols), xs[idx].reshape(img_rows, img_cols)).title('Linear')\n",
    "plt.figure()\n",
    "plot(a_rc[idx].reshape(img_rows, img_cols), xs[idx].reshape(img_rows, img_cols)).title('DeepLift (RevCancel)')\n",
    "plt.figure()\n",
    "plot((a_shap)[idx].reshape(img_rows, img_cols), xs[idx].reshape(img_rows, img_cols)).title('Deep Shap')\n",
    "plt.figure()\n",
    "# plot((a_layershap)[idx].reshape(img_rows, img_cols), xs[idx].reshape(img_rows, img_cols)).title('Layerwise Shap')\n",
    "# plt.figure()\n",
    "#plot((a_shaplud)[idx].reshape(img_rows, img_cols), xs[idx].reshape(img_rows, img_cols)).title('SHAP')\n",
    "#plt.figure()\n",
    "plot((a_exact)[idx].reshape(img_rows, img_cols), xs[idx].reshape(img_rows, img_cols)).title('Exact Shap')\n",
    "\n",
    "\n",
    "        \n",
    "        \n"
   ]
  },
  {
   "cell_type": "code",
   "execution_count": 25,
   "metadata": {
    "collapsed": false
   },
   "outputs": [
    {
     "name": "stdout",
     "output_type": "stream",
     "text": [
      "MSE with DeepShap  0.2288700994484291\n",
      "MSE with DeepLift  0.2927836199298476\n",
      "MSE with DeepLift (Rescale)  4.615019473966188\n",
      "MSE with Int Gradients  4.8594098514479045\n",
      "MSE with GradInput  13.516095859856755\n",
      "Kendall corr.  with DeepShap  0.9277777777777777\n",
      "Kendall corr.  with DeepLift  0.9500000000000001\n",
      "Kendall corr.  with DeepLift (rescale) 0.8388888888888889\n",
      "Kendall corr.  with Int Gradients  0.8277777777777778\n",
      "Kendall corr.  with GradInput  0.7000000000000001\n"
     ]
    },
    {
     "data": {
      "text/plain": [
       "<Figure size 432x288 with 0 Axes>"
      ]
     },
     "metadata": {},
     "output_type": "display_data"
    },
    {
     "data": {
      "image/png": "[encoded data removed]",
      "text/plain": [
       "<Figure size 288x288 with 2 Axes>"
      ]
     },
     "metadata": {
      "needs_background": "light"
     },
     "output_type": "display_data"
    },
    {
     "data": {
      "text/plain": [
       "<Figure size 432x288 with 0 Axes>"
      ]
     },
     "metadata": {},
     "output_type": "display_data"
    },
    {
     "data": {
      "image/png": "[encoded data removed]",
      "text/plain": [
       "<Figure size 288x288 with 2 Axes>"
      ]
     },
     "metadata": {
      "needs_background": "light"
     },
     "output_type": "display_data"
    }
   ],
   "source": [
    "methods = [a_gradin, a_intgrad, a_res, a_rc, a_shap, a_exact]\n",
    "confusion = np.zeros((len(methods), len(methods)))\n",
    "confusion[:] = np.nan\n",
    "confusion_r = np.zeros((len(methods), len(methods)))\n",
    "confusion_r[:] = np.nan\n",
    "\n",
    "n = a_gradin.shape[0]\n",
    "for i, m1 in enumerate(methods):\n",
    "    for j, m2 in enumerate(methods):\n",
    "        if i >= j:\n",
    "            m1 = m1.reshape(n, -1)\n",
    "            m2 = m2.reshape(n, -1)\n",
    "            confusion[i][j] = ((m1-m2)**2).mean()\n",
    "            confusion_r[i][j] = np.mean([scipy.stats.kendalltau(x, y)[0] for x,y in zip(m1, m2)])\n",
    "            confusion[j][i] = confusion[i, j]\n",
    "            confusion_r[j][i] = confusion_r[i, j]\n",
    "plt.figure()\n",
    "plt.matshow(confusion, cmap='RdBu_r')\n",
    "plt.colorbar()\n",
    "plt.figure()\n",
    "plt.matshow(confusion_r, cmap='RdBu_r')\n",
    "plt.colorbar()\n",
    "#print ('MSE with SHAP ', confusion[-1][-2])\n",
    "comparison = -1\n",
    "print ('MSE with DeepShap ', confusion[-2][comparison])\n",
    "print ('MSE with DeepLift ', confusion[-3][comparison])\n",
    "print ('MSE with DeepLift (Rescale) ', confusion[-4][comparison])\n",
    "print ('MSE with Int Gradients ', confusion[-5][comparison])\n",
    "print ('MSE with GradInput ', confusion[-6][comparison])\n",
    "\n",
    "#print ('Kendall corr. with SHAP ', confusion_r[-1][-2])\n",
    "print ('Kendall corr.  with DeepShap ', confusion_r[-2][comparison])\n",
    "print ('Kendall corr.  with DeepLift ', confusion_r[-3][comparison])\n",
    "print ('Kendall corr.  with DeepLift (rescale)', confusion_r[-4][comparison])\n",
    "print ('Kendall corr.  with Int Gradients ', confusion_r[-5][comparison])\n",
    "print ('Kendall corr.  with GradInput ', confusion_r[-6][comparison])"
   ]
  },
  {
   "cell_type": "code",
   "execution_count": 10,
   "metadata": {
    "collapsed": false
   },
   "outputs": [
    {
     "name": "stdout",
     "output_type": "stream",
     "text": [
      "Running robustness test...\n",
      "Storing robustness results...\n",
      "Done\n"
     ]
    }
   ],
   "source": [
    "from deepexplain.tensorflow.accuracy_robustness import run_robustness_test\n",
    "original_maps = [a_gradin, a_intgrad, a_res, a_rc, a_shap]\n",
    "names = ['GradInput', 'IntGrad', 'DeepLift (Recale)', 'DeepLift (RevCanc)', 'Deep Shapley']\n",
    "run_robustness_test(fModel, xs, ys, original_maps, names, 'Test', 1,\n",
    "                        result_path='.', mode='prediction', reduce_dim=None)\n",
    "\n"
   ]
  },
  {
   "cell_type": "code",
   "execution_count": null,
   "metadata": {
    "collapsed": true
   },
   "outputs": [],
   "source": []
  },
  {
   "cell_type": "code",
   "execution_count": 11,
   "metadata": {
    "collapsed": false
   },
   "outputs": [
    {
     "name": "stdout",
     "output_type": "stream",
     "text": [
      "Running delta test...\n",
      "Done\n",
      "\n",
      "\n",
      "\n"
     ]
    }
   ],
   "source": [
    "from deepexplain.tensorflow.sensitivityn import run_sensitivity_test\n",
    "run_sensitivity_test(fModel, xs, ys, original_maps, names, 'Test',\n",
    "                        result_path='.', number_of_samples=1000)\n"
   ]
  },
  {
   "cell_type": "code",
   "execution_count": 12,
   "metadata": {
    "collapsed": false
   },
   "outputs": [
    {
     "ename": "CalledProcessError",
     "evalue": "Command 'b'\\n# Compute DeepLift attributions\\nrevealcancel_model = kc.convert_model_from_saved_files(\\n                            h5_file=saved_model_file,\\n                            nonlinear_mxts_mode=NonlinearMxtsMode.RevealCancel)\\nrescale_model = kc.convert_model_from_saved_files(\\n                            h5_file=saved_model_file,\\n                            nonlinear_mxts_mode=NonlinearMxtsMode.Rescale)\\n\\nrevealcancel_func = revealcancel_model.get_target_contribs_func(find_scores_layer_idx=0, target_layer_idx=-2)\\nrescale_func = rescale_model.get_target_contribs_func(find_scores_layer_idx=0, target_layer_idx=-2)\\n\\na_rc = np.array([np.array(revealcancel_func(\\n                task_idx=np.argmax(y),\\n                input_data_list=[[x]],\\n                input_references_list=[[np.zeros_like(x)]],\\n                batch_size=100,\\n                progress_update=None)) for x, y in zip(xs,ys)])\\n\\na_res = np.array([np.array(rescale_func(\\n                task_idx=np.argmax(y),\\n                input_data_list=[[x]],\\n                input_references_list=[[np.zeros_like(x)]],\\n                batch_size=100,\\n                progress_update=None)) for x, y in zip(xs,ys)])\\nprint (a_rc.shape)\\n'' returned non-zero exit status 1.",
     "output_type": "error",
     "traceback": [
      "\u001b[0;31m---------------------------------------------------------------------------\u001b[0m",
      "\u001b[0;31mCalledProcessError\u001b[0m                        Traceback (most recent call last)",
      "\u001b[0;32m<ipython-input-12-6d005d2839e1>\u001b[0m in \u001b[0;36m<module>\u001b[0;34m\u001b[0m\n\u001b[0;32m----> 1\u001b[0;31m \u001b[0mget_ipython\u001b[0m\u001b[0;34m(\u001b[0m\u001b[0;34m)\u001b[0m\u001b[0;34m.\u001b[0m\u001b[0mrun_cell_magic\u001b[0m\u001b[0;34m(\u001b[0m\u001b[0;34m'script'\u001b[0m\u001b[0;34m,\u001b[0m \u001b[0;34m'false'\u001b[0m\u001b[0;34m,\u001b[0m \u001b[0;34m'\\n# Compute DeepLift attributions\\nrevealcancel_model = kc.convert_model_from_saved_files(\\n                            h5_file=saved_model_file,\\n                            nonlinear_mxts_mode=NonlinearMxtsMode.RevealCancel)\\nrescale_model = kc.convert_model_from_saved_files(\\n                            h5_file=saved_model_file,\\n                            nonlinear_mxts_mode=NonlinearMxtsMode.Rescale)\\n\\nrevealcancel_func = revealcancel_model.get_target_contribs_func(find_scores_layer_idx=0, target_layer_idx=-2)\\nrescale_func = rescale_model.get_target_contribs_func(find_scores_layer_idx=0, target_layer_idx=-2)\\n\\na_rc = np.array([np.array(revealcancel_func(\\n                task_idx=np.argmax(y),\\n                input_data_list=[[x]],\\n                input_references_list=[[np.zeros_like(x)]],\\n                batch_size=100,\\n                progress_update=None)) for x, y in zip(xs,ys)])\\n\\na_res = np.array([np.array(rescale_func(\\n                task_idx=np.argmax(y),\\n                input_data_list=[[x]],\\n                input_references_list=[[np.zeros_like(x)]],\\n                batch_size=100,\\n                progress_update=None)) for x, y in zip(xs,ys)])\\nprint (a_rc.shape)\\n'\u001b[0m\u001b[0;34m)\u001b[0m\u001b[0;34m\u001b[0m\u001b[0;34m\u001b[0m\u001b[0m\n\u001b[0m",
      "\u001b[0;32m/usr/local/lib/python3.6/dist-packages/IPython/core/interactiveshell.py\u001b[0m in \u001b[0;36mrun_cell_magic\u001b[0;34m(self, magic_name, line, cell)\u001b[0m\n\u001b[1;32m   2321\u001b[0m             \u001b[0mmagic_arg_s\u001b[0m \u001b[0;34m=\u001b[0m \u001b[0mself\u001b[0m\u001b[0;34m.\u001b[0m\u001b[0mvar_expand\u001b[0m\u001b[0;34m(\u001b[0m\u001b[0mline\u001b[0m\u001b[0;34m,\u001b[0m \u001b[0mstack_depth\u001b[0m\u001b[0;34m)\u001b[0m\u001b[0;34m\u001b[0m\u001b[0;34m\u001b[0m\u001b[0m\n\u001b[1;32m   2322\u001b[0m             \u001b[0;32mwith\u001b[0m \u001b[0mself\u001b[0m\u001b[0;34m.\u001b[0m\u001b[0mbuiltin_trap\u001b[0m\u001b[0;34m:\u001b[0m\u001b[0;34m\u001b[0m\u001b[0;34m\u001b[0m\u001b[0m\n\u001b[0;32m-> 2323\u001b[0;31m                 \u001b[0mresult\u001b[0m \u001b[0;34m=\u001b[0m \u001b[0mfn\u001b[0m\u001b[0;34m(\u001b[0m\u001b[0mmagic_arg_s\u001b[0m\u001b[0;34m,\u001b[0m \u001b[0mcell\u001b[0m\u001b[0;34m)\u001b[0m\u001b[0;34m\u001b[0m\u001b[0;34m\u001b[0m\u001b[0m\n\u001b[0m\u001b[1;32m   2324\u001b[0m             \u001b[0;32mreturn\u001b[0m \u001b[0mresult\u001b[0m\u001b[0;34m\u001b[0m\u001b[0;34m\u001b[0m\u001b[0m\n\u001b[1;32m   2325\u001b[0m \u001b[0;34m\u001b[0m\u001b[0m\n",
      "\u001b[0;32m<decorator-gen-109>\u001b[0m in \u001b[0;36mshebang\u001b[0;34m(self, line, cell)\u001b[0m\n",
      "\u001b[0;32m/usr/local/lib/python3.6/dist-packages/IPython/core/magic.py\u001b[0m in \u001b[0;36m<lambda>\u001b[0;34m(f, *a, **k)\u001b[0m\n\u001b[1;32m    185\u001b[0m     \u001b[0;31m# but it's overkill for just that one bit of state.\u001b[0m\u001b[0;34m\u001b[0m\u001b[0;34m\u001b[0m\u001b[0;34m\u001b[0m\u001b[0m\n\u001b[1;32m    186\u001b[0m     \u001b[0;32mdef\u001b[0m \u001b[0mmagic_deco\u001b[0m\u001b[0;34m(\u001b[0m\u001b[0marg\u001b[0m\u001b[0;34m)\u001b[0m\u001b[0;34m:\u001b[0m\u001b[0;34m\u001b[0m\u001b[0;34m\u001b[0m\u001b[0m\n\u001b[0;32m--> 187\u001b[0;31m         \u001b[0mcall\u001b[0m \u001b[0;34m=\u001b[0m \u001b[0;32mlambda\u001b[0m \u001b[0mf\u001b[0m\u001b[0;34m,\u001b[0m \u001b[0;34m*\u001b[0m\u001b[0ma\u001b[0m\u001b[0;34m,\u001b[0m \u001b[0;34m**\u001b[0m\u001b[0mk\u001b[0m\u001b[0;34m:\u001b[0m \u001b[0mf\u001b[0m\u001b[0;34m(\u001b[0m\u001b[0;34m*\u001b[0m\u001b[0ma\u001b[0m\u001b[0;34m,\u001b[0m \u001b[0;34m**\u001b[0m\u001b[0mk\u001b[0m\u001b[0;34m)\u001b[0m\u001b[0;34m\u001b[0m\u001b[0;34m\u001b[0m\u001b[0m\n\u001b[0m\u001b[1;32m    188\u001b[0m \u001b[0;34m\u001b[0m\u001b[0m\n\u001b[1;32m    189\u001b[0m         \u001b[0;32mif\u001b[0m \u001b[0mcallable\u001b[0m\u001b[0;34m(\u001b[0m\u001b[0marg\u001b[0m\u001b[0;34m)\u001b[0m\u001b[0;34m:\u001b[0m\u001b[0;34m\u001b[0m\u001b[0;34m\u001b[0m\u001b[0m\n",
      "\u001b[0;32m/usr/local/lib/python3.6/dist-packages/IPython/core/magics/script.py\u001b[0m in \u001b[0;36mshebang\u001b[0;34m(self, line, cell)\u001b[0m\n\u001b[1;32m    243\u001b[0m             \u001b[0msys\u001b[0m\u001b[0;34m.\u001b[0m\u001b[0mstderr\u001b[0m\u001b[0;34m.\u001b[0m\u001b[0mflush\u001b[0m\u001b[0;34m(\u001b[0m\u001b[0;34m)\u001b[0m\u001b[0;34m\u001b[0m\u001b[0;34m\u001b[0m\u001b[0m\n\u001b[1;32m    244\u001b[0m         \u001b[0;32mif\u001b[0m \u001b[0margs\u001b[0m\u001b[0;34m.\u001b[0m\u001b[0mraise_error\u001b[0m \u001b[0;32mand\u001b[0m \u001b[0mp\u001b[0m\u001b[0;34m.\u001b[0m\u001b[0mreturncode\u001b[0m\u001b[0;34m!=\u001b[0m\u001b[0;36m0\u001b[0m\u001b[0;34m:\u001b[0m\u001b[0;34m\u001b[0m\u001b[0;34m\u001b[0m\u001b[0m\n\u001b[0;32m--> 245\u001b[0;31m             \u001b[0;32mraise\u001b[0m \u001b[0mCalledProcessError\u001b[0m\u001b[0;34m(\u001b[0m\u001b[0mp\u001b[0m\u001b[0;34m.\u001b[0m\u001b[0mreturncode\u001b[0m\u001b[0;34m,\u001b[0m \u001b[0mcell\u001b[0m\u001b[0;34m,\u001b[0m \u001b[0moutput\u001b[0m\u001b[0;34m=\u001b[0m\u001b[0mout\u001b[0m\u001b[0;34m,\u001b[0m \u001b[0mstderr\u001b[0m\u001b[0;34m=\u001b[0m\u001b[0merr\u001b[0m\u001b[0;34m)\u001b[0m\u001b[0;34m\u001b[0m\u001b[0;34m\u001b[0m\u001b[0m\n\u001b[0m\u001b[1;32m    246\u001b[0m \u001b[0;34m\u001b[0m\u001b[0m\n\u001b[1;32m    247\u001b[0m     \u001b[0;32mdef\u001b[0m \u001b[0m_run_script\u001b[0m\u001b[0;34m(\u001b[0m\u001b[0mself\u001b[0m\u001b[0;34m,\u001b[0m \u001b[0mp\u001b[0m\u001b[0;34m,\u001b[0m \u001b[0mcell\u001b[0m\u001b[0;34m,\u001b[0m \u001b[0mto_close\u001b[0m\u001b[0;34m)\u001b[0m\u001b[0;34m:\u001b[0m\u001b[0;34m\u001b[0m\u001b[0;34m\u001b[0m\u001b[0m\n",
      "\u001b[0;31mCalledProcessError\u001b[0m: Command 'b'\\n# Compute DeepLift attributions\\nrevealcancel_model = kc.convert_model_from_saved_files(\\n                            h5_file=saved_model_file,\\n                            nonlinear_mxts_mode=NonlinearMxtsMode.RevealCancel)\\nrescale_model = kc.convert_model_from_saved_files(\\n                            h5_file=saved_model_file,\\n                            nonlinear_mxts_mode=NonlinearMxtsMode.Rescale)\\n\\nrevealcancel_func = revealcancel_model.get_target_contribs_func(find_scores_layer_idx=0, target_layer_idx=-2)\\nrescale_func = rescale_model.get_target_contribs_func(find_scores_layer_idx=0, target_layer_idx=-2)\\n\\na_rc = np.array([np.array(revealcancel_func(\\n                task_idx=np.argmax(y),\\n                input_data_list=[[x]],\\n                input_references_list=[[np.zeros_like(x)]],\\n                batch_size=100,\\n                progress_update=None)) for x, y in zip(xs,ys)])\\n\\na_res = np.array([np.array(rescale_func(\\n                task_idx=np.argmax(y),\\n                input_data_list=[[x]],\\n                input_references_list=[[np.zeros_like(x)]],\\n                batch_size=100,\\n                progress_update=None)) for x, y in zip(xs,ys)])\\nprint (a_rc.shape)\\n'' returned non-zero exit status 1."
     ]
    }
   ],
   "source": [
    "%%script false\n",
    "\n",
    "# Compute DeepLift attributions\n",
    "revealcancel_model = kc.convert_model_from_saved_files(\n",
    "                            h5_file=saved_model_file,\n",
    "                            nonlinear_mxts_mode=NonlinearMxtsMode.RevealCancel)\n",
    "rescale_model = kc.convert_model_from_saved_files(\n",
    "                            h5_file=saved_model_file,\n",
    "                            nonlinear_mxts_mode=NonlinearMxtsMode.Rescale)\n",
    "\n",
    "revealcancel_func = revealcancel_model.get_target_contribs_func(find_scores_layer_idx=0, target_layer_idx=-2)\n",
    "rescale_func = rescale_model.get_target_contribs_func(find_scores_layer_idx=0, target_layer_idx=-2)\n",
    "\n",
    "a_rc = np.array([np.array(revealcancel_func(\n",
    "                task_idx=np.argmax(y),\n",
    "                input_data_list=[[x]],\n",
    "                input_references_list=[[np.zeros_like(x)]],\n",
    "                batch_size=100,\n",
    "                progress_update=None)) for x, y in zip(xs,ys)])\n",
    "\n",
    "a_res = np.array([np.array(rescale_func(\n",
    "                task_idx=np.argmax(y),\n",
    "                input_data_list=[[x]],\n",
    "                input_references_list=[[np.zeros_like(x)]],\n",
    "                batch_size=100,\n",
    "                progress_update=None)) for x, y in zip(xs,ys)])\n",
    "print (a_rc.shape)"
   ]
  },
  {
   "cell_type": "code",
   "execution_count": null,
   "metadata": {
    "collapsed": false
   },
   "outputs": [],
   "source": [
    "# Randomization test\n",
    "original_attribution = a_shap\n",
    "heatmaps = []\n",
    "the_model = probModel\n",
    "original_weights = {}\n",
    "attribute_f = compute_deepshap\n",
    "\n",
    "plt.figure()\n",
    "plot(original_attribution[idx].reshape(img_rows, img_cols), xs[idx].reshape(img_rows, img_cols)).title('Original')\n",
    "\n",
    "for i, l in enumerate(the_model.layers[::-1]):\n",
    "    if (len(l.get_weights())):\n",
    "        original_weights[i] = l.get_weights()\n",
    "        # Replace weights with random\n",
    "        new_weights = [np.random.normal(size=w.shape) for w in l.get_weights()]\n",
    "        l.set_weights(new_weights)\n",
    "        print (i, l)\n",
    "        a = attribute_f()\n",
    "        plt.figure()\n",
    "        plot(a[idx].reshape(img_rows, img_cols), xs[idx].reshape(img_rows, img_cols)).title(str(i))\n",
    "        heatmaps.append(a)\n",
    "        \n",
    "        \n",
    "# Restore weights\n",
    "for i, l in enumerate(the_model.layers[::-1]):\n",
    "    if (len(l.get_weights())):\n",
    "        l.set_weights(original_weights[i])\n",
    "\n",
    "print (\"Correlations\")\n",
    "for attr in heatmaps:\n",
    "    corr = np.mean([scipy.stats.spearmanr(x.flatten(), y.flatten())[0] for x,y in zip(original_attribution, attr)])\n",
    "    print (corr)"
   ]
  },
  {
   "cell_type": "code",
   "execution_count": null,
   "metadata": {
    "collapsed": false
   },
   "outputs": [],
   "source": [
    "# Randomization test\n",
    "original_attribution = a_gradin\n",
    "heatmaps = []\n",
    "the_model = fModel\n",
    "original_weights = {}\n",
    "print (original_attribution.shape)\n",
    "\n",
    "plt.figure()\n",
    "plot(original_attribution[idx].reshape(img_rows, img_cols), xs[idx].reshape(img_rows, img_cols)).title('Original')\n",
    "\n",
    "with DeepExplain(session=K.get_session()) as de:  # <-- init DeepExplain context\n",
    "    for i, l in enumerate(the_model.layers[::-1]):\n",
    "        if (len(l.get_weights())):\n",
    "            original_weights[i] = l.get_weights()\n",
    "            # Replace weights with random\n",
    "            new_weights = [np.random.normal(size=w.shape) for w in l.get_weights()]\n",
    "            l.set_weights(new_weights)\n",
    "            print (i, l.get_weights()[0].shape)\n",
    "            a = de.explain('grad*input', target_tensor * ys, input_tensor, xs)\n",
    "            plt.figure()\n",
    "            plot(a[idx].reshape(img_rows, img_cols), xs[idx].reshape(img_rows, img_cols)).title(str(i))\n",
    "            #print (a[idx])\n",
    "            heatmaps.append(a)\n",
    "        \n",
    "        \n",
    "# Restore weights\n",
    "for i, l in enumerate(the_model.layers[::-1]):\n",
    "    if (len(l.get_weights())):\n",
    "        l.set_weights(original_weights[i])\n",
    "\n",
    "print (\"Correlations\")\n",
    "for attr in heatmaps:\n",
    "    corr = np.mean([scipy.stats.spearmanr(x.flatten(), y.flatten())[0] for x,y in zip(original_attribution, attr)])\n",
    "    print (corr)"
   ]
  }
 ],
 "metadata": {
  "kernelspec": {
   "display_name": "Python 3",
   "language": "python",
   "name": "python3"
  },
  "language_info": {
   "codemirror_mode": {
    "name": "ipython",
    "version": 3
   },
   "file_extension": ".py",
   "mimetype": "text/x-python",
   "name": "python",
   "nbconvert_exporter": "python",
   "pygments_lexer": "ipython3",
   "version": "3.6.7"
  }
 },
 "nbformat": 4,
 "nbformat_minor": 1
}
