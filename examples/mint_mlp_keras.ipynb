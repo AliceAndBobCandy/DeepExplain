{
 "cells": [
  {
   "cell_type": "code",
   "execution_count": 1,
   "metadata": {
    "collapsed": true
   },
   "outputs": [],
   "source": [
    "## DeepExplain - Keras (TF backend) example\n",
    "### MNIST with CNN"
   ]
  },
  {
   "cell_type": "code",
   "execution_count": 2,
   "metadata": {
    "collapsed": false
   },
   "outputs": [
    {
     "name": "stderr",
     "output_type": "stream",
     "text": [
      "/usr/local/lib/python3.5/dist-packages/h5py/__init__.py:34: FutureWarning: Conversion of the second argument of issubdtype from `float` to `np.floating` is deprecated. In future, it will be treated as `np.float64 == np.dtype(float).type`.\n",
      "  from ._conv import register_converters as _register_converters\n",
      "Using TensorFlow backend.\n"
     ]
    }
   ],
   "source": [
    "from __future__ import absolute_import\n",
    "from __future__ import division\n",
    "from __future__ import print_function\n",
    "\n",
    "import tempfile, sys, os\n",
    "sys.path.insert(0, os.path.abspath('..'))\n",
    "\n",
    "import keras\n",
    "from keras.datasets import mnist\n",
    "from keras.models import Sequential, Model, load_model\n",
    "from keras.layers import Dense, Dropout, Flatten, Activation\n",
    "from keras import regularizers\n",
    "from keras.layers import Conv2D, MaxPooling2D\n",
    "from keras import backend as K\n",
    "import numpy as np\n",
    "import tensorflow as tf\n",
    "import scipy\n",
    "\n",
    "# Import DeepExplain\n",
    "from deepexplain.tensorflow import DeepExplain\n",
    "\n",
    "#Import DeepLift\n",
    "import deeplift\n",
    "from deeplift.layers import NonlinearMxtsMode\n",
    "from deeplift.conversion import kerasapi_conversion as kc\n",
    "from deeplift.util import compile_func\n"
   ]
  },
  {
   "cell_type": "code",
   "execution_count": 3,
   "metadata": {
    "collapsed": false
   },
   "outputs": [
    {
     "name": "stderr",
     "output_type": "stream",
     "text": [
      "/usr/local/lib/python3.5/dist-packages/ipykernel/__main__.py:16: DeprecationWarning: `imresize` is deprecated!\n",
      "`imresize` is deprecated in SciPy 1.0.0, and will be removed in 1.2.0.\n",
      "Use ``skimage.transform.resize`` instead.\n",
      "/usr/local/lib/python3.5/dist-packages/ipykernel/__main__.py:17: DeprecationWarning: `imresize` is deprecated!\n",
      "`imresize` is deprecated in SciPy 1.0.0, and will be removed in 1.2.0.\n",
      "Use ``skimage.transform.resize`` instead.\n"
     ]
    },
    {
     "name": "stdout",
     "output_type": "stream",
     "text": [
      "x_train shape: (60000, 16)\n",
      "60000 train samples\n",
      "10000 test samples\n",
      "Train on 60000 samples, validate on 10000 samples\n",
      "Epoch 1/10\n",
      "60000/60000 [==============================] - 1s 25us/step - loss: 1.5279 - acc: 0.5066 - val_loss: 1.0299 - val_acc: 0.6755\n",
      "Epoch 2/10\n",
      "60000/60000 [==============================] - 1s 17us/step - loss: 0.9174 - acc: 0.7087 - val_loss: 0.8266 - val_acc: 0.7396\n",
      "Epoch 3/10\n",
      "60000/60000 [==============================] - 1s 17us/step - loss: 0.8214 - acc: 0.7357 - val_loss: 0.7763 - val_acc: 0.7518\n",
      "Epoch 4/10\n",
      "60000/60000 [==============================] - 1s 17us/step - loss: 0.7839 - acc: 0.7492 - val_loss: 0.7410 - val_acc: 0.7634\n",
      "Epoch 5/10\n",
      "60000/60000 [==============================] - 1s 17us/step - loss: 0.7560 - acc: 0.7579 - val_loss: 0.7214 - val_acc: 0.7698\n",
      "Epoch 6/10\n",
      "60000/60000 [==============================] - 1s 17us/step - loss: 0.7289 - acc: 0.7655 - val_loss: 0.7069 - val_acc: 0.7769\n",
      "Epoch 7/10\n",
      "60000/60000 [==============================] - 1s 17us/step - loss: 0.7008 - acc: 0.7754 - val_loss: 0.6744 - val_acc: 0.7840\n",
      "Epoch 8/10\n",
      "60000/60000 [==============================] - 1s 17us/step - loss: 0.6763 - acc: 0.7825 - val_loss: 0.6579 - val_acc: 0.7909\n",
      "Epoch 9/10\n",
      "60000/60000 [==============================] - 1s 17us/step - loss: 0.6523 - acc: 0.7896 - val_loss: 0.6302 - val_acc: 0.7996\n",
      "Epoch 10/10\n",
      "60000/60000 [==============================] - 2s 38us/step - loss: 0.6304 - acc: 0.7957 - val_loss: 0.6199 - val_acc: 0.8021\n",
      "0.045047916\n",
      "0.04221722\n"
     ]
    }
   ],
   "source": [
    "# Build and train a network.\n",
    "\n",
    "SKIP_TRAIN = False\n",
    "saved_model_file = 'model.h5'\n",
    "\n",
    "batch_size = 128\n",
    "num_classes = 10\n",
    "epochs = 10\n",
    "\n",
    "# input image dimensions\n",
    "img_rows, img_cols = 4, 4\n",
    "\n",
    "# the data, shuffled and split between train and test sets\n",
    "(x_train, y_train), (x_test, y_test) = mnist.load_data()\n",
    "\n",
    "x_train = np.array([scipy.misc.imresize(x, (img_rows,img_cols,)) for x in x_train])\n",
    "x_test = np.array([scipy.misc.imresize(x, (img_rows,img_cols,)) for x in x_test])\n",
    "\n",
    "\n",
    "\n",
    "#x_train = x_train.reshape(-1, 28,28,1)\n",
    "#x_test = x_test.reshape(-1, 28,28,1)\n",
    "x_train = x_train.reshape(-1, img_rows*img_cols)\n",
    "x_test = x_test.reshape(-1, img_rows*img_cols)\n",
    "x_train = x_train.astype('float32')\n",
    "x_test = x_test.astype('float32')\n",
    "x_train /= 255\n",
    "x_test /= 255\n",
    "x_train = (x_train - 0.5) * 2\n",
    "x_test = (x_test - 0.5) * 2\n",
    "print('x_train shape:', x_train.shape)\n",
    "print(x_train.shape[0], 'train samples')\n",
    "print(x_test.shape[0], 'test samples')\n",
    "\n",
    "# convert class vectors to binary class matrices\n",
    "y_train = keras.utils.to_categorical(y_train, num_classes)\n",
    "y_test = keras.utils.to_categorical(y_test, num_classes)\n",
    "\n",
    "#with DeepExplain(session=K.get_session()) as de:  # <-- init DeepExplain context\n",
    "reg = keras.regularizers.l1(0)\n",
    "def f(x):\n",
    "    return x*tf.sigmoid(x)\n",
    "\n",
    "if SKIP_TRAIN:\n",
    "    model = load_model(saved_model_file)\n",
    "else:\n",
    "    #de.enable_override('shapley')\n",
    "    model = Sequential()\n",
    "    #model.add(Conv2D(32, kernel_size=(3, 3),activation='relu',input_shape=(28,28,1)))\n",
    "    #model.add(Conv2D(64, (3, 3), activation='relu'))\n",
    "    #model.add(MaxPooling2D(pool_size=(2, 2)))\n",
    "    #model.add(Dropout(0.25))\n",
    "    #model.add(Flatten())\n",
    "    model.add(Dense(30, input_shape=(img_rows*img_cols,), activation='relu', bias_regularizer=reg))\n",
    "    model.add(Dense(30, activation='relu', bias_regularizer=reg))\n",
    "    model.add(Dense(num_classes, bias_regularizer=reg))\n",
    "    model.add(Activation('softmax'))\n",
    "    # ^ IMPORTANT: notice that the final softmax must be in its own layer \n",
    "    # if we want to target pre-softmax units\n",
    "\n",
    "    model.compile(loss=keras.losses.categorical_crossentropy,\n",
    "                  optimizer=keras.optimizers.Adadelta(),\n",
    "                  metrics=['accuracy'])\n",
    "\n",
    "    model.fit(x_train, y_train,\n",
    "              batch_size=batch_size,\n",
    "              epochs=epochs,\n",
    "              verbose=1,\n",
    "              validation_data=(x_test, y_test))\n",
    "    model.save(saved_model_file)\n",
    "    print (model.layers[0].get_weights()[1].mean())\n",
    "    print (model.layers[0].get_weights()[1].var())\n",
    "    \n",
    "#score = model.evaluate(x_test, y_test, verbose=0)\n",
    "#print('Test loss:', score[0])\n",
    "#print('Test accuracy:', score[1])"
   ]
  },
  {
   "cell_type": "code",
   "execution_count": 4,
   "metadata": {
    "collapsed": false
   },
   "outputs": [],
   "source": [
    "%matplotlib inline\n",
    "aModel = Model(inputs=model.inputs, outputs=[model.layers[1].input])\n",
    "y = aModel.predict(x_test)\n",
    "import matplotlib.pyplot as plt\n",
    "#plt.hist(model.layers[1].get_weights()[0].flatten(), 100)\n",
    "#plt.hist(y.flatten(), 100)"
   ]
  },
  {
   "cell_type": "code",
   "execution_count": 5,
   "metadata": {
    "collapsed": false
   },
   "outputs": [],
   "source": [
    "# Define what to be explained\n",
    "xs = x_test[0:40]\n",
    "ys = y_test[0:40]"
   ]
  },
  {
   "cell_type": "code",
   "execution_count": 6,
   "metadata": {
    "collapsed": false
   },
   "outputs": [
    {
     "name": "stdout",
     "output_type": "stream",
     "text": [
      "nonlinear_mxts_mode is set to: RevealCancel\n",
      "Heads-up: I assume softmax is the output layer, not an intermediate one; if it's an intermediate layer, please let me know and I will prioritise that use-case\n",
      "nonlinear_mxts_mode is set to: Rescale\n",
      "Heads-up: I assume softmax is the output layer, not an intermediate one; if it's an intermediate layer, please let me know and I will prioritise that use-case\n",
      "(40, 1, 16)\n"
     ]
    }
   ],
   "source": [
    "# Compute DeepLift attributions\n",
    "revealcancel_model = kc.convert_model_from_saved_files(\n",
    "                            h5_file=saved_model_file,\n",
    "                            nonlinear_mxts_mode=NonlinearMxtsMode.RevealCancel)\n",
    "rescale_model = kc.convert_model_from_saved_files(\n",
    "                            h5_file=saved_model_file,\n",
    "                            nonlinear_mxts_mode=NonlinearMxtsMode.Rescale)\n",
    "\n",
    "revealcancel_func = revealcancel_model.get_target_contribs_func(find_scores_layer_idx=0, target_layer_idx=-2)\n",
    "rescale_func = rescale_model.get_target_contribs_func(find_scores_layer_idx=0, target_layer_idx=-2)\n",
    "\n",
    "a_rc = np.array([np.array(revealcancel_func(\n",
    "                task_idx=np.argmax(y),\n",
    "                input_data_list=[[x]],\n",
    "                input_references_list=[[np.zeros_like(x)]],\n",
    "                batch_size=100,\n",
    "                progress_update=None)) for x, y in zip(xs,ys)])\n",
    "\n",
    "a_res = np.array([np.array(rescale_func(\n",
    "                task_idx=np.argmax(y),\n",
    "                input_data_list=[[x]],\n",
    "                input_references_list=[[np.zeros_like(x)]],\n",
    "                batch_size=100,\n",
    "                progress_update=None)) for x, y in zip(xs,ys)])\n",
    "print (a_rc.shape)"
   ]
  },
  {
   "cell_type": "code",
   "execution_count": 7,
   "metadata": {
    "collapsed": false
   },
   "outputs": [
    {
     "name": "stdout",
     "output_type": "stream",
     "text": [
      "CPU times: user 0 ns, sys: 0 ns, total: 0 ns\n",
      "Wall time: 5.25 µs\n",
      "{'MatMul': 'MatMulDeepExplainGrad', 'Sigmoid': 'DeepExplainGrad', 'Tanh': 'DeepExplainGrad', 'Relu': 'DeepExplainGrad', 'Conv2D': 'ConvolutionDeepExplainGrad', 'Softplus': 'DeepExplainGrad', 'Elu': 'DeepExplainGrad'}\n",
      "DeepExplain: running \"grad*input\" explanation method (2)\n",
      "Model with multiple inputs:  False\n",
      "DeepExplain: running \"intgrad\" explanation method (3)\n",
      "Model with multiple inputs:  False\n",
      "DeepExplain: running \"shapley\" explanation method (6)\n",
      "Model with multiple inputs:  False\n",
      "Shapley: computing references...\n",
      "MatMul: model_2/dense_1/MatMul\n",
      "BiasAdd: model_2/dense_1/BiasAdd\n",
      "Relu: model_2/dense_1/Relu\n",
      "MatMul: model_2/dense_2/MatMul\n",
      "BiasAdd: model_2/dense_2/BiasAdd\n",
      "Relu: model_2/dense_2/Relu\n",
      "MatMul: model_2/dense_3/MatMul\n",
      "BiasAdd: model_2/dense_3/BiasAdd\n",
      "model_2/dense_3/MatMul_x (1, 30)\n",
      "model_2/dense_1/MatMul_w (16, 30)\n",
      "model_2/dense_1/MatMul_x (1, 16)\n",
      "model_2/dense_3/MatMul_b (10,)\n",
      "model_2/dense_2/MatMul_x (1, 30)\n",
      "model_2/dense_3/MatMul_w (30, 10)\n",
      "model_2/dense_2/convolution_b (30,)\n",
      "model_2/dense_1/convolution_b (30,)\n",
      "model_2/dense_3/convolution_b (10,)\n",
      "model_2/dense_1/MatMul_b (30,)\n",
      "model_2/dense_2/MatMul_b (30,)\n",
      "model_2/dense_2/MatMul_w (30, 30)\n",
      "Shapley: references ready\n",
      "Players (40, 30)\n",
      "Weights (30, 10)\n",
      "Reference (1, 30)\n",
      "Matmul override:  model_2/dense_3/MatMul\n",
      "\t skipping...\n",
      "Players (40, 30)\n",
      "Weights (30, 30)\n",
      "Reference (1, 30)\n",
      "Matmul override:  model_2/dense_2/MatMul\n",
      "Eta shap [approx] games[(40, 30, 30)], bias[(30,)], baseline[(30, 30)]\n",
      "Reshape: games[(40, 30, 30)], bias[(30,)], baseline[(30, 30)]\n",
      "Return (40, 30)\n",
      "Players (40, 16)\n",
      "Weights (16, 30)\n",
      "Reference (1, 16)\n",
      "Matmul override:  model_2/dense_1/MatMul\n",
      "Eta shap [approx] games[(40, 16, 30)], bias[(30,)], baseline[(16, 30)]\n",
      "Reshape: games[(40, 16, 30)], bias[(30,)], baseline[(16, 30)]\n",
      "Return (40, 16)\n",
      "Done\n"
     ]
    }
   ],
   "source": [
    "%time\n",
    "with DeepExplain(session=K.get_session()) as de:  # <-- init DeepExplain context\n",
    "    # Need to reconstruct the graph in DeepExplain context, using the same weights.\n",
    "    # With Keras this is very easy:\n",
    "    # 1. Get the input tensor to the original model\n",
    "    input_tensor = model.layers[0].input\n",
    "    \n",
    "    # 2. We now target the output of the last dense layer (pre-softmax)\n",
    "    # To do so, create a new model sharing the same layers untill the last dense (index -2)\n",
    "    fModel = Model(inputs=input_tensor, outputs = model.layers[-2].output)\n",
    "    target_tensor = fModel(input_tensor)\n",
    "    \n",
    "\n",
    "    \n",
    "    a_gradin = de.explain('grad*input', target_tensor * ys, input_tensor, xs)\n",
    "    #attributions = de.explain('saliency', target_tensor * ys, input_tensor, xs)\n",
    "    a_intgrad = de.explain('intgrad', target_tensor * ys, input_tensor, xs)\n",
    "    #a_res = de.explain('deeplift', target_tensor * ys, input_tensor, xs)\n",
    "    #a_linear = de.explain('linear', target_tensor * ys, input_tensor, xs)\n",
    "    a_shap = de.explain('shapley', target_tensor * ys, input_tensor, xs)\n",
    "    #a_shap = np.zeros_like(a_linear)\n",
    "    \n",
    "    #attributions2 = de.explain('elrp', target_tensor * ys, input_tensor, xs)\n",
    "    #attributions = de.explain('occlusion', target_tensor * ys, input_tensor, xs)\n",
    "    print (\"Done\")"
   ]
  },
  {
   "cell_type": "code",
   "execution_count": 8,
   "metadata": {
    "collapsed": false
   },
   "outputs": [],
   "source": [
    "# Compute exacly shapley values!\n",
    "saved_file = 'exact.npy'\n",
    "if True or not SKIP_TRAIN:\n",
    "    from deepexplain.tensorflow.exact_shapley import compute_shapley\n",
    "    a_exact = np.array([compute_shapley(xx, lambda x: (fModel.predict(np.array(x))*yy).sum(-1)) for xx, yy in zip(xs, ys)])\n",
    "    np.save(saved_file, a_exact)\n",
    "else:\n",
    "    a_exact = np.load(saved_file)\n"
   ]
  },
  {
   "cell_type": "code",
   "execution_count": null,
   "metadata": {
    "collapsed": false
   },
   "outputs": [],
   "source": []
  },
  {
   "cell_type": "code",
   "execution_count": 9,
   "metadata": {
    "collapsed": false
   },
   "outputs": [
    {
     "data": {
      "text/plain": [
       "<matplotlib.text.Text at 0x7f9174171898>"
      ]
     },
     "execution_count": 9,
     "metadata": {},
     "output_type": "execute_result"
    },
    {
     "name": "stderr",
     "output_type": "stream",
     "text": [
      "/usr/local/lib/python3.5/dist-packages/matplotlib/colors.py:823: UserWarning: Warning: converting a masked element to nan.\n",
      "  dtype = np.min_scalar_type(value)\n",
      "/usr/local/lib/python3.5/dist-packages/numpy/ma/core.py:2784: UserWarning: Warning: converting a masked element to nan.\n",
      "  order=order, subok=True, ndmin=ndmin)\n"
     ]
    },
    {
     "data": {
      "image/png": "[encoded data removed]",
      "text/plain": [
       "<matplotlib.figure.Figure at 0x7f919443ed68>"
      ]
     },
     "metadata": {},
     "output_type": "display_data"
    },
    {
     "data": {
      "image/png": "[encoded data removed]",
      "text/plain": [
       "<matplotlib.figure.Figure at 0x7f927a51c0f0>"
      ]
     },
     "metadata": {},
     "output_type": "display_data"
    },
    {
     "data": {
      "image/png": "[encoded data removed]",
      "text/plain": [
       "<matplotlib.figure.Figure at 0x7f919415ecc0>"
      ]
     },
     "metadata": {},
     "output_type": "display_data"
    },
    {
     "data": {
      "image/png": "[encoded data removed]",
      "text/plain": [
       "<matplotlib.figure.Figure at 0x7f919418b8d0>"
      ]
     },
     "metadata": {},
     "output_type": "display_data"
    },
    {
     "data": {
      "image/png": "[encoded data removed]",
      "text/plain": [
       "<matplotlib.figure.Figure at 0x7f91940419b0>"
      ]
     },
     "metadata": {},
     "output_type": "display_data"
    },
    {
     "data": {
      "image/png": "[encoded data removed]",
      "text/plain": [
       "<matplotlib.figure.Figure at 0x7f919413cf98>"
      ]
     },
     "metadata": {},
     "output_type": "display_data"
    }
   ],
   "source": [
    "# Plot attributions\n",
    "from utils import plot, plt\n",
    "%matplotlib inline\n",
    "idx = 3\n",
    "plot(a_gradin[idx].reshape(img_rows, img_cols), xs[idx].reshape(img_rows, img_cols)).title('GradInput')\n",
    "plt.figure()\n",
    "plot(a_intgrad[idx].reshape(img_rows, img_cols), xs[idx].reshape(img_rows, img_cols)).title('IntGrad')\n",
    "plt.figure()\n",
    "plot(a_res[idx].reshape(img_rows, img_cols), xs[idx].reshape(img_rows, img_cols)).title('DeepLift (Rescale)')\n",
    "#plt.figure()\n",
    "#plot((a_linear)[idx].reshape(img_rows, img_cols), xs[idx].reshape(img_rows, img_cols)).title('Linear')\n",
    "plt.figure()\n",
    "plot(a_rc[idx].reshape(img_rows, img_cols), xs[idx].reshape(img_rows, img_cols)).title('DeepLift (RevCancel)')\n",
    "plt.figure()\n",
    "plot((a_shap)[idx].reshape(img_rows, img_cols), xs[idx].reshape(img_rows, img_cols)).title('Deep Shap')\n",
    "plt.figure()\n",
    "plot((a_exact)[idx].reshape(img_rows, img_cols), xs[idx].reshape(img_rows, img_cols)).title('Exact Shap')\n",
    "\n",
    "\n",
    "        \n",
    "        \n"
   ]
  },
  {
   "cell_type": "code",
   "execution_count": 10,
   "metadata": {
    "collapsed": false
   },
   "outputs": [
    {
     "name": "stdout",
     "output_type": "stream",
     "text": [
      "Diff with DeepShap  0.08718340910388322\n",
      "Diff with DeepLift  0.37562178148394193\n",
      "Diff with DeepLift (Rescale)  1.9856548965688596\n",
      "Diff with Int Gradients  2.039963711345392\n",
      "Diff with GradInput  5.123728816245577\n",
      "Pearson with DeepShap  0.9891911764705881\n",
      "Pearson with DeepLift  0.9804411764705883\n",
      "Pearson with DeepLift (rescale) 0.9444852941176471\n",
      "Pearson with Int Gradients  0.9441176470588235\n",
      "Pearson with GradInput  0.9031617647058823\n"
     ]
    },
    {
     "data": {
      "text/plain": [
       "<matplotlib.figure.Figure at 0x7f9173ffa400>"
      ]
     },
     "metadata": {},
     "output_type": "display_data"
    },
    {
     "data": {
      "image/png": "[encoded data removed]",
      "text/plain": [
       "<matplotlib.figure.Figure at 0x7f9173ffa080>"
      ]
     },
     "metadata": {},
     "output_type": "display_data"
    },
    {
     "data": {
      "text/plain": [
       "<matplotlib.figure.Figure at 0x7f9173faa710>"
      ]
     },
     "metadata": {},
     "output_type": "display_data"
    },
    {
     "data": {
      "image/png": "[encoded data removed]",
      "text/plain": [
       "<matplotlib.figure.Figure at 0x7f9173faa4a8>"
      ]
     },
     "metadata": {},
     "output_type": "display_data"
    }
   ],
   "source": [
    "methods = [a_gradin, a_intgrad, a_res, a_rc, a_shap, a_exact]\n",
    "confusion = np.zeros((len(methods), len(methods)))\n",
    "confusion[:] = np.nan\n",
    "confusion_r = np.zeros((len(methods), len(methods)))\n",
    "confusion_r[:] = np.nan\n",
    "\n",
    "n = a_gradin.shape[0]\n",
    "for i, m1 in enumerate(methods):\n",
    "    for j, m2 in enumerate(methods):\n",
    "        if i >= j:\n",
    "            m1 = m1.reshape(n, -1)\n",
    "            m2 = m2.reshape(n, -1)\n",
    "            confusion[i][j] = ((m1-m2)**2).mean()\n",
    "            confusion_r[i][j] = np.mean([scipy.stats.spearmanr(x, y)[0] for x,y in zip(m1, m2)])\n",
    "plt.figure()\n",
    "plt.matshow(confusion, cmap='RdBu_r')\n",
    "plt.colorbar()\n",
    "plt.figure()\n",
    "plt.matshow(confusion_r, cmap='RdBu_r')\n",
    "plt.colorbar()\n",
    "print ('Diff with DeepShap ', confusion[-1][-2])\n",
    "print ('Diff with DeepLift ', confusion[-1][-3])\n",
    "print ('Diff with DeepLift (Rescale) ', confusion[-1][-4])\n",
    "print ('Diff with Int Gradients ', confusion[-1][-5])\n",
    "print ('Diff with GradInput ', confusion[-1][-6])\n",
    "\n",
    "\n",
    "print ('Pearson with DeepShap ', confusion_r[-1][-2])\n",
    "print ('Pearson with DeepLift ', confusion_r[-1][-3])\n",
    "print ('Pearson with DeepLift (rescale)', confusion_r[-1][-4])\n",
    "print ('Pearson with Int Gradients ', confusion_r[-1][-5])\n",
    "print ('Pearson with GradInput ', confusion_r[-1][-6])"
   ]
  },
  {
   "cell_type": "code",
   "execution_count": 11,
   "metadata": {
    "collapsed": false
   },
   "outputs": [
    {
     "ename": "NameError",
     "evalue": "name 'a_linear' is not defined",
     "output_type": "error",
     "traceback": [
      "\u001b[0;31m---------------------------------------------------------------------------\u001b[0m",
      "\u001b[0;31mNameError\u001b[0m                                 Traceback (most recent call last)",
      "\u001b[0;32m<ipython-input-11-dcd395af279c>\u001b[0m in \u001b[0;36m<module>\u001b[0;34m()\u001b[0m\n\u001b[1;32m      1\u001b[0m \u001b[0;32mfrom\u001b[0m \u001b[0mdeepexplain\u001b[0m\u001b[0;34m.\u001b[0m\u001b[0mtensorflow\u001b[0m\u001b[0;34m.\u001b[0m\u001b[0maccuracy_robustness\u001b[0m \u001b[0;32mimport\u001b[0m \u001b[0mrun_robustness_test\u001b[0m\u001b[0;34m\u001b[0m\u001b[0m\n\u001b[0;32m----> 2\u001b[0;31m \u001b[0moriginal_maps\u001b[0m \u001b[0;34m=\u001b[0m \u001b[0;34m[\u001b[0m\u001b[0ma_gradin\u001b[0m\u001b[0;34m,\u001b[0m \u001b[0ma_intgrad\u001b[0m\u001b[0;34m,\u001b[0m \u001b[0ma_res\u001b[0m\u001b[0;34m,\u001b[0m \u001b[0ma_linear\u001b[0m\u001b[0;34m,\u001b[0m \u001b[0ma_rc\u001b[0m\u001b[0;34m,\u001b[0m \u001b[0ma_shap\u001b[0m\u001b[0;34m,\u001b[0m \u001b[0ma_exact\u001b[0m\u001b[0;34m]\u001b[0m\u001b[0;34m\u001b[0m\u001b[0m\n\u001b[0m\u001b[1;32m      3\u001b[0m \u001b[0mnames\u001b[0m \u001b[0;34m=\u001b[0m \u001b[0;34m[\u001b[0m\u001b[0;34m'GradInput'\u001b[0m\u001b[0;34m,\u001b[0m \u001b[0;34m'IntGrad'\u001b[0m\u001b[0;34m,\u001b[0m \u001b[0;34m'DeepLift (Recale)'\u001b[0m\u001b[0;34m,\u001b[0m\u001b[0;34m'Linear'\u001b[0m\u001b[0;34m,\u001b[0m \u001b[0;34m'DeepLift (RevCanc)'\u001b[0m\u001b[0;34m,\u001b[0m \u001b[0;34m'ApprShapley'\u001b[0m\u001b[0;34m,\u001b[0m \u001b[0;34m'Shapley'\u001b[0m\u001b[0;34m]\u001b[0m\u001b[0;34m\u001b[0m\u001b[0m\n\u001b[1;32m      4\u001b[0m run_robustness_test(fModel, xs, ys, original_maps, names, 'Test', 1,\n\u001b[1;32m      5\u001b[0m                         result_path='.', mode='prediction', reduce_dim=None)\n",
      "\u001b[0;31mNameError\u001b[0m: name 'a_linear' is not defined"
     ]
    }
   ],
   "source": [
    "from deepexplain.tensorflow.accuracy_robustness import run_robustness_test\n",
    "original_maps = [a_gradin, a_intgrad, a_res, a_linear, a_rc, a_shap, a_exact]\n",
    "names = ['GradInput', 'IntGrad', 'DeepLift (Recale)','Linear', 'DeepLift (RevCanc)', 'ApprShapley', 'Shapley']\n",
    "run_robustness_test(fModel, xs, ys, original_maps, names, 'Test', 1,\n",
    "                        result_path='.', mode='prediction', reduce_dim=None)\n",
    "\n"
   ]
  },
  {
   "cell_type": "code",
   "execution_count": null,
   "metadata": {
    "collapsed": false
   },
   "outputs": [],
   "source": [
    "from deepexplain.tensorflow.sensitivityn import run_sensitivity_test\n",
    "run_sensitivity_test(fModel, xs, ys, original_maps, names, 'Test',\n",
    "                        result_path='.', number_of_samples=1000)\n"
   ]
  }
 ],
 "metadata": {
  "kernelspec": {
   "display_name": "Python 3",
   "language": "python",
   "name": "python3"
  },
  "language_info": {
   "codemirror_mode": {
    "name": "ipython",
    "version": 3
   },
   "file_extension": ".py",
   "mimetype": "text/x-python",
   "name": "python",
   "nbconvert_exporter": "python",
   "pygments_lexer": "ipython3",
   "version": "3.5.2"
  }
 },
 "nbformat": 4,
 "nbformat_minor": 1
}
