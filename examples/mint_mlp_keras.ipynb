{
 "cells": [
  {
   "cell_type": "code",
   "execution_count": 1,
   "metadata": {
    "collapsed": true
   },
   "outputs": [],
   "source": [
    "## DeepExplain - Keras (TF backend) example\n",
    "### MNIST with CNN"
   ]
  },
  {
   "cell_type": "code",
   "execution_count": 2,
   "metadata": {
    "collapsed": false
   },
   "outputs": [
    {
     "name": "stderr",
     "output_type": "stream",
     "text": [
      "/usr/local/lib/python3.5/dist-packages/h5py/__init__.py:34: FutureWarning: Conversion of the second argument of issubdtype from `float` to `np.floating` is deprecated. In future, it will be treated as `np.float64 == np.dtype(float).type`.\n",
      "  from ._conv import register_converters as _register_converters\n",
      "Using TensorFlow backend.\n"
     ]
    }
   ],
   "source": [
    "from __future__ import absolute_import\n",
    "from __future__ import division\n",
    "from __future__ import print_function\n",
    "\n",
    "import tempfile, sys, os\n",
    "sys.path.insert(0, os.path.abspath('..'))\n",
    "\n",
    "import keras\n",
    "from keras.datasets import mnist\n",
    "from keras.models import Sequential, Model, load_model\n",
    "from keras.layers import Dense, Dropout, Flatten, Activation\n",
    "from keras import regularizers\n",
    "from keras.layers import Conv2D, MaxPooling2D\n",
    "from keras import backend as K\n",
    "import numpy as np\n",
    "import tensorflow as tf\n",
    "import scipy\n",
    "\n",
    "# Import DeepExplain\n",
    "from deepexplain.tensorflow import DeepExplain\n",
    "\n",
    "#Import DeepLift\n",
    "import deeplift\n",
    "from deeplift.layers import NonlinearMxtsMode\n",
    "from deeplift.conversion import kerasapi_conversion as kc\n",
    "from deeplift.util import compile_func\n"
   ]
  },
  {
   "cell_type": "code",
   "execution_count": 3,
   "metadata": {
    "collapsed": false
   },
   "outputs": [
    {
     "name": "stderr",
     "output_type": "stream",
     "text": [
      "/usr/local/lib/python3.5/dist-packages/ipykernel/__main__.py:16: DeprecationWarning: `imresize` is deprecated!\n",
      "`imresize` is deprecated in SciPy 1.0.0, and will be removed in 1.2.0.\n",
      "Use ``skimage.transform.resize`` instead.\n",
      "/usr/local/lib/python3.5/dist-packages/ipykernel/__main__.py:17: DeprecationWarning: `imresize` is deprecated!\n",
      "`imresize` is deprecated in SciPy 1.0.0, and will be removed in 1.2.0.\n",
      "Use ``skimage.transform.resize`` instead.\n"
     ]
    },
    {
     "name": "stdout",
     "output_type": "stream",
     "text": [
      "x_train shape: (60000, 9)\n",
      "60000 train samples\n",
      "10000 test samples\n",
      "Train on 60000 samples, validate on 10000 samples\n",
      "Epoch 1/10\n",
      "60000/60000 [==============================] - 2s 39us/step - loss: 1.8157 - acc: 0.3659 - val_loss: 1.4910 - val_acc: 0.4753\n",
      "Epoch 2/10\n",
      "60000/60000 [==============================] - 1s 25us/step - loss: 1.3172 - acc: 0.5516 - val_loss: 1.1629 - val_acc: 0.6252\n",
      "Epoch 3/10\n",
      "60000/60000 [==============================] - 1s 23us/step - loss: 1.1458 - acc: 0.6153 - val_loss: 1.0591 - val_acc: 0.6442\n",
      "Epoch 4/10\n",
      "60000/60000 [==============================] - 2s 26us/step - loss: 1.0549 - acc: 0.6472 - val_loss: 0.9747 - val_acc: 0.6685\n",
      "Epoch 5/10\n",
      "60000/60000 [==============================] - 2s 31us/step - loss: 0.9900 - acc: 0.6701 - val_loss: 0.9200 - val_acc: 0.6853\n",
      "Epoch 6/10\n",
      "60000/60000 [==============================] - 2s 28us/step - loss: 0.9359 - acc: 0.6871 - val_loss: 0.8985 - val_acc: 0.6899\n",
      "Epoch 7/10\n",
      "60000/60000 [==============================] - 2s 31us/step - loss: 0.8916 - acc: 0.7011 - val_loss: 0.8607 - val_acc: 0.7089\n",
      "Epoch 8/10\n",
      "60000/60000 [==============================] - 2s 31us/step - loss: 0.8537 - acc: 0.7132 - val_loss: 0.8279 - val_acc: 0.7243\n",
      "Epoch 9/10\n",
      "60000/60000 [==============================] - 2s 26us/step - loss: 0.8261 - acc: 0.7223 - val_loss: 0.7791 - val_acc: 0.7363\n",
      "Epoch 10/10\n",
      "60000/60000 [==============================] - 2s 30us/step - loss: 0.8032 - acc: 0.7293 - val_loss: 0.7707 - val_acc: 0.7360\n",
      "0.011955811\n",
      "0.096338235\n"
     ]
    }
   ],
   "source": [
    "# Build and train a network.\n",
    "\n",
    "SKIP_TRAIN = False\n",
    "saved_model_file = 'model.h5'\n",
    "\n",
    "batch_size = 128\n",
    "num_classes = 10\n",
    "epochs = 10\n",
    "\n",
    "# input image dimensions\n",
    "img_rows, img_cols = 4, 4\n",
    "\n",
    "# the data, shuffled and split between train and test sets\n",
    "(x_train, y_train), (x_test, y_test) = mnist.load_data()\n",
    "\n",
    "x_train = np.array([scipy.misc.imresize(x, (img_rows,img_cols,)) for x in x_train])\n",
    "x_test = np.array([scipy.misc.imresize(x, (img_rows,img_cols,)) for x in x_test])\n",
    "\n",
    "\n",
    "\n",
    "#x_train = x_train.reshape(-1, 28,28,1)\n",
    "#x_test = x_test.reshape(-1, 28,28,1)\n",
    "x_train = x_train.reshape(-1, img_rows*img_cols)\n",
    "x_test = x_test.reshape(-1, img_rows*img_cols)\n",
    "x_train = x_train.astype('float32')\n",
    "x_test = x_test.astype('float32')\n",
    "x_train /= 255\n",
    "x_test /= 255\n",
    "x_train = (x_train - 0.5) * 2\n",
    "x_test = (x_test - 0.5) * 2\n",
    "print('x_train shape:', x_train.shape)\n",
    "print(x_train.shape[0], 'train samples')\n",
    "print(x_test.shape[0], 'test samples')\n",
    "\n",
    "# convert class vectors to binary class matrices\n",
    "y_train = keras.utils.to_categorical(y_train, num_classes)\n",
    "y_test = keras.utils.to_categorical(y_test, num_classes)\n",
    "\n",
    "#with DeepExplain(session=K.get_session()) as de:  # <-- init DeepExplain context\n",
    "\n",
    "def f(x):\n",
    "    return x*tf.sigmoid(x)\n",
    "\n",
    "if SKIP_TRAIN:\n",
    "    model = load_model(saved_model_file)\n",
    "else:\n",
    "    #de.enable_override('shapley')\n",
    "    model = Sequential()\n",
    "    #model.add(Conv2D(32, kernel_size=(3, 3),activation='relu',input_shape=(28,28,1)))\n",
    "    #model.add(Conv2D(64, (3, 3), activation='relu'))\n",
    "    #model.add(MaxPooling2D(pool_size=(2, 2)))\n",
    "    #model.add(Dropout(0.25))\n",
    "    #model.add(Flatten())\n",
    "    model.add(Dense(64, input_shape=(img_rows*img_cols,), activation='relu', kernel_regularizer=regularizers.l1(0.000)))\n",
    "    model.add(Dense(48, activation='relu', kernel_regularizer=regularizers.l1(0.000)))       \n",
    "    model.add(Dense(num_classes, kernel_regularizer=regularizers.l1(0.00)))\n",
    "    model.add(Activation('softmax'))\n",
    "    # ^ IMPORTANT: notice that the final softmax must be in its own layer \n",
    "    # if we want to target pre-softmax units\n",
    "\n",
    "    model.compile(loss=keras.losses.categorical_crossentropy,\n",
    "                  optimizer=keras.optimizers.Adadelta(),\n",
    "                  metrics=['accuracy'])\n",
    "\n",
    "    model.fit(x_train, y_train,\n",
    "              batch_size=batch_size,\n",
    "              epochs=epochs,\n",
    "              verbose=1,\n",
    "              validation_data=(x_test, y_test))\n",
    "    model.save(saved_model_file)\n",
    "    print (model.layers[0].get_weights()[0].mean())\n",
    "    print (model.layers[0].get_weights()[0].var())\n",
    "    \n",
    "#score = model.evaluate(x_test, y_test, verbose=0)\n",
    "#print('Test loss:', score[0])\n",
    "#print('Test accuracy:', score[1])"
   ]
  },
  {
   "cell_type": "code",
   "execution_count": 4,
   "metadata": {
    "collapsed": false
   },
   "outputs": [
    {
     "data": {
      "text/plain": [
       "(array([2.82581e+05, 1.01000e+04, 1.02540e+04, 1.04560e+04, 1.06340e+04,\n",
       "        1.07040e+04, 1.14620e+04, 1.19940e+04, 1.23830e+04, 1.30270e+04,\n",
       "        1.33300e+04, 1.32300e+04, 1.34840e+04, 1.29990e+04, 1.22340e+04,\n",
       "        1.15370e+04, 1.12250e+04, 1.04340e+04, 9.84900e+03, 9.45400e+03,\n",
       "        8.92900e+03, 8.78600e+03, 8.34200e+03, 8.01100e+03, 7.70800e+03,\n",
       "        7.49700e+03, 7.12000e+03, 6.90800e+03, 6.61700e+03, 6.31600e+03,\n",
       "        5.96300e+03, 5.53000e+03, 5.39300e+03, 5.06300e+03, 4.73800e+03,\n",
       "        4.43300e+03, 4.14900e+03, 3.68000e+03, 3.26300e+03, 3.01600e+03,\n",
       "        2.73000e+03, 2.17700e+03, 1.76400e+03, 1.45300e+03, 1.27100e+03,\n",
       "        9.71000e+02, 8.43000e+02, 7.15000e+02, 6.56000e+02, 5.69000e+02,\n",
       "        5.33000e+02, 4.95000e+02, 4.33000e+02, 4.07000e+02, 3.71000e+02,\n",
       "        2.70000e+02, 2.28000e+02, 1.61000e+02, 1.15000e+02, 1.00000e+02,\n",
       "        6.00000e+01, 7.30000e+01, 6.90000e+01, 6.10000e+01, 5.70000e+01,\n",
       "        5.40000e+01, 4.00000e+01, 4.20000e+01, 3.70000e+01, 4.40000e+01,\n",
       "        4.50000e+01, 3.00000e+01, 4.00000e+01, 2.10000e+01, 1.70000e+01,\n",
       "        2.40000e+01, 2.30000e+01, 2.50000e+01, 1.80000e+01, 2.40000e+01,\n",
       "        1.30000e+01, 7.00000e+00, 1.40000e+01, 1.10000e+01, 7.00000e+00,\n",
       "        8.00000e+00, 8.00000e+00, 3.00000e+00, 4.00000e+00, 3.00000e+00,\n",
       "        3.00000e+00, 5.00000e+00, 0.00000e+00, 1.00000e+00, 5.00000e+00,\n",
       "        1.00000e+00, 3.00000e+00, 1.00000e+00, 2.00000e+00, 2.00000e+00]),\n",
       " array([0.        , 0.01395066, 0.02790133, 0.04185199, 0.05580266,\n",
       "        0.06975332, 0.08370399, 0.09765465, 0.11160532, 0.12555598,\n",
       "        0.13950665, 0.15345731, 0.16740798, 0.18135864, 0.19530931,\n",
       "        0.20925997, 0.22321064, 0.2371613 , 0.25111197, 0.26506263,\n",
       "        0.2790133 , 0.29296396, 0.30691463, 0.32086529, 0.33481596,\n",
       "        0.34876662, 0.36271729, 0.37666795, 0.39061862, 0.40456928,\n",
       "        0.41851995, 0.43247061, 0.44642128, 0.46037194, 0.47432261,\n",
       "        0.48827327, 0.50222394, 0.5161746 , 0.53012527, 0.54407593,\n",
       "        0.5580266 , 0.57197726, 0.58592793, 0.59987859, 0.61382926,\n",
       "        0.62777992, 0.64173059, 0.65568125, 0.66963192, 0.68358258,\n",
       "        0.69753325, 0.71148391, 0.72543458, 0.73938524, 0.75333591,\n",
       "        0.76728657, 0.78123724, 0.7951879 , 0.80913857, 0.82308923,\n",
       "        0.8370399 , 0.85099056, 0.86494123, 0.87889189, 0.89284256,\n",
       "        0.90679322, 0.92074389, 0.93469455, 0.94864522, 0.96259588,\n",
       "        0.97654655, 0.99049721, 1.00444788, 1.01839854, 1.03234921,\n",
       "        1.04629987, 1.06025054, 1.0742012 , 1.08815187, 1.10210253,\n",
       "        1.1160532 , 1.13000386, 1.14395453, 1.15790519, 1.17185586,\n",
       "        1.18580652, 1.19975719, 1.21370785, 1.22765852, 1.24160918,\n",
       "        1.25555985, 1.26951051, 1.28346118, 1.29741184, 1.31136251,\n",
       "        1.32531317, 1.33926384, 1.3532145 , 1.36716517, 1.38111583,\n",
       "        1.3950665 ]),\n",
       " <a list of 100 Patch objects>)"
      ]
     },
     "execution_count": 4,
     "metadata": {},
     "output_type": "execute_result"
    },
    {
     "data": {
      "image/png": "[encoded data removed]",
      "text/plain": [
       "<matplotlib.figure.Figure at 0x7f18e874a860>"
      ]
     },
     "metadata": {},
     "output_type": "display_data"
    }
   ],
   "source": [
    "%matplotlib inline\n",
    "aModel = Model(inputs=model.inputs, outputs=[model.layers[1].input])\n",
    "y = aModel.predict(x_test)\n",
    "import matplotlib.pyplot as plt\n",
    "#plt.hist(model.layers[1].get_weights()[0].flatten(), 100)\n",
    "plt.hist(y.flatten(), 100)"
   ]
  },
  {
   "cell_type": "code",
   "execution_count": 5,
   "metadata": {
    "collapsed": true
   },
   "outputs": [],
   "source": [
    "# Define what to be explained\n",
    "xs = x_test[1:2]\n",
    "ys = y_test[1:2]"
   ]
  },
  {
   "cell_type": "code",
   "execution_count": 6,
   "metadata": {
    "collapsed": false
   },
   "outputs": [
    {
     "name": "stdout",
     "output_type": "stream",
     "text": [
      "nonlinear_mxts_mode is set to: RevealCancel\n",
      "Heads-up: I assume softmax is the output layer, not an intermediate one; if it's an intermediate layer, please let me know and I will prioritise that use-case\n",
      "nonlinear_mxts_mode is set to: Rescale\n",
      "Heads-up: I assume softmax is the output layer, not an intermediate one; if it's an intermediate layer, please let me know and I will prioritise that use-case\n"
     ]
    }
   ],
   "source": [
    "# Compute DeepLift attributions\n",
    "revealcancel_model = kc.convert_model_from_saved_files(\n",
    "                            h5_file=saved_model_file,\n",
    "                            nonlinear_mxts_mode=NonlinearMxtsMode.RevealCancel)\n",
    "rescale_model = kc.convert_model_from_saved_files(\n",
    "                            h5_file=saved_model_file,\n",
    "                            nonlinear_mxts_mode=NonlinearMxtsMode.Rescale)\n",
    "\n",
    "revealcancel_func = revealcancel_model.get_target_contribs_func(find_scores_layer_idx=0, target_layer_idx=-2)\n",
    "rescale_func = rescale_model.get_target_contribs_func(find_scores_layer_idx=0, target_layer_idx=-2)\n",
    "\n",
    "a_rc = np.array(revealcancel_func(\n",
    "                task_idx=np.argmax(ys),\n",
    "                input_data_list=[xs],\n",
    "                input_references_list=[np.zeros_like(xs)],\n",
    "                batch_size=100,\n",
    "                progress_update=None))\n",
    "\n",
    "a_res = np.array(rescale_func(\n",
    "                task_idx=np.argmax(ys),\n",
    "                input_data_list=[xs],\n",
    "                input_references_list=[np.zeros_like(xs)],\n",
    "                batch_size=100,\n",
    "                progress_update=None))\n"
   ]
  },
  {
   "cell_type": "code",
   "execution_count": 7,
   "metadata": {
    "collapsed": false
   },
   "outputs": [
    {
     "name": "stdout",
     "output_type": "stream",
     "text": [
      "CPU times: user 0 ns, sys: 0 ns, total: 0 ns\n",
      "Wall time: 5.48 µs\n",
      "{'Elu': 'DeepExplainGrad', 'Relu': 'DeepExplainGrad', 'Softplus': 'DeepExplainGrad', 'Sigmoid': 'DeepExplainGrad', 'MatMul': 'MatMulDeepExplainGrad', 'Tanh': 'DeepExplainGrad'}\n",
      "DeepExplain: running \"grad*input\" explanation method (2)\n",
      "Model with multiple inputs:  False\n",
      "DeepExplain: running \"intgrad\" explanation method (3)\n",
      "Model with multiple inputs:  False\n",
      "DeepExplain: running \"linear\" explanation method (7)\n",
      "Model with multiple inputs:  False\n",
      "DeepExplain: running \"shapley\" explanation method (6)\n",
      "Model with multiple inputs:  False\n",
      "Shapley: computing references...\n",
      "model_2/dense_3/MatMul_w (48, 10)\n",
      "model_2/dense_3/MatMul_b (10,)\n",
      "model_2/dense_2/MatMul_w (64, 48)\n",
      "model_2/dense_2/MatMul_x (1, 64)\n",
      "model_2/dense_1/MatMul_x (1, 9)\n",
      "model_2/dense_3/MatMul_x (1, 48)\n",
      "model_2/dense_1/MatMul_w (9, 64)\n",
      "model_2/dense_2/MatMul_b (48,)\n",
      "model_2/dense_1/MatMul_b (64,)\n",
      "Shapley: references ready\n",
      "(1, 48)\n",
      "(48, 10)\n",
      "(10,)\n",
      "(1, 48)\n",
      "Skip dense_3\n",
      "(1, 64)\n",
      "(64, 48)\n",
      "(48,)\n",
      "(1, 64)\n",
      "Estimating shape. Input shape:  (64, 48)\n",
      "[<tf.Tensor 'gradients_3/model_2/dense_2/MatMul_grad/Squeeze:0' shape=(64,) dtype=float32>]\n",
      "Return\n",
      "(1, 9)\n",
      "(9, 64)\n",
      "(64,)\n",
      "(1, 9)\n",
      "Estimating shape. Input shape:  (9, 64)\n",
      "[<tf.Tensor 'gradients_3/model_2/dense_1/MatMul_grad/Squeeze:0' shape=(9,) dtype=float32>]\n",
      "Return\n",
      "Done\n"
     ]
    }
   ],
   "source": [
    "%time\n",
    "with DeepExplain(session=K.get_session()) as de:  # <-- init DeepExplain context\n",
    "    # Need to reconstruct the graph in DeepExplain context, using the same weights.\n",
    "    # With Keras this is very easy:\n",
    "    # 1. Get the input tensor to the original model\n",
    "    input_tensor = model.layers[0].input\n",
    "    \n",
    "    # 2. We now target the output of the last dense layer (pre-softmax)\n",
    "    # To do so, create a new model sharing the same layers untill the last dense (index -2)\n",
    "    fModel = Model(inputs=input_tensor, outputs = model.layers[-2].output)\n",
    "    target_tensor = fModel(input_tensor)\n",
    "    \n",
    "\n",
    "    \n",
    "    a_gradin = de.explain('grad*input', target_tensor * ys, input_tensor, xs)\n",
    "    #attributions = de.explain('saliency', target_tensor * ys, input_tensor, xs)\n",
    "    a_intgrad = de.explain('intgrad', target_tensor * ys, input_tensor, xs)\n",
    "    #attributions2 = de.explain('deeplift', target_tensor * ys, input_tensor, xs)\n",
    "    a_linear = de.explain('linear', target_tensor * ys, input_tensor, xs)\n",
    "    a_shap = de.explain('shapley', target_tensor * ys, input_tensor, xs)\n",
    "    #a_shap = np.zeros_like(a_linear)\n",
    "    \n",
    "    #attributions2 = de.explain('elrp', target_tensor * ys, input_tensor, xs)\n",
    "    #attributions = de.explain('occlusion', target_tensor * ys, input_tensor, xs)\n",
    "    print (\"Done\")"
   ]
  },
  {
   "cell_type": "code",
   "execution_count": 8,
   "metadata": {
    "collapsed": false
   },
   "outputs": [],
   "source": [
    "# Compute exacly shapley values!\n",
    "\n",
    "from deepexplain.tensorflow.exact_shapley import compute_shapley\n",
    "a_exact = compute_shapley(xs[0], lambda x: (fModel.predict(np.array([x]))*ys).sum())\n",
    "#a_exact = np.zeros_like(a_gradin)"
   ]
  },
  {
   "cell_type": "code",
   "execution_count": null,
   "metadata": {
    "collapsed": false
   },
   "outputs": [],
   "source": []
  },
  {
   "cell_type": "code",
   "execution_count": 9,
   "metadata": {
    "collapsed": false
   },
   "outputs": [
    {
     "data": {
      "text/plain": [
       "<matplotlib.colorbar.Colorbar at 0x7f18b89dbeb8>"
      ]
     },
     "execution_count": 9,
     "metadata": {},
     "output_type": "execute_result"
    },
    {
     "name": "stderr",
     "output_type": "stream",
     "text": [
      "/usr/local/lib/python3.5/dist-packages/matplotlib/colors.py:823: UserWarning: Warning: converting a masked element to nan.\n",
      "  dtype = np.min_scalar_type(value)\n",
      "/usr/local/lib/python3.5/dist-packages/numpy/ma/core.py:2784: UserWarning: Warning: converting a masked element to nan.\n",
      "  order=order, subok=True, ndmin=ndmin)\n"
     ]
    },
    {
     "data": {
      "image/png": "[encoded data removed]",
      "text/plain": [
       "<matplotlib.figure.Figure at 0x7f18d96e26d8>"
      ]
     },
     "metadata": {},
     "output_type": "display_data"
    },
    {
     "data": {
      "image/png": "[encoded data removed]",
      "text/plain": [
       "<matplotlib.figure.Figure at 0x7f1926078908>"
      ]
     },
     "metadata": {},
     "output_type": "display_data"
    },
    {
     "data": {
      "image/png": "[encoded data removed]",
      "text/plain": [
       "<matplotlib.figure.Figure at 0x7f18b8bf5f60>"
      ]
     },
     "metadata": {},
     "output_type": "display_data"
    },
    {
     "data": {
      "image/png": "[encoded data removed]",
      "text/plain": [
       "<matplotlib.figure.Figure at 0x7f18b8b88630>"
      ]
     },
     "metadata": {},
     "output_type": "display_data"
    },
    {
     "data": {
      "image/png": "[encoded data removed]",
      "text/plain": [
       "<matplotlib.figure.Figure at 0x7f18b8b50a20>"
      ]
     },
     "metadata": {},
     "output_type": "display_data"
    },
    {
     "data": {
      "image/png": "[encoded data removed]",
      "text/plain": [
       "<matplotlib.figure.Figure at 0x7f18b8b2b0b8>"
      ]
     },
     "metadata": {},
     "output_type": "display_data"
    },
    {
     "data": {
      "image/png": "[encoded data removed]",
      "text/plain": [
       "<matplotlib.figure.Figure at 0x7f18b8abc470>"
      ]
     },
     "metadata": {},
     "output_type": "display_data"
    },
    {
     "data": {
      "text/plain": [
       "<matplotlib.figure.Figure at 0x7f18b89db4a8>"
      ]
     },
     "metadata": {},
     "output_type": "display_data"
    },
    {
     "data": {
      "image/png": "[encoded data removed]",
      "text/plain": [
       "<matplotlib.figure.Figure at 0x7f18b8a4a048>"
      ]
     },
     "metadata": {},
     "output_type": "display_data"
    }
   ],
   "source": [
    "# Plot attributions\n",
    "from utils import plot, plt\n",
    "%matplotlib inline\n",
    "plot(a_gradin.reshape(img_rows, img_cols), xs.reshape(img_rows, img_cols)).title('GradInput')\n",
    "plt.figure()\n",
    "plot(a_intgrad.reshape(img_rows, img_cols), xs.reshape(img_rows, img_cols)).title('IntGrad')\n",
    "plt.figure()\n",
    "plot(a_res.reshape(img_rows, img_cols), xs.reshape(img_rows, img_cols)).title('DeepLift (Rescale)')\n",
    "plt.figure()\n",
    "plot((a_linear).reshape(img_rows, img_cols), xs.reshape(img_rows, img_cols)).title('Linear')\n",
    "plt.figure()\n",
    "plot(a_rc.reshape(img_rows, img_cols), xs.reshape(img_rows, img_cols)).title('DeepLift (RevCancel)')\n",
    "plt.figure()\n",
    "plot((a_shap).reshape(img_rows, img_cols), xs.reshape(img_rows, img_cols)).title('Deep Shap')\n",
    "plt.figure()\n",
    "plot((a_exact).reshape(img_rows, img_cols), xs.reshape(img_rows, img_cols)).title('Exact Shap')\n",
    "\n",
    "methods = [a_gradin, a_intgrad, a_res,a_linear, a_rc, a_shap, a_exact]\n",
    "confusion = np.zeros((len(methods), len(methods)))\n",
    "for i, m1 in enumerate(methods):\n",
    "    for j, m2 in enumerate(methods):\n",
    "        confusion[i][j] = ((m1-m2)**2).mean()\n",
    "plt.figure()\n",
    "plt.matshow(confusion, cmap='RdBu_r')\n",
    "plt.colorbar()\n",
    "        \n",
    "        \n"
   ]
  },
  {
   "cell_type": "code",
   "execution_count": 10,
   "metadata": {
    "collapsed": false
   },
   "outputs": [
    {
     "name": "stdout",
     "output_type": "stream",
     "text": [
      "Running robustness test...\n",
      "Storing robustness results...\n",
      "Done\n"
     ]
    }
   ],
   "source": [
    "from deepexplain.tensorflow.accuracy_robustness import run_robustness_test\n",
    "original_maps = [a_gradin, a_intgrad, a_res, a_linear, a_rc, a_shap, a_exact]\n",
    "names = ['GradInput', 'IntGrad', 'DeepLift (Recale)','Linear', 'DeepLift (RevCanc)', 'ApprShapley', 'Shapley']\n",
    "run_robustness_test(fModel, xs, ys, original_maps, names, 'Test', 1,\n",
    "                        result_path='.', mode='prediction', reduce_dim=None)\n",
    "\n"
   ]
  },
  {
   "cell_type": "code",
   "execution_count": 11,
   "metadata": {
    "collapsed": false
   },
   "outputs": [
    {
     "name": "stdout",
     "output_type": "stream",
     "text": [
      "Running delta test...\n",
      "Done\n",
      "\n",
      "\n",
      "\n"
     ]
    }
   ],
   "source": [
    "from deepexplain.tensorflow.sensitivityn import run_sensitivity_test\n",
    "run_sensitivity_test(fModel, xs, ys, original_maps, names, 'Test',\n",
    "                        result_path='.', number_of_samples=1000)\n"
   ]
  },
  {
   "cell_type": "code",
   "execution_count": 12,
   "metadata": {
    "collapsed": true
   },
   "outputs": [],
   "source": [
    "model.save('model.h5')"
   ]
  }
 ],
 "metadata": {
  "kernelspec": {
   "display_name": "Python 3",
   "language": "python",
   "name": "python3"
  },
  "language_info": {
   "codemirror_mode": {
    "name": "ipython",
    "version": 3
   },
   "file_extension": ".py",
   "mimetype": "text/x-python",
   "name": "python",
   "nbconvert_exporter": "python",
   "pygments_lexer": "ipython3",
   "version": "3.5.2"
  }
 },
 "nbformat": 4,
 "nbformat_minor": 1
}
