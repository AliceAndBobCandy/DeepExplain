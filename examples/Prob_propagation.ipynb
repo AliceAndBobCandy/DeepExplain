{
 "cells": [
  {
   "cell_type": "code",
   "execution_count": 426,
   "metadata": {
    "collapsed": false,
    "scrolled": true
   },
   "outputs": [
    {
     "name": "stdout",
     "output_type": "stream",
     "text": [
      "mu: -0.6464077484479651- sigma: 2.1216805810010233\n",
      "r-mu: 0.31419483355845923- r-sigma: 0.39537053979191394\n",
      "mu: 0.9536655871735049- sigma: 2.0159319006458105\n",
      "r-mu: 1.166441333884728- r-sigma: 1.261952621684567\n",
      "1.4806361674431872 1.657323161476481\n",
      "0.12504635354711802\n"
     ]
    },
    {
     "name": "stderr",
     "output_type": "stream",
     "text": [
      "/usr/local/lib/python3.6/dist-packages/ipykernel_launcher.py:71: MatplotlibDeprecationWarning: scipy.stats.norm.pdf\n"
     ]
    },
    {
     "data": {
      "text/plain": [
       "[<matplotlib.lines.Line2D at 0x7f972ed4d208>]"
      ]
     },
     "execution_count": 426,
     "metadata": {},
     "output_type": "execute_result"
    },
    {
     "data": {
      "image/png": "[encoded data removed]",
      "text/plain": [
       "<Figure size 432x288 with 1 Axes>"
      ]
     },
     "metadata": {
      "needs_background": "light"
     },
     "output_type": "display_data"
    }
   ],
   "source": [
    "import numpy as np\n",
    "from math import erf, exp, pi\n",
    "import matplotlib.pyplot as plt\n",
    "import matplotlib.mlab as mlab\n",
    "from scipy.stats import norm\n",
    "\n",
    "\n",
    "\n",
    "n= 80\n",
    "m = 30000\n",
    "n_bins = 50\n",
    "\n",
    "\n",
    "mus = np.random.uniform(-1, 1, n)\n",
    "sigmas = np.random.uniform(0, 4, n)\n",
    "\n",
    "\n",
    "def erfc(v):\n",
    "    return 1.0 - erf(v)\n",
    "\n",
    "def rect_mean(m, v):\n",
    "    s = v**0.5\n",
    "    r1 = s*exp(-(m**2)/(2*v))/(2*pi)**0.5\n",
    "    r2 = 0.5*m*(1+erf(m/((2*v)**0.5)))\n",
    "    return r1 + r2\n",
    "\n",
    "def rect_var(m, v):\n",
    "    s = v**0.5\n",
    "    r1 = -v*exp(-(m**2)/v)/(2*pi)\n",
    "    r2 = (-m*s*erf(m/(2*v)**0.5)*exp(-(m**2)/(2*v)))/(2*pi)**0.5\n",
    "    r3 = -0.25*(-2+erfc(m/(2*v)**0.5))*(2*v + m**2 *erfc(m/(2*v)**0.5))\n",
    "    return r1+r2+r3\n",
    "    \n",
    "    \n",
    "\n",
    "samples = []\n",
    "for i in range(n):\n",
    "    print (\"mu: \" + str(mus[i]) + \"- sigma: \" + str(sigmas[i]))\n",
    "    print (\"r-mu: \" + str(rect_mean(mus[i], sigmas[i])) + \"- r-sigma: \" + str(rect_var(mus[i], sigmas[i])))\n",
    "    samples.append(np.random.normal(mus[i], np.sqrt(sigmas[i]), m))\n",
    "samples = np.array(samples)\n",
    "\n",
    "weights = np.random.random(samples.shape)\n",
    "\n",
    "z = np.sum(np.maximum(0, samples), 0)\n",
    "#z = np.extract(z > 0, z)\n",
    "zi = np.sum(samples, 0)\n",
    "\n",
    "\n",
    "#fig, axs = plt.subplots(1, 2, sharey=True, tight_layout=True)\n",
    "\n",
    "#mu, sigma=norm.fit(np.extract(z > 0, z))\n",
    "mu = np.sum([rect_mean(m,v) for m,v in zip(mus, sigmas)])\n",
    "sigma2 = np.sum([rect_var(m,v) for m,v in zip(mus, sigmas)])\n",
    "sigma = np.sqrt(sigma2)\n",
    "\n",
    "print (mu, sigma2)\n",
    "\n",
    "#mu = np.sum(mus)\n",
    "#variance = np.sum(sigmas)\n",
    "#sigma = math.sqrt(variance)\n",
    "phi = norm.cdf(0, loc=mu, scale=sigma)\n",
    "print (phi)\n",
    "\n",
    "# We can set the number of bins with the `bins` kwarg\n",
    "plt.hist(z, bins=n_bins, range= (mu - 3*sigma, mu + 3*sigma), density=True)\n",
    "#_ = axs[1].hist(zi, bins=n_bins, range= (mu - 3*sigma, mu + 3*sigma), density=True)\n",
    "\n",
    "x = np.linspace(mu - 3*sigma, mu + 3*sigma, 100)\n",
    "plt.plot(x, mlab.normpdf(x, mu, sigma))\n",
    "#axs[1].plot(x,mlab.normpdf(x, mu, sigma))\n",
    "\n",
    "\n",
    "    "
   ]
  },
  {
   "cell_type": "code",
   "execution_count": null,
   "metadata": {
    "collapsed": false,
    "scrolled": false
   },
   "outputs": [],
   "source": [
    "import numpy as np\n",
    "from math import erf, exp, pi\n",
    "import matplotlib.pyplot as plt\n",
    "import matplotlib.mlab as mlab\n",
    "from scipy.stats import norm\n",
    "\n",
    "# Test variable dependence\n",
    "\n",
    "n= 10\n",
    "n2=4\n",
    "m = 3000\n",
    "n_bins = 50\n",
    "\n",
    "\n",
    "mus = np.random.uniform(-1, 1, n)\n",
    "sigmas = np.random.uniform(0, 4, n)\n",
    "weights = np.random.uniform(-1, 1, (n, n2))\n",
    "\n",
    "\n",
    "samples = []\n",
    "for i in range(n):\n",
    "    samples.append(np.random.normal(mus[i], np.sqrt(sigmas[i]), m))\n",
    "samples = np.array(samples)\n",
    "\n",
    "# Recompute empirical mean and variance\n",
    "#mus = np.mean(samples, 1)\n",
    "sigmas = np.cov(samples)\n",
    "sigmas = np.atleast_2d(sigmas)\n",
    "print(sigmas.shape)\n",
    "\n",
    "samples = np.dot(samples.T, weights).T\n",
    "print (samples.shape)\n",
    "\n",
    "# Propagate mean and (co)variance \n",
    "mus = np.dot(mus[np.newaxis, ...], weights)\n",
    "sigmas = weights.T @ sigmas @ weights\n",
    "\n",
    "\n",
    "zi = np.sum(samples, 0)\n",
    "\n",
    "\n",
    "#mu, sigma=norm.fit(np.extract(z > 0, z))\n",
    "mu = np.sum(mus)\n",
    "sigma2 = np.sum(sigmas)\n",
    "sigma = np.sqrt(sigma2)\n",
    "\n",
    "print (mu, sigma2)\n",
    "\n",
    "#mu = np.sum(mus)\n",
    "#variance = np.sum(sigmas)\n",
    "#sigma = math.sqrt(variance)\n",
    "phi = norm.cdf(0, loc=mu, scale=sigma)\n",
    "print (phi)\n",
    "\n",
    "# We can set the number of bins with the `bins` kwarg\n",
    "plt.hist(zi, bins=n_bins, range= (mu - 3*sigma, mu + 3*sigma), density=True)\n",
    "#_ = axs[1].hist(zi, bins=n_bins, range= (mu - 3*sigma, mu + 3*sigma), density=True)\n",
    "\n",
    "x = np.linspace(mu - 3*sigma, mu + 3*sigma, 100)\n",
    "plt.plot(x, mlab.normpdf(x, mu, sigma))\n",
    "#axs[1].plot(x,mlab.normpdf(x, mu, sigma))\n",
    "\n",
    "\n",
    "    "
   ]
  },
  {
   "cell_type": "code",
   "execution_count": 425,
   "metadata": {
    "collapsed": false
   },
   "outputs": [
    {
     "name": "stdout",
     "output_type": "stream",
     "text": [
      "[ 0.9180045  -0.3022642   0.5194445   0.23849518]\n",
      "0.3434199975955329\n",
      "[2.88653975 0.05944024 0.04881786 0.21008516]\n",
      "(5000, 4)\n",
      "(5000,)\n",
      "1.4445830014972607\n",
      "1.1925430218317294\n",
      "Estimated mean:\n",
      "1.460994817972407\n",
      "Estimated var\n",
      "1.213610804921161\n"
     ]
    },
    {
     "data": {
      "image/png": "[encoded data removed]",
      "text/plain": [
       "<Figure size 432x288 with 1 Axes>"
      ]
     },
     "metadata": {
      "needs_background": "light"
     },
     "output_type": "display_data"
    }
   ],
   "source": [
    "import scipy.integrate as integrate\n",
    "n_variables = 4 #2*2 max-pooling\n",
    "m = 5000\n",
    "\n",
    "\n",
    "mus = np.random.uniform(-1, 1, n_variables)\n",
    "sigmas = np.random.uniform(0, 4, n_variables)\n",
    "\n",
    "print (mus)\n",
    "print (mus.mean())\n",
    "print (sigmas)\n",
    "\n",
    "# Generate m samples for each of the n_variables random variables\n",
    "x = [];\n",
    "for i in range(n_variables):\n",
    "     x.append(np.random.normal(mus[i], np.sqrt(sigmas[i]), m))\n",
    "x = np.array(x).T\n",
    "print (x.shape)\n",
    "\n",
    "# Rectify\n",
    "x = np.maximum(0, x)\n",
    "\n",
    "z = np.max(x, 1)\n",
    "print (z.shape)\n",
    "print (np.mean(z))\n",
    "print (np.var(z))\n",
    "plt.hist(z, bins=n_bins, range= (np.mean(z) - 3*np.std(z), np.mean(z) + 3*np.std(z)), density=True)\n",
    "\n",
    "# Estimate mean\n",
    "\n",
    "def cdf_rect(x, loc, sigma):\n",
    "    return 0 if x<0 else norm.cdf(x, loc, sigma)\n",
    "\n",
    "print (\"Estimated mean:\")\n",
    "mean_z = integrate.quad(lambda x: 1.0- np.prod([cdf_rect(x, mus[i], np.sqrt(sigmas[i])) for i in range(n_variables)]) , 0, np.inf)\n",
    "mean_z2   = integrate.quad(lambda x: 2*x*(1.0- np.prod([cdf_rect(x, mus[i], np.sqrt(sigmas[i])) for i in range(n_variables)])) , 0, np.inf)\n",
    "print (mean_z[0])\n",
    "print (\"Estimated var\")\n",
    "print (mean_z2[0] - mean_z[0]**2)"
   ]
  },
  {
   "cell_type": "code",
   "execution_count": null,
   "metadata": {
    "collapsed": true
   },
   "outputs": [],
   "source": []
  }
 ],
 "metadata": {
  "kernelspec": {
   "display_name": "Python 3",
   "language": "python",
   "name": "python3"
  },
  "language_info": {
   "codemirror_mode": {
    "name": "ipython",
    "version": 3
   },
   "file_extension": ".py",
   "mimetype": "text/x-python",
   "name": "python",
   "nbconvert_exporter": "python",
   "pygments_lexer": "ipython3",
   "version": "3.6.7"
  }
 },
 "nbformat": 4,
 "nbformat_minor": 2
}
