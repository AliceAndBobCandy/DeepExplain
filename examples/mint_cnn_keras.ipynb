{
 "cells": [
  {
   "cell_type": "code",
   "execution_count": 1,
   "metadata": {
    "collapsed": true
   },
   "outputs": [],
   "source": [
    "## DeepExplain - Keras (TF backend) example\n",
    "### MNIST with CNN"
   ]
  },
  {
   "cell_type": "code",
   "execution_count": 1,
   "metadata": {
    "collapsed": false
   },
   "outputs": [
    {
     "name": "stderr",
     "output_type": "stream",
     "text": [
      "/usr/local/lib/python3.5/dist-packages/h5py/__init__.py:34: FutureWarning: Conversion of the second argument of issubdtype from `float` to `np.floating` is deprecated. In future, it will be treated as `np.float64 == np.dtype(float).type`.\n",
      "  from ._conv import register_converters as _register_converters\n",
      "Using TensorFlow backend.\n"
     ]
    }
   ],
   "source": [
    "from __future__ import absolute_import\n",
    "from __future__ import division\n",
    "from __future__ import print_function\n",
    "\n",
    "import tempfile, sys, os\n",
    "sys.path.insert(0, os.path.abspath('..'))\n",
    "\n",
    "import keras\n",
    "from keras.datasets import mnist\n",
    "from keras.models import Sequential, Model, load_model\n",
    "from keras.layers import Dense, Dropout, Flatten, Activation\n",
    "from keras import regularizers\n",
    "from keras.layers import Conv2D, MaxPooling2D\n",
    "from keras import backend as K\n",
    "import numpy as np\n",
    "import tensorflow as tf\n",
    "import scipy\n",
    "\n",
    "# Import DeepExplain\n",
    "from deepexplain.tensorflow import DeepExplain\n",
    "\n",
    "#Import DeepLift\n",
    "import deeplift\n",
    "from deeplift.layers import NonlinearMxtsMode\n",
    "from deeplift.conversion import kerasapi_conversion as kc\n",
    "from deeplift.util import compile_func\n"
   ]
  },
  {
   "cell_type": "code",
   "execution_count": 2,
   "metadata": {
    "collapsed": false
   },
   "outputs": [
    {
     "name": "stderr",
     "output_type": "stream",
     "text": [
      "/usr/local/lib/python3.5/dist-packages/ipykernel/__main__.py:16: DeprecationWarning: `imresize` is deprecated!\n",
      "`imresize` is deprecated in SciPy 1.0.0, and will be removed in 1.2.0.\n",
      "Use ``skimage.transform.resize`` instead.\n",
      "/usr/local/lib/python3.5/dist-packages/ipykernel/__main__.py:17: DeprecationWarning: `imresize` is deprecated!\n",
      "`imresize` is deprecated in SciPy 1.0.0, and will be removed in 1.2.0.\n",
      "Use ``skimage.transform.resize`` instead.\n"
     ]
    },
    {
     "name": "stdout",
     "output_type": "stream",
     "text": [
      "x_train shape: (60000, 28, 28, 1)\n",
      "60000 train samples\n",
      "10000 test samples\n",
      "_________________________________________________________________\n",
      "Layer (type)                 Output Shape              Param #   \n",
      "=================================================================\n",
      "conv2d_1 (Conv2D)            (None, 26, 26, 32)        320       \n",
      "_________________________________________________________________\n",
      "max_pooling2d_1 (MaxPooling2 (None, 13, 13, 32)        0         \n",
      "_________________________________________________________________\n",
      "flatten_1 (Flatten)          (None, 5408)              0         \n",
      "_________________________________________________________________\n",
      "dense_1 (Dense)              (None, 20)                108180    \n",
      "_________________________________________________________________\n",
      "dense_2 (Dense)              (None, 10)                210       \n",
      "_________________________________________________________________\n",
      "dense_3 (Dense)              (None, 10)                110       \n",
      "_________________________________________________________________\n",
      "activation_1 (Activation)    (None, 10)                0         \n",
      "=================================================================\n",
      "Total params: 108,820\n",
      "Trainable params: 108,820\n",
      "Non-trainable params: 0\n",
      "_________________________________________________________________\n"
     ]
    }
   ],
   "source": [
    "# Build and train a network.\n",
    "\n",
    "SKIP_TRAIN = True\n",
    "saved_model_file = 'model.h5'\n",
    "\n",
    "batch_size = 128\n",
    "num_classes = 10\n",
    "epochs = 3\n",
    "\n",
    "# input image dimensions\n",
    "img_rows, img_cols = 28, 28\n",
    "\n",
    "# the data, shuffled and split between train and test sets\n",
    "(x_train, y_train), (x_test, y_test) = mnist.load_data()\n",
    "\n",
    "x_train = np.array([scipy.misc.imresize(x, (img_rows,img_cols,)) for x in x_train])\n",
    "x_test = np.array([scipy.misc.imresize(x, (img_rows,img_cols,)) for x in x_test])\n",
    "\n",
    "\n",
    "\n",
    "x_train = x_train.reshape(-1, img_rows,img_cols,1)\n",
    "x_test = x_test.reshape(-1, img_rows,img_cols,1)\n",
    "#x_train = x_train.reshape(-1, img_rows*img_cols)\n",
    "#x_test = x_test.reshape(-1, img_rows*img_cols)\n",
    "x_train = x_train.astype('float32')\n",
    "x_test = x_test.astype('float32')\n",
    "x_train /= 255\n",
    "x_test /= 255\n",
    "x_train = (x_train - 0.5) * 2\n",
    "x_test = (x_test - 0.5) * 2\n",
    "print('x_train shape:', x_train.shape)\n",
    "print(x_train.shape[0], 'train samples')\n",
    "print(x_test.shape[0], 'test samples')\n",
    "\n",
    "# convert class vectors to binary class matrices\n",
    "y_train = keras.utils.to_categorical(y_train, num_classes)\n",
    "y_test = keras.utils.to_categorical(y_test, num_classes)\n",
    "\n",
    "#with DeepExplain(session=K.get_session()) as de:  # <-- init DeepExplain context\n",
    "reg = keras.regularizers.l1(0)\n",
    "def f(x):\n",
    "    return x*tf.sigmoid(x)\n",
    "\n",
    "if SKIP_TRAIN:\n",
    "    model = load_model(saved_model_file)\n",
    "else:\n",
    "    #de.enable_override('shapley')\n",
    "    model = Sequential()\n",
    "    model.add(Conv2D(32, kernel_size=(3, 3),activation='relu',input_shape=(28,28,1)))\n",
    "    #model.add(Conv2D(64, (3, 3), activation='relu'))\n",
    "    model.add(MaxPooling2D(pool_size=(2, 2), input_shape=(28,28,1)))\n",
    "    #model.add(Dropout(0.25))\n",
    "    model.add(Flatten())\n",
    "    model.add(Dense(20, input_shape=(img_rows*img_cols,), activation='relu', bias_regularizer=reg))\n",
    "    model.add(Dense(10, activation='relu', bias_regularizer=reg))\n",
    "    model.add(Dense(num_classes, bias_regularizer=reg))\n",
    "    model.add(Activation('softmax'))\n",
    "    # ^ IMPORTANT: notice that the final softmax must be in its own layer \n",
    "    # if we want to target pre-softmax units\n",
    "\n",
    "    model.compile(loss=keras.losses.categorical_crossentropy,\n",
    "                  optimizer=keras.optimizers.Adadelta(),\n",
    "                  metrics=['accuracy'])\n",
    "\n",
    "    model.fit(x_train, y_train,\n",
    "              batch_size=batch_size,\n",
    "              epochs=epochs,\n",
    "              verbose=1,\n",
    "              validation_data=(x_test, y_test))\n",
    "    model.save(saved_model_file)\n",
    "    #print (model.layers[0].get_weights()[1].mean())\n",
    "    #print (model.layers[0].get_weights()[1].var())\n",
    "model.summary()   \n",
    "#score = model.evaluate(x_test, y_test, verbose=0)\n",
    "#print('Test loss:', score[0])\n",
    "#print('Test accuracy:', score[1])"
   ]
  },
  {
   "cell_type": "code",
   "execution_count": 4,
   "metadata": {
    "collapsed": false
   },
   "outputs": [],
   "source": [
    "%matplotlib inline\n",
    "aModel = Model(inputs=model.inputs, outputs=[model.layers[1].input])\n",
    "y = aModel.predict(x_test)\n",
    "import matplotlib.pyplot as plt\n",
    "#plt.hist(model.layers[1].get_weights()[0].flatten(), 100)\n",
    "#plt.hist(y.flatten(), 100)"
   ]
  },
  {
   "cell_type": "code",
   "execution_count": 3,
   "metadata": {
    "collapsed": false
   },
   "outputs": [],
   "source": [
    "# Define what to be explained\n",
    "xs = x_test[0:5]\n",
    "ys = y_test[0:5]\n",
    "a_gradin = np.zeros_like(xs)\n",
    "a_intgrad = np.zeros_like(xs)\n",
    "a_res = np.zeros_like(xs)\n",
    "a_rc = np.zeros_like(xs)\n",
    "a_shap = np.zeros_like(xs)\n",
    "a_shaplud = np.zeros_like(xs)\n",
    "a_exact = np.zeros_like(xs)\n"
   ]
  },
  {
   "cell_type": "code",
   "execution_count": 4,
   "metadata": {
    "collapsed": false
   },
   "outputs": [
    {
     "name": "stdout",
     "output_type": "stream",
     "text": [
      "nonlinear_mxts_mode is set to: RevealCancel\n",
      "Heads-up: current implementation assumes maxpool layer is followed by a linear transformation (conv/dense layer)\n",
      "Heads-up: I assume softmax is the output layer, not an intermediate one; if it's an intermediate layer, please let me know and I will prioritise that use-case\n",
      "nonlinear_mxts_mode is set to: Rescale\n",
      "Heads-up: current implementation assumes maxpool layer is followed by a linear transformation (conv/dense layer)\n",
      "Heads-up: I assume softmax is the output layer, not an intermediate one; if it's an intermediate layer, please let me know and I will prioritise that use-case\n",
      "(5, 1, 28, 28, 1)\n"
     ]
    }
   ],
   "source": [
    "# Compute DeepLift attributions\n",
    "revealcancel_model = kc.convert_model_from_saved_files(\n",
    "                            h5_file=saved_model_file,\n",
    "                            nonlinear_mxts_mode=NonlinearMxtsMode.RevealCancel)\n",
    "rescale_model = kc.convert_model_from_saved_files(\n",
    "                            h5_file=saved_model_file,\n",
    "                            nonlinear_mxts_mode=NonlinearMxtsMode.Rescale)\n",
    "\n",
    "revealcancel_func = revealcancel_model.get_target_contribs_func(find_scores_layer_idx=0, target_layer_idx=-2)\n",
    "rescale_func = rescale_model.get_target_contribs_func(find_scores_layer_idx=0, target_layer_idx=-2)\n",
    "\n",
    "a_rc = np.array([np.array(revealcancel_func(\n",
    "                task_idx=np.argmax(y),\n",
    "                input_data_list=[[x]],\n",
    "                input_references_list=[[np.zeros_like(x)]],\n",
    "                batch_size=100,\n",
    "                progress_update=None)) for x, y in zip(xs,ys)])\n",
    "\n",
    "a_res = np.array([np.array(rescale_func(\n",
    "                task_idx=np.argmax(y),\n",
    "                input_data_list=[[x]],\n",
    "                input_references_list=[[np.zeros_like(x)]],\n",
    "                batch_size=100,\n",
    "                progress_update=None)) for x, y in zip(xs,ys)])\n",
    "print (a_rc.shape)"
   ]
  },
  {
   "cell_type": "code",
   "execution_count": 4,
   "metadata": {
    "collapsed": false
   },
   "outputs": [
    {
     "name": "stdout",
     "output_type": "stream",
     "text": [
      "CPU times: user 0 ns, sys: 0 ns, total: 0 ns\n",
      "Wall time: 5.48 µs\n",
      "(5, 28, 28, 1)\n",
      "{'Relu': 'DeepExplainGrad', 'MaxPool': 'MaxPoolDeepExplainGrad', 'Softplus': 'DeepExplainGrad', 'Sigmoid': 'DeepExplainGrad', 'Tanh': 'DeepExplainGrad', 'Elu': 'DeepExplainGrad'}\n",
      "DeepExplain: running \"grad*input\" explanation method (2)\n",
      "Model with multiple inputs:  False\n",
      "maxpool\n",
      "name: \"model_1/max_pooling2d_1/MaxPool\"\n",
      "op: \"MaxPool\"\n",
      "input: \"model_1/conv2d_1/Relu\"\n",
      "attr {\n",
      "  key: \"T\"\n",
      "  value {\n",
      "    type: DT_FLOAT\n",
      "  }\n",
      "}\n",
      "attr {\n",
      "  key: \"_gradient_op_type\"\n",
      "  value {\n",
      "    s: \"MaxPoolDeepExplainGrad\"\n",
      "  }\n",
      "}\n",
      "attr {\n",
      "  key: \"data_format\"\n",
      "  value {\n",
      "    s: \"NHWC\"\n",
      "  }\n",
      "}\n",
      "attr {\n",
      "  key: \"ksize\"\n",
      "  value {\n",
      "    list {\n",
      "      i: 1\n",
      "      i: 2\n",
      "      i: 2\n",
      "      i: 1\n",
      "    }\n",
      "  }\n",
      "}\n",
      "attr {\n",
      "  key: \"padding\"\n",
      "  value {\n",
      "    s: \"VALID\"\n",
      "  }\n",
      "}\n",
      "attr {\n",
      "  key: \"strides\"\n",
      "  value {\n",
      "    list {\n",
      "      i: 1\n",
      "      i: 2\n",
      "      i: 2\n",
      "      i: 1\n",
      "    }\n",
      "  }\n",
      "}\n",
      "\n",
      "Tensor(\"gradients_1/model_1/flatten_1/Reshape_grad/Reshape:0\", shape=(?, 13, 13, 32), dtype=float32)\n",
      "Tensor(\"gradients_1/model_1/max_pooling2d_1/MaxPool_grad/MaxPoolGrad:0\", shape=(?, 26, 26, 32), dtype=float32)\n",
      "DeepExplain: running \"intgrad\" explanation method (3)\n",
      "Model with multiple inputs:  False\n",
      "maxpool\n",
      "name: \"model_1/max_pooling2d_1/MaxPool\"\n",
      "op: \"MaxPool\"\n",
      "input: \"model_1/conv2d_1/Relu\"\n",
      "attr {\n",
      "  key: \"T\"\n",
      "  value {\n",
      "    type: DT_FLOAT\n",
      "  }\n",
      "}\n",
      "attr {\n",
      "  key: \"_gradient_op_type\"\n",
      "  value {\n",
      "    s: \"MaxPoolDeepExplainGrad\"\n",
      "  }\n",
      "}\n",
      "attr {\n",
      "  key: \"data_format\"\n",
      "  value {\n",
      "    s: \"NHWC\"\n",
      "  }\n",
      "}\n",
      "attr {\n",
      "  key: \"ksize\"\n",
      "  value {\n",
      "    list {\n",
      "      i: 1\n",
      "      i: 2\n",
      "      i: 2\n",
      "      i: 1\n",
      "    }\n",
      "  }\n",
      "}\n",
      "attr {\n",
      "  key: \"padding\"\n",
      "  value {\n",
      "    s: \"VALID\"\n",
      "  }\n",
      "}\n",
      "attr {\n",
      "  key: \"strides\"\n",
      "  value {\n",
      "    list {\n",
      "      i: 1\n",
      "      i: 2\n",
      "      i: 2\n",
      "      i: 1\n",
      "    }\n",
      "  }\n",
      "}\n",
      "\n",
      "Tensor(\"gradients_2/model_1/flatten_1/Reshape_grad/Reshape:0\", shape=(?, 13, 13, 32), dtype=float32)\n",
      "Tensor(\"gradients_2/model_1/max_pooling2d_1/MaxPool_grad/MaxPoolGrad:0\", shape=(?, 26, 26, 32), dtype=float32)\n",
      "DeepExplain: running \"shapley\" explanation method (6)\n",
      "Model with multiple inputs:  False\n",
      "Shapley: computing references...\n",
      "Conv2D: model_1/conv2d_1/convolution\n",
      "BiasAdd: model_1/conv2d_1/BiasAdd\n",
      "Relu: model_1/conv2d_1/Relu\n",
      "MaxPool: model_1/max_pooling2d_1/MaxPool\n",
      "Shape: model_1/flatten_1/Shape\n",
      "StridedSlice: model_1/flatten_1/strided_slice\n",
      "Prod: model_1/flatten_1/Prod\n",
      "Pack: model_1/flatten_1/stack\n",
      "Reshape: model_1/flatten_1/Reshape\n",
      "MatMul: model_1/dense_1/MatMul\n",
      "BiasAdd: model_1/dense_1/BiasAdd\n",
      "Relu: model_1/dense_1/Relu\n",
      "MatMul: model_1/dense_2/MatMul\n",
      "BiasAdd: model_1/dense_2/BiasAdd\n",
      "Relu: model_1/dense_2/Relu\n",
      "MatMul: model_1/dense_3/MatMul\n",
      "BiasAdd: model_1/dense_3/BiasAdd\n",
      "model_1/conv2d_1/MatMul_b (32,)\n",
      "model_1/dense_3/convolution_b (10,)\n",
      "model_1/dense_2/MatMul_x (1, 20)\n",
      "model_1/dense_1/MatMul_x (1, 5408)\n",
      "model_1/max_pooling2d_1/MaxPool_x (1, 26, 26, 32)\n",
      "model_1/dense_2/MatMul_w (20, 10)\n",
      "model_1/dense_2/MatMul_b (10,)\n",
      "model_1/dense_2/convolution_b (10,)\n",
      "model_1/conv2d_1/convolution_w (3, 3, 1, 32)\n",
      "model_1/dense_1/MatMul_b (20,)\n",
      "model_1/conv2d_1/convolution_x (1, 28, 28, 1)\n",
      "model_1/conv2d_1/convolution_b (32,)\n",
      "model_1/dense_3/MatMul_w (10, 10)\n",
      "model_1/dense_3/MatMul_x (1, 10)\n",
      "model_1/dense_1/MatMul_w (5408, 20)\n",
      "model_1/dense_1/convolution_b (20,)\n",
      "model_1/dense_3/MatMul_b (10,)\n",
      "Shapley: references ready\n",
      "x_rp (27040, 4)\n",
      "r_rp (5408, 4)\n"
     ]
    },
    {
     "ename": "AssertionError",
     "evalue": "(27040, 4, 1)",
     "output_type": "error",
     "traceback": [
      "\u001b[0;31m---------------------------------------------------------------------------\u001b[0m",
      "\u001b[0;31mValueError\u001b[0m                                Traceback (most recent call last)",
      "\u001b[0;32m/usr/local/lib/python3.5/dist-packages/tensorflow/python/ops/gradients_impl.py\u001b[0m in \u001b[0;36m_MaybeCompile\u001b[0;34m(scope, op, func, grad_fn)\u001b[0m\n\u001b[1;32m    373\u001b[0m     \u001b[0;32mtry\u001b[0m\u001b[0;34m:\u001b[0m\u001b[0;34m\u001b[0m\u001b[0m\n\u001b[0;32m--> 374\u001b[0;31m       \u001b[0mxla_compile\u001b[0m \u001b[0;34m=\u001b[0m \u001b[0mop\u001b[0m\u001b[0;34m.\u001b[0m\u001b[0mget_attr\u001b[0m\u001b[0;34m(\u001b[0m\u001b[0;34m\"_XlaCompile\"\u001b[0m\u001b[0;34m)\u001b[0m\u001b[0;34m\u001b[0m\u001b[0m\n\u001b[0m\u001b[1;32m    375\u001b[0m       xla_separate_compiled_gradients = op.get_attr(\n",
      "\u001b[0;32m/usr/local/lib/python3.5/dist-packages/tensorflow/python/framework/ops.py\u001b[0m in \u001b[0;36mget_attr\u001b[0;34m(self, name)\u001b[0m\n\u001b[1;32m   2239\u001b[0m         raise ValueError(\n\u001b[0;32m-> 2240\u001b[0;31m             \"No attr named '\" + name + \"' in \" + str(self._node_def_val))\n\u001b[0m\u001b[1;32m   2241\u001b[0m       \u001b[0mx\u001b[0m \u001b[0;34m=\u001b[0m \u001b[0mself\u001b[0m\u001b[0;34m.\u001b[0m\u001b[0m_node_def_val\u001b[0m\u001b[0;34m.\u001b[0m\u001b[0mattr\u001b[0m\u001b[0;34m[\u001b[0m\u001b[0mname\u001b[0m\u001b[0;34m]\u001b[0m\u001b[0;34m\u001b[0m\u001b[0m\n",
      "\u001b[0;31mValueError\u001b[0m: No attr named '_XlaCompile' in name: \"model_1/max_pooling2d_1/MaxPool\"\nop: \"MaxPool\"\ninput: \"model_1/conv2d_1/Relu\"\nattr {\n  key: \"T\"\n  value {\n    type: DT_FLOAT\n  }\n}\nattr {\n  key: \"_gradient_op_type\"\n  value {\n    s: \"MaxPoolDeepExplainGrad\"\n  }\n}\nattr {\n  key: \"data_format\"\n  value {\n    s: \"NHWC\"\n  }\n}\nattr {\n  key: \"ksize\"\n  value {\n    list {\n      i: 1\n      i: 2\n      i: 2\n      i: 1\n    }\n  }\n}\nattr {\n  key: \"padding\"\n  value {\n    s: \"VALID\"\n  }\n}\nattr {\n  key: \"strides\"\n  value {\n    list {\n      i: 1\n      i: 2\n      i: 2\n      i: 1\n    }\n  }\n}\n",
      "\nDuring handling of the above exception, another exception occurred:\n",
      "\u001b[0;31mAssertionError\u001b[0m                            Traceback (most recent call last)",
      "\u001b[0;32m<ipython-input-4-8880e187c63d>\u001b[0m in \u001b[0;36m<module>\u001b[0;34m()\u001b[0m\n\u001b[1;32m     23\u001b[0m     \u001b[0;31m#a_res = de.explain('deeplift', target_tensor * ys, input_tensor, xs)\u001b[0m\u001b[0;34m\u001b[0m\u001b[0;34m\u001b[0m\u001b[0m\n\u001b[1;32m     24\u001b[0m     \u001b[0;31m#a_linear = de.explain('linear', target_tensor * ys, input_tensor, xs)\u001b[0m\u001b[0;34m\u001b[0m\u001b[0;34m\u001b[0m\u001b[0m\n\u001b[0;32m---> 25\u001b[0;31m     \u001b[0ma_shap\u001b[0m \u001b[0;34m=\u001b[0m \u001b[0mde\u001b[0m\u001b[0;34m.\u001b[0m\u001b[0mexplain\u001b[0m\u001b[0;34m(\u001b[0m\u001b[0;34m'shapley'\u001b[0m\u001b[0;34m,\u001b[0m \u001b[0mtarget_tensor\u001b[0m \u001b[0;34m*\u001b[0m \u001b[0mys\u001b[0m\u001b[0;34m,\u001b[0m \u001b[0minput_tensor\u001b[0m\u001b[0;34m,\u001b[0m \u001b[0mxs\u001b[0m\u001b[0;34m)\u001b[0m\u001b[0;34m\u001b[0m\u001b[0m\n\u001b[0m\u001b[1;32m     26\u001b[0m     \u001b[0;31m#a_shap = np.zeros_like(a_linear)\u001b[0m\u001b[0;34m\u001b[0m\u001b[0;34m\u001b[0m\u001b[0m\n\u001b[1;32m     27\u001b[0m \u001b[0;34m\u001b[0m\u001b[0m\n",
      "\u001b[0;32m~/projects/DeepExplain/deepexplain/tensorflow/methods.py\u001b[0m in \u001b[0;36mexplain\u001b[0;34m(self, method, T, X, xs, **kwargs)\u001b[0m\n\u001b[1;32m    801\u001b[0m         \u001b[0m_ENABLED_METHOD_CLASS\u001b[0m \u001b[0;34m=\u001b[0m \u001b[0mmethod_class\u001b[0m\u001b[0;34m\u001b[0m\u001b[0m\n\u001b[1;32m    802\u001b[0m         \u001b[0mmethod\u001b[0m \u001b[0;34m=\u001b[0m \u001b[0m_ENABLED_METHOD_CLASS\u001b[0m\u001b[0;34m(\u001b[0m\u001b[0mT\u001b[0m\u001b[0;34m,\u001b[0m \u001b[0mX\u001b[0m\u001b[0;34m,\u001b[0m \u001b[0mxs\u001b[0m\u001b[0;34m,\u001b[0m \u001b[0mself\u001b[0m\u001b[0;34m.\u001b[0m\u001b[0msession\u001b[0m\u001b[0;34m,\u001b[0m \u001b[0mself\u001b[0m\u001b[0;34m.\u001b[0m\u001b[0mkeras_phase_placeholder\u001b[0m\u001b[0;34m,\u001b[0m \u001b[0;34m**\u001b[0m\u001b[0mkwargs\u001b[0m\u001b[0;34m)\u001b[0m\u001b[0;34m\u001b[0m\u001b[0m\n\u001b[0;32m--> 803\u001b[0;31m         \u001b[0mresult\u001b[0m \u001b[0;34m=\u001b[0m \u001b[0mmethod\u001b[0m\u001b[0;34m.\u001b[0m\u001b[0mrun\u001b[0m\u001b[0;34m(\u001b[0m\u001b[0;34m)\u001b[0m\u001b[0;34m\u001b[0m\u001b[0m\n\u001b[0m\u001b[1;32m    804\u001b[0m         \u001b[0;32mif\u001b[0m \u001b[0missubclass\u001b[0m\u001b[0;34m(\u001b[0m\u001b[0m_ENABLED_METHOD_CLASS\u001b[0m\u001b[0;34m,\u001b[0m \u001b[0mGradientBasedMethod\u001b[0m\u001b[0;34m)\u001b[0m \u001b[0;32mand\u001b[0m \u001b[0m_GRAD_OVERRIDE_CHECKFLAG\u001b[0m \u001b[0;34m==\u001b[0m \u001b[0;36m0\u001b[0m\u001b[0;34m:\u001b[0m\u001b[0;34m\u001b[0m\u001b[0m\n\u001b[1;32m    805\u001b[0m             warnings.warn('DeepExplain detected you are trying to use an attribution method that requires '\n",
      "\u001b[0;32m~/projects/DeepExplain/deepexplain/tensorflow/methods.py\u001b[0m in \u001b[0;36mrun\u001b[0;34m(self)\u001b[0m\n\u001b[1;32m    579\u001b[0m \u001b[0;34m\u001b[0m\u001b[0m\n\u001b[1;32m    580\u001b[0m         \u001b[0;31m# Run the default run\u001b[0m\u001b[0;34m\u001b[0m\u001b[0;34m\u001b[0m\u001b[0m\n\u001b[0;32m--> 581\u001b[0;31m         \u001b[0;32mreturn\u001b[0m \u001b[0msuper\u001b[0m\u001b[0;34m(\u001b[0m\u001b[0mDeepShapley\u001b[0m\u001b[0;34m,\u001b[0m \u001b[0mself\u001b[0m\u001b[0;34m)\u001b[0m\u001b[0;34m.\u001b[0m\u001b[0mrun\u001b[0m\u001b[0;34m(\u001b[0m\u001b[0;34m)\u001b[0m\u001b[0;34m\u001b[0m\u001b[0m\n\u001b[0m\u001b[1;32m    582\u001b[0m \u001b[0;34m\u001b[0m\u001b[0m\n\u001b[1;32m    583\u001b[0m     \u001b[0;32mdef\u001b[0m \u001b[0m_init_references\u001b[0m\u001b[0;34m(\u001b[0m\u001b[0mself\u001b[0m\u001b[0;34m)\u001b[0m\u001b[0;34m:\u001b[0m\u001b[0;34m\u001b[0m\u001b[0m\n",
      "\u001b[0;32m~/projects/DeepExplain/deepexplain/tensorflow/methods.py\u001b[0m in \u001b[0;36mrun\u001b[0;34m(self)\u001b[0m\n\u001b[1;32m    126\u001b[0m \u001b[0;34m\u001b[0m\u001b[0m\n\u001b[1;32m    127\u001b[0m     \u001b[0;32mdef\u001b[0m \u001b[0mrun\u001b[0m\u001b[0;34m(\u001b[0m\u001b[0mself\u001b[0m\u001b[0;34m)\u001b[0m\u001b[0;34m:\u001b[0m\u001b[0;34m\u001b[0m\u001b[0m\n\u001b[0;32m--> 128\u001b[0;31m         \u001b[0mattributions\u001b[0m \u001b[0;34m=\u001b[0m \u001b[0mself\u001b[0m\u001b[0;34m.\u001b[0m\u001b[0mget_symbolic_attribution\u001b[0m\u001b[0;34m(\u001b[0m\u001b[0;34m)\u001b[0m\u001b[0;34m\u001b[0m\u001b[0m\n\u001b[0m\u001b[1;32m    129\u001b[0m         \u001b[0mresults\u001b[0m \u001b[0;34m=\u001b[0m  \u001b[0mself\u001b[0m\u001b[0;34m.\u001b[0m\u001b[0msession_run\u001b[0m\u001b[0;34m(\u001b[0m\u001b[0mattributions\u001b[0m\u001b[0;34m,\u001b[0m \u001b[0mself\u001b[0m\u001b[0;34m.\u001b[0m\u001b[0mxs\u001b[0m\u001b[0;34m)\u001b[0m\u001b[0;34m\u001b[0m\u001b[0m\n\u001b[1;32m    130\u001b[0m         \u001b[0;32mreturn\u001b[0m \u001b[0mresults\u001b[0m\u001b[0;34m[\u001b[0m\u001b[0;36m0\u001b[0m\u001b[0;34m]\u001b[0m \u001b[0;32mif\u001b[0m \u001b[0;32mnot\u001b[0m \u001b[0mself\u001b[0m\u001b[0;34m.\u001b[0m\u001b[0mhas_multiple_inputs\u001b[0m \u001b[0;32melse\u001b[0m \u001b[0mresults\u001b[0m\u001b[0;34m\u001b[0m\u001b[0m\n",
      "\u001b[0;32m~/projects/DeepExplain/deepexplain/tensorflow/methods.py\u001b[0m in \u001b[0;36mget_symbolic_attribution\u001b[0;34m(self)\u001b[0m\n\u001b[1;32m    377\u001b[0m     \u001b[0;32mdef\u001b[0m \u001b[0mget_symbolic_attribution\u001b[0m\u001b[0;34m(\u001b[0m\u001b[0mself\u001b[0m\u001b[0;34m)\u001b[0m\u001b[0;34m:\u001b[0m\u001b[0;34m\u001b[0m\u001b[0m\n\u001b[1;32m    378\u001b[0m         return [g * (x - b) for g, x, b in zip(\n\u001b[0;32m--> 379\u001b[0;31m             \u001b[0mtf\u001b[0m\u001b[0;34m.\u001b[0m\u001b[0mgradients\u001b[0m\u001b[0;34m(\u001b[0m\u001b[0mself\u001b[0m\u001b[0;34m.\u001b[0m\u001b[0mT\u001b[0m\u001b[0;34m,\u001b[0m \u001b[0mself\u001b[0m\u001b[0;34m.\u001b[0m\u001b[0mX\u001b[0m\u001b[0;34m)\u001b[0m\u001b[0;34m,\u001b[0m\u001b[0;34m\u001b[0m\u001b[0m\n\u001b[0m\u001b[1;32m    380\u001b[0m             \u001b[0mself\u001b[0m\u001b[0;34m.\u001b[0m\u001b[0mX\u001b[0m \u001b[0;32mif\u001b[0m \u001b[0mself\u001b[0m\u001b[0;34m.\u001b[0m\u001b[0mhas_multiple_inputs\u001b[0m \u001b[0;32melse\u001b[0m \u001b[0;34m[\u001b[0m\u001b[0mself\u001b[0m\u001b[0;34m.\u001b[0m\u001b[0mX\u001b[0m\u001b[0;34m]\u001b[0m\u001b[0;34m,\u001b[0m\u001b[0;34m\u001b[0m\u001b[0m\n\u001b[1;32m    381\u001b[0m             self.baseline if self.has_multiple_inputs else [self.baseline])]\n",
      "\u001b[0;32m/usr/local/lib/python3.5/dist-packages/tensorflow/python/ops/gradients_impl.py\u001b[0m in \u001b[0;36mgradients\u001b[0;34m(ys, xs, grad_ys, name, colocate_gradients_with_ops, gate_gradients, aggregation_method, stop_gradients)\u001b[0m\n\u001b[1;32m    486\u001b[0m   \u001b[0;32mwith\u001b[0m \u001b[0mops\u001b[0m\u001b[0;34m.\u001b[0m\u001b[0mget_default_graph\u001b[0m\u001b[0;34m(\u001b[0m\u001b[0;34m)\u001b[0m\u001b[0;34m.\u001b[0m\u001b[0m_lock\u001b[0m\u001b[0;34m:\u001b[0m  \u001b[0;31m# pylint: disable=protected-access\u001b[0m\u001b[0;34m\u001b[0m\u001b[0m\n\u001b[1;32m    487\u001b[0m     return _GradientsHelper(ys, xs, grad_ys, name, colocate_gradients_with_ops,\n\u001b[0;32m--> 488\u001b[0;31m                             gate_gradients, aggregation_method, stop_gradients)\n\u001b[0m\u001b[1;32m    489\u001b[0m \u001b[0;34m\u001b[0m\u001b[0m\n\u001b[1;32m    490\u001b[0m \u001b[0;34m\u001b[0m\u001b[0m\n",
      "\u001b[0;32m/usr/local/lib/python3.5/dist-packages/tensorflow/python/ops/gradients_impl.py\u001b[0m in \u001b[0;36m_GradientsHelper\u001b[0;34m(ys, xs, grad_ys, name, colocate_gradients_with_ops, gate_gradients, aggregation_method, stop_gradients)\u001b[0m\n\u001b[1;32m    623\u001b[0m                 \u001b[0;31m# functions.\u001b[0m\u001b[0;34m\u001b[0m\u001b[0;34m\u001b[0m\u001b[0m\n\u001b[1;32m    624\u001b[0m                 in_grads = _MaybeCompile(grad_scope, op, func_call,\n\u001b[0;32m--> 625\u001b[0;31m                                          lambda: grad_fn(op, *out_grads))\n\u001b[0m\u001b[1;32m    626\u001b[0m               \u001b[0;32melse\u001b[0m\u001b[0;34m:\u001b[0m\u001b[0;34m\u001b[0m\u001b[0m\n\u001b[1;32m    627\u001b[0m                 \u001b[0;31m# For function call ops, we add a 'SymbolicGradient'\u001b[0m\u001b[0;34m\u001b[0m\u001b[0;34m\u001b[0m\u001b[0m\n",
      "\u001b[0;32m/usr/local/lib/python3.5/dist-packages/tensorflow/python/ops/gradients_impl.py\u001b[0m in \u001b[0;36m_MaybeCompile\u001b[0;34m(scope, op, func, grad_fn)\u001b[0m\n\u001b[1;32m    377\u001b[0m       \u001b[0mxla_scope\u001b[0m \u001b[0;34m=\u001b[0m \u001b[0mop\u001b[0m\u001b[0;34m.\u001b[0m\u001b[0mget_attr\u001b[0m\u001b[0;34m(\u001b[0m\u001b[0;34m\"_XlaScope\"\u001b[0m\u001b[0;34m)\u001b[0m\u001b[0;34m.\u001b[0m\u001b[0mdecode\u001b[0m\u001b[0;34m(\u001b[0m\u001b[0;34m)\u001b[0m\u001b[0;34m\u001b[0m\u001b[0m\n\u001b[1;32m    378\u001b[0m     \u001b[0;32mexcept\u001b[0m \u001b[0mValueError\u001b[0m\u001b[0;34m:\u001b[0m\u001b[0;34m\u001b[0m\u001b[0m\n\u001b[0;32m--> 379\u001b[0;31m       \u001b[0;32mreturn\u001b[0m \u001b[0mgrad_fn\u001b[0m\u001b[0;34m(\u001b[0m\u001b[0;34m)\u001b[0m  \u001b[0;31m# Exit early\u001b[0m\u001b[0;34m\u001b[0m\u001b[0m\n\u001b[0m\u001b[1;32m    380\u001b[0m \u001b[0;34m\u001b[0m\u001b[0m\n\u001b[1;32m    381\u001b[0m   \u001b[0;32mif\u001b[0m \u001b[0;32mnot\u001b[0m \u001b[0mxla_compile\u001b[0m\u001b[0;34m:\u001b[0m\u001b[0;34m\u001b[0m\u001b[0m\n",
      "\u001b[0;32m/usr/local/lib/python3.5/dist-packages/tensorflow/python/ops/gradients_impl.py\u001b[0m in \u001b[0;36m<lambda>\u001b[0;34m()\u001b[0m\n\u001b[1;32m    623\u001b[0m                 \u001b[0;31m# functions.\u001b[0m\u001b[0;34m\u001b[0m\u001b[0;34m\u001b[0m\u001b[0m\n\u001b[1;32m    624\u001b[0m                 in_grads = _MaybeCompile(grad_scope, op, func_call,\n\u001b[0;32m--> 625\u001b[0;31m                                          lambda: grad_fn(op, *out_grads))\n\u001b[0m\u001b[1;32m    626\u001b[0m               \u001b[0;32melse\u001b[0m\u001b[0;34m:\u001b[0m\u001b[0;34m\u001b[0m\u001b[0m\n\u001b[1;32m    627\u001b[0m                 \u001b[0;31m# For function call ops, we add a 'SymbolicGradient'\u001b[0m\u001b[0;34m\u001b[0m\u001b[0;34m\u001b[0m\u001b[0m\n",
      "\u001b[0;32m~/projects/DeepExplain/deepexplain/tensorflow/methods.py\u001b[0m in \u001b[0;36mmaxpool_deepexplain_grad\u001b[0;34m(op, grad)\u001b[0m\n\u001b[1;32m    751\u001b[0m     \u001b[0;32mif\u001b[0m \u001b[0m_ENABLED_METHOD_CLASS\u001b[0m \u001b[0;32mis\u001b[0m \u001b[0;32mnot\u001b[0m \u001b[0;32mNone\u001b[0m\u001b[0;31m \u001b[0m\u001b[0;31m\\\u001b[0m\u001b[0;34m\u001b[0m\u001b[0m\n\u001b[1;32m    752\u001b[0m             \u001b[0;32mand\u001b[0m \u001b[0missubclass\u001b[0m\u001b[0;34m(\u001b[0m\u001b[0m_ENABLED_METHOD_CLASS\u001b[0m\u001b[0;34m,\u001b[0m \u001b[0mGradientBasedMethod\u001b[0m\u001b[0;34m)\u001b[0m\u001b[0;34m:\u001b[0m\u001b[0;34m\u001b[0m\u001b[0m\n\u001b[0;32m--> 753\u001b[0;31m         \u001b[0;32mreturn\u001b[0m \u001b[0m_ENABLED_METHOD_CLASS\u001b[0m\u001b[0;34m.\u001b[0m\u001b[0mmaxpool_grad_override\u001b[0m\u001b[0;34m(\u001b[0m\u001b[0mop\u001b[0m\u001b[0;34m,\u001b[0m \u001b[0mgrad\u001b[0m\u001b[0;34m)\u001b[0m\u001b[0;34m\u001b[0m\u001b[0m\n\u001b[0m\u001b[1;32m    754\u001b[0m     \u001b[0;32melse\u001b[0m\u001b[0;34m:\u001b[0m\u001b[0;34m\u001b[0m\u001b[0m\n\u001b[1;32m    755\u001b[0m         \u001b[0;32mreturn\u001b[0m \u001b[0moriginal_grad\u001b[0m\u001b[0;34m(\u001b[0m\u001b[0mop\u001b[0m\u001b[0;34m,\u001b[0m \u001b[0mgrad\u001b[0m\u001b[0;34m)\u001b[0m\u001b[0;34m\u001b[0m\u001b[0m\n",
      "\u001b[0;32m~/projects/DeepExplain/deepexplain/tensorflow/methods.py\u001b[0m in \u001b[0;36mmaxpool_grad_override\u001b[0;34m(cls, op, grad)\u001b[0m\n\u001b[1;32m    494\u001b[0m                           \u001b[0mweights\u001b[0m\u001b[0;34m=\u001b[0m\u001b[0mgrad_flat\u001b[0m\u001b[0;34m,\u001b[0m\u001b[0;34m\u001b[0m\u001b[0m\n\u001b[1;32m    495\u001b[0m                           \u001b[0mmethod\u001b[0m\u001b[0;34m=\u001b[0m\u001b[0;34m'exact'\u001b[0m\u001b[0;34m,\u001b[0m\u001b[0;34m\u001b[0m\u001b[0m\n\u001b[0;32m--> 496\u001b[0;31m                           fun = lambda x: np.max(x, 1))\n\u001b[0m\u001b[1;32m    497\u001b[0m         \u001b[0;31m# for idx in range(x_np.shape[0]):\u001b[0m\u001b[0;34m\u001b[0m\u001b[0;34m\u001b[0m\u001b[0m\n\u001b[1;32m    498\u001b[0m         \u001b[0;31m#     players = np.expand_dims(x_np[idx], 1)\u001b[0m\u001b[0;34m\u001b[0m\u001b[0;34m\u001b[0m\u001b[0m\n",
      "\u001b[0;32m~/projects/DeepExplain/deepexplain/tensorflow/deep_shapley.py\u001b[0m in \u001b[0;36meta_shap\u001b[0;34m(games, bias, baseline, weights, method, fun)\u001b[0m\n\u001b[1;32m     29\u001b[0m         \u001b[0mbaseline\u001b[0m \u001b[0;34m=\u001b[0m \u001b[0mnp\u001b[0m\u001b[0;34m.\u001b[0m\u001b[0mzeros\u001b[0m\u001b[0;34m(\u001b[0m\u001b[0;34m(\u001b[0m\u001b[0mn\u001b[0m\u001b[0;34m,\u001b[0m \u001b[0mm\u001b[0m\u001b[0;34m)\u001b[0m\u001b[0;34m)\u001b[0m\u001b[0;34m\u001b[0m\u001b[0m\n\u001b[1;32m     30\u001b[0m     \u001b[0;32melse\u001b[0m\u001b[0;34m:\u001b[0m\u001b[0;34m\u001b[0m\u001b[0m\n\u001b[0;32m---> 31\u001b[0;31m         \u001b[0;32massert\u001b[0m \u001b[0mbaseline\u001b[0m\u001b[0;34m.\u001b[0m\u001b[0mshape\u001b[0m \u001b[0;34m==\u001b[0m \u001b[0;34m(\u001b[0m\u001b[0mn\u001b[0m\u001b[0;34m,\u001b[0m \u001b[0mm\u001b[0m\u001b[0;34m)\u001b[0m\u001b[0;34m,\u001b[0m \u001b[0mbaseline\u001b[0m\u001b[0;34m.\u001b[0m\u001b[0mshape\u001b[0m\u001b[0;34m\u001b[0m\u001b[0m\n\u001b[0m\u001b[1;32m     32\u001b[0m     \u001b[0;32mif\u001b[0m \u001b[0mbias\u001b[0m \u001b[0;32mis\u001b[0m \u001b[0;32mNone\u001b[0m\u001b[0;34m:\u001b[0m\u001b[0;34m\u001b[0m\u001b[0m\n\u001b[1;32m     33\u001b[0m         \u001b[0mbias\u001b[0m \u001b[0;34m=\u001b[0m \u001b[0mnp\u001b[0m\u001b[0;34m.\u001b[0m\u001b[0mzeros\u001b[0m\u001b[0;34m(\u001b[0m\u001b[0;34m(\u001b[0m\u001b[0mm\u001b[0m\u001b[0;34m,\u001b[0m\u001b[0;34m)\u001b[0m\u001b[0;34m)\u001b[0m\u001b[0;34m\u001b[0m\u001b[0m\n",
      "\u001b[0;31mAssertionError\u001b[0m: (27040, 4, 1)"
     ]
    }
   ],
   "source": [
    "%time\n",
    "input_tensor = model.layers[0].input\n",
    "grad_original = xs * K.gradients(model.layers[-2].output*ys, [input_tensor])[0]\n",
    "max_pool_grad_original = K.function([input_tensor], [grad_original])([xs])[0]\n",
    "print (max_pool_grad_original.shape)\n",
    "\n",
    "with DeepExplain(session=K.get_session()) as de:  # <-- init DeepExplain context\n",
    "    # Need to reconstruct the graph in DeepExplain context, using the same weights.\n",
    "    # With Keras this is very easy:\n",
    "    # 1. Get the input tensor to the original model\n",
    "    input_tensor = model.layers[0].input\n",
    "    \n",
    "    # 2. We now target the output of the last dense layer (pre-softmax)\n",
    "    # To do so, create a new model sharing the same layers untill the last dense (index -2)\n",
    "    fModel = Model(inputs=input_tensor, outputs = model.layers[-2].output)\n",
    "    target_tensor = fModel(input_tensor)\n",
    "    \n",
    "\n",
    "    \n",
    "    a_gradin = de.explain('grad*input', target_tensor * ys, input_tensor, xs)\n",
    "    #attributions = de.explain('saliency', target_tensor * ys, input_tensor, xs)\n",
    "    a_intgrad = de.explain('intgrad', target_tensor * ys, input_tensor, xs)\n",
    "    #a_res = de.explain('deeplift', target_tensor * ys, input_tensor, xs)\n",
    "    #a_linear = de.explain('linear', target_tensor * ys, input_tensor, xs)\n",
    "    a_shap = de.explain('shapley', target_tensor * ys, input_tensor, xs)\n",
    "    #a_shap = np.zeros_like(a_linear)\n",
    "    \n",
    "    #attributions2 = de.explain('elrp', target_tensor * ys, input_tensor, xs)\n",
    "    #attributions = de.explain('occlusion', target_tensor * ys, input_tensor, xs)\n",
    "    print (\"Done\")\n",
    "print (max_pool_grad_original[0])\n",
    "print ('Override')\n",
    "print (a_shap[0])\n",
    "print (np.sum((max_pool_grad_original - a_shap)**2))"
   ]
  },
  {
   "cell_type": "code",
   "execution_count": 6,
   "metadata": {
    "collapsed": false
   },
   "outputs": [
    {
     "name": "stdout",
     "output_type": "stream",
     "text": [
      "Patches:  (1, 26, 26, 9)\n",
      "Tensor(\"CheckNumerics_1:0\", shape=(1, 28, 28, 1), dtype=float32)\n",
      "7.0337522e-09\n"
     ]
    },
    {
     "ename": "SyntaxError",
     "evalue": "'return' outside function (<ipython-input-6-fa3c54c5fecf>, line 33)",
     "output_type": "error",
     "traceback": [
      "\u001b[0;36m  File \u001b[0;32m\"<ipython-input-6-fa3c54c5fecf>\"\u001b[0;36m, line \u001b[0;32m33\u001b[0m\n\u001b[0;31m    return\u001b[0m\n\u001b[0m          ^\u001b[0m\n\u001b[0;31mSyntaxError\u001b[0m\u001b[0;31m:\u001b[0m 'return' outside function\n"
     ]
    }
   ],
   "source": [
    "from utils import plot, plt\n",
    "%matplotlib inline\n",
    "\n",
    "def extract_patches(x):\n",
    "    return tf.extract_image_patches(\n",
    "        x,\n",
    "        (1, 3, 3, 1),\n",
    "        (1, 1, 1, 1),\n",
    "        (1, 1, 1, 1),\n",
    "        padding=\"VALID\"\n",
    "    )\n",
    "\n",
    "def extract_patches_inverse(x, y):\n",
    "    _x = tf.zeros_like(x)\n",
    "    _y = extract_patches(_x)\n",
    "    grad = tf.gradients(_y, _x)[0]\n",
    "    result =  tf.gradients(_y, _x, grad_ys=y)[0] / grad\n",
    "    result = tf.check_numerics(\n",
    "    result,\n",
    "    'result contains nans',\n",
    "    )\n",
    "    return result\n",
    "\n",
    "images = 100 * np.random.random((1, 28, 28, 1)).astype(np.float32)\n",
    "patches = extract_patches(images)\n",
    "print (\"Patches: \", patches.shape)\n",
    "images_reconstructed = extract_patches_inverse(images, patches) # notice that images is only passed to the the right shape\n",
    "print (images_reconstructed)\n",
    "\n",
    "images_reconstructed = images_reconstructed.eval(session=K.get_session())\n",
    "\n",
    "print (np.sum(np.square(images - images_reconstructed)))\n",
    "return\n",
    "\n",
    "print (patches.shape)\n",
    "kernel = model.layers[0].get_weights()[0]\n",
    "bias = model.layers[0].get_weights()[1]\n",
    "print (kernel.shape)\n",
    "print (bias.shape)\n",
    "patches = tf.reshape(patches, (-1, 9))\n",
    "_kernel = kernel.reshape(-1, 32)\n",
    "result = tf.matmul(patches,_kernel)\n",
    "print (result.shape)\n",
    "result = tf.reshape(result, (1, 26, 26, 32))\n",
    "print (result.shape)\n",
    "\n",
    "conv = tf.nn.conv2d(\n",
    "    xs,\n",
    "    kernel,\n",
    "    (1, 1, 1, 1),\n",
    "    \"VALID\",\n",
    "    use_cudnn_on_gpu=True,\n",
    "    data_format='NHWC',\n",
    "    dilations=[1, 1, 1, 1],\n",
    ")\n",
    "print (conv.shape)\n",
    "\n",
    "print (tf.reduce_sum(tf.square(conv - result)).eval(session=K.get_session()))\n"
   ]
  },
  {
   "cell_type": "code",
   "execution_count": 6,
   "metadata": {
    "collapsed": false
   },
   "outputs": [
    {
     "name": "stdout",
     "output_type": "stream",
     "text": [
      "[MOD] for Tensorflow 1.7.0\n"
     ]
    },
    {
     "name": "stderr",
     "output_type": "stream",
     "text": [
      "/home/anconam/projects/DeepExplain/src/shap/shap/explainers/deep.py:81: UserWarning: Your TensorFlow version is older than 1.8.0 and not supported.\n",
      "  warnings.warn(\"Your TensorFlow version is older than 1.8.0 and not supported.\")\n"
     ]
    },
    {
     "name": "stdout",
     "output_type": "stream",
     "text": [
      "(5, 28, 28, 1)\n"
     ]
    }
   ],
   "source": [
    "import shap\n",
    "import numpy as np\n",
    "# select a set of background examples to take an expectation over\n",
    "background = x_train[np.random.choice(x_train.shape[0], 100, replace=False)]\n",
    "# background = np.zeros_like(background)\n",
    "\n",
    "# explain predictions of the model on four images\n",
    "e = shap.DeepExplainer((model.layers[0].input, model.layers[-2].output), background)\n",
    "# ...or pass tensors directly\n",
    "# e = shap.DeepExplainer((model.layers[0].input, model.layers[-1].output), background)\n",
    "shap_values = e.shap_values(xs)\n",
    "y_ = np.argmax(ys, 1)\n",
    "npshap = np.array(shap_values)\n",
    "#npshap = npshap.reshape(10, 15, -1)\n",
    "#shap_values = np.transpose(shap_values, (1, 0, 2, 3, 4))\n",
    "a_shaplud = np.array([npshap[item, enum] for enum, item in enumerate(y_)])\n",
    "print (a_shaplud.shape)\n",
    "\n",
    "# plot the feature attributions\n",
    "#shap.image_plot(shap_values, -xs)"
   ]
  },
  {
   "cell_type": "code",
   "execution_count": 13,
   "metadata": {
    "collapsed": false
   },
   "outputs": [
    {
     "name": "stdout",
     "output_type": "stream",
     "text": [
      "Exact Shapley (v2)\n",
      "(16,)\n",
      "Exact Shapley (v2)\n",
      "(16,)\n",
      "Exact Shapley (v2)\n",
      "(16,)\n",
      "Exact Shapley (v2)\n",
      "(16,)\n",
      "Exact Shapley (v2)\n",
      "(16,)\n",
      "Exact Shapley (v2)\n",
      "(16,)\n",
      "Exact Shapley (v2)\n",
      "(16,)\n",
      "Exact Shapley (v2)\n",
      "(16,)\n",
      "Exact Shapley (v2)\n",
      "(16,)\n",
      "Exact Shapley (v2)\n",
      "(16,)\n",
      "Exact Shapley (v2)\n",
      "(16,)\n",
      "Exact Shapley (v2)\n",
      "(16,)\n",
      "Exact Shapley (v2)\n",
      "(16,)\n",
      "Exact Shapley (v2)\n",
      "(16,)\n",
      "Exact Shapley (v2)\n",
      "(16,)\n",
      "Exact Shapley (v2)\n",
      "(16,)\n",
      "Exact Shapley (v2)\n",
      "(16,)\n",
      "Exact Shapley (v2)\n",
      "(16,)\n",
      "Exact Shapley (v2)\n",
      "(16,)\n",
      "Exact Shapley (v2)\n",
      "(16,)\n",
      "Exact Shapley (v2)\n",
      "(16,)\n",
      "Exact Shapley (v2)\n",
      "(16,)\n",
      "Exact Shapley (v2)\n",
      "(16,)\n",
      "Exact Shapley (v2)\n",
      "(16,)\n",
      "Exact Shapley (v2)\n",
      "(16,)\n",
      "Exact Shapley (v2)\n",
      "(16,)\n",
      "Exact Shapley (v2)\n",
      "(16,)\n",
      "Exact Shapley (v2)\n",
      "(16,)\n",
      "Exact Shapley (v2)\n",
      "(16,)\n",
      "Exact Shapley (v2)\n",
      "(16,)\n"
     ]
    }
   ],
   "source": [
    "# Compute exacly shapley values!\n",
    "saved_file = 'exact.npy'\n",
    "if True or not SKIP_TRAIN:\n",
    "    from deepexplain.tensorflow.exact_shapley import compute_shapley\n",
    "    a_exact = np.array([compute_shapley(xx, lambda x: (fModel.predict(np.array(x))*yy).sum(-1)) for xx, yy in zip(xs, ys)])\n",
    "    np.save(saved_file, a_exact)\n",
    "else:\n",
    "    a_exact = np.load(saved_file)\n"
   ]
  },
  {
   "cell_type": "code",
   "execution_count": null,
   "metadata": {
    "collapsed": false
   },
   "outputs": [],
   "source": []
  },
  {
   "cell_type": "code",
   "execution_count": 10,
   "metadata": {
    "collapsed": false
   },
   "outputs": [
    {
     "data": {
      "text/plain": [
       "<matplotlib.text.Text at 0x7f625595e588>"
      ]
     },
     "execution_count": 10,
     "metadata": {},
     "output_type": "execute_result"
    },
    {
     "data": {
      "image/png": "[encoded data removed]",
      "text/plain": [
       "<matplotlib.figure.Figure at 0x7f63b8a513c8>"
      ]
     },
     "metadata": {},
     "output_type": "display_data"
    },
    {
     "data": {
      "image/png": "[encoded data removed]",
      "text/plain": [
       "<matplotlib.figure.Figure at 0x7f6255b58470>"
      ]
     },
     "metadata": {},
     "output_type": "display_data"
    },
    {
     "data": {
      "image/png": "[encoded data removed]",
      "text/plain": [
       "<matplotlib.figure.Figure at 0x7f6255b24e80>"
      ]
     },
     "metadata": {},
     "output_type": "display_data"
    },
    {
     "data": {
      "image/png": "[encoded data removed]",
      "text/plain": [
       "<matplotlib.figure.Figure at 0x7f6255b36978>"
      ]
     },
     "metadata": {},
     "output_type": "display_data"
    },
    {
     "data": {
      "image/png": "[encoded data removed]",
      "text/plain": [
       "<matplotlib.figure.Figure at 0x7f6255b2b9e8>"
      ]
     },
     "metadata": {},
     "output_type": "display_data"
    },
    {
     "data": {
      "image/png": "[encoded data removed]",
      "text/plain": [
       "<matplotlib.figure.Figure at 0x7f6255a59320>"
      ]
     },
     "metadata": {},
     "output_type": "display_data"
    },
    {
     "data": {
      "image/png": "[encoded data removed]",
      "text/plain": [
       "<matplotlib.figure.Figure at 0x7f62559e7400>"
      ]
     },
     "metadata": {},
     "output_type": "display_data"
    }
   ],
   "source": [
    "# Plot attributions\n",
    "from utils import plot, plt\n",
    "%matplotlib inline\n",
    "idx = 3\n",
    "plot(a_gradin[idx].reshape(img_rows, img_cols), xs[idx].reshape(img_rows, img_cols)).title('GradInput')\n",
    "plt.figure()\n",
    "plot(a_intgrad[idx].reshape(img_rows, img_cols), xs[idx].reshape(img_rows, img_cols)).title('IntGrad')\n",
    "plt.figure()\n",
    "plot(a_res[idx].reshape(img_rows, img_cols), xs[idx].reshape(img_rows, img_cols)).title('DeepLift (Rescale)')\n",
    "plt.figure()\n",
    "#plot((a_linear)[idx].reshape(img_rows, img_cols), xs[idx].reshape(img_rows, img_cols)).title('Linear')\n",
    "#plt.figure()\n",
    "plot(a_rc[idx].reshape(img_rows, img_cols), xs[idx].reshape(img_rows, img_cols)).title('DeepLift (RevCancel)')\n",
    "plt.figure()\n",
    "plot((a_shap)[idx].reshape(img_rows, img_cols), xs[idx].reshape(img_rows, img_cols)).title('Deep Shap')\n",
    "plt.figure()\n",
    "plot((a_exact)[idx].reshape(img_rows, img_cols), xs[idx].reshape(img_rows, img_cols)).title('Exact Shap')\n",
    "plt.figure()\n",
    "plot((a_shaplud)[idx].reshape(img_rows, img_cols), xs[idx].reshape(img_rows, img_cols)).title('SHAP')\n",
    "\n",
    "\n",
    "\n",
    "        \n",
    "        \n"
   ]
  },
  {
   "cell_type": "code",
   "execution_count": 22,
   "metadata": {
    "collapsed": false
   },
   "outputs": [
    {
     "name": "stdout",
     "output_type": "stream",
     "text": [
      "Diff with DeepShap  0.17299335931414067\n",
      "Diff with DeepLift  0.36451434251638587\n",
      "Diff with DeepLift (Rescale)  1.3798387257274352\n",
      "Diff with Int Gradients  1.3905515371525725\n",
      "Diff with GradInput  4.08375209688684\n",
      "Pearson with DeepShap  0.9859803921568627\n",
      "Pearson with DeepLift  0.9749019607843136\n",
      "Pearson with DeepLift (rescale) 0.9823529411764705\n",
      "Pearson with Int Gradients  0.9814705882352942\n",
      "Pearson with GradInput  0.9505882352941176\n"
     ]
    },
    {
     "data": {
      "text/plain": [
       "<matplotlib.figure.Figure at 0x7f699ff876d8>"
      ]
     },
     "metadata": {},
     "output_type": "display_data"
    },
    {
     "data": {
      "image/png": "[encoded data removed]",
      "text/plain": [
       "<matplotlib.figure.Figure at 0x7f69a01ac0f0>"
      ]
     },
     "metadata": {},
     "output_type": "display_data"
    },
    {
     "data": {
      "text/plain": [
       "<matplotlib.figure.Figure at 0x7f69a0117ba8>"
      ]
     },
     "metadata": {},
     "output_type": "display_data"
    },
    {
     "data": {
      "image/png": "[encoded data removed]",
      "text/plain": [
       "<matplotlib.figure.Figure at 0x7f69a0233c18>"
      ]
     },
     "metadata": {},
     "output_type": "display_data"
    }
   ],
   "source": [
    "methods = [a_gradin, a_intgrad, a_res, a_rc, a_shap, a_exact]\n",
    "confusion = np.zeros((len(methods), len(methods)))\n",
    "confusion[:] = np.nan\n",
    "confusion_r = np.zeros((len(methods), len(methods)))\n",
    "confusion_r[:] = np.nan\n",
    "\n",
    "n = a_gradin.shape[0]\n",
    "for i, m1 in enumerate(methods):\n",
    "    for j, m2 in enumerate(methods):\n",
    "        if i >= j:\n",
    "            m1 = m1.reshape(n, -1)\n",
    "            m2 = m2.reshape(n, -1)\n",
    "            confusion[i][j] = ((m1-m2)**2).mean()\n",
    "            confusion_r[i][j] = np.mean([scipy.stats.spearmanr(x, y)[0] for x,y in zip(m1, m2)])\n",
    "plt.figure()\n",
    "plt.matshow(confusion, cmap='RdBu_r')\n",
    "plt.colorbar()\n",
    "plt.figure()\n",
    "plt.matshow(confusion_r, cmap='RdBu_r')\n",
    "plt.colorbar()\n",
    "print ('Diff with DeepShap ', confusion[-1][-2])\n",
    "print ('Diff with DeepLift ', confusion[-1][-3])\n",
    "print ('Diff with DeepLift (Rescale) ', confusion[-1][-4])\n",
    "print ('Diff with Int Gradients ', confusion[-1][-5])\n",
    "print ('Diff with GradInput ', confusion[-1][-6])\n",
    "\n",
    "\n",
    "print ('Pearson with DeepShap ', confusion_r[-1][-2])\n",
    "print ('Pearson with DeepLift ', confusion_r[-1][-3])\n",
    "print ('Pearson with DeepLift (rescale)', confusion_r[-1][-4])\n",
    "print ('Pearson with Int Gradients ', confusion_r[-1][-5])\n",
    "print ('Pearson with GradInput ', confusion_r[-1][-6])"
   ]
  },
  {
   "cell_type": "code",
   "execution_count": 11,
   "metadata": {
    "collapsed": false
   },
   "outputs": [
    {
     "name": "stdout",
     "output_type": "stream",
     "text": [
      "Running robustness test...\n",
      "Storing robustness results...\n",
      "Done\n"
     ]
    }
   ],
   "source": [
    "from deepexplain.tensorflow.accuracy_robustness import run_robustness_test\n",
    "original_maps = [a_gradin, a_intgrad, a_res, a_rc, a_shap, a_shaplud]\n",
    "names = ['GradInput', 'IntGrad', 'DeepLift (Recale)', 'DeepLift (RevCanc)', 'ApprShapley', 'SHAP']\n",
    "run_robustness_test(fModel, xs, ys, original_maps, names, 'Test', 1,\n",
    "                        result_path='.', mode='prediction', reduce_dim=None)\n",
    "\n"
   ]
  },
  {
   "cell_type": "code",
   "execution_count": null,
   "metadata": {
    "collapsed": false
   },
   "outputs": [],
   "source": [
    "from deepexplain.tensorflow.sensitivityn import run_sensitivity_test\n",
    "run_sensitivity_test(fModel, xs, ys, original_maps, names, 'Test',\n",
    "                        result_path='.', number_of_samples=1000)\n"
   ]
  }
 ],
 "metadata": {
  "kernelspec": {
   "display_name": "Python 3",
   "language": "python",
   "name": "python3"
  },
  "language_info": {
   "codemirror_mode": {
    "name": "ipython",
    "version": 3
   },
   "file_extension": ".py",
   "mimetype": "text/x-python",
   "name": "python",
   "nbconvert_exporter": "python",
   "pygments_lexer": "ipython3",
   "version": "3.5.2"
  }
 },
 "nbformat": 4,
 "nbformat_minor": 1
}
